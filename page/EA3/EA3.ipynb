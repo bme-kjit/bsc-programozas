{
    "cells": [
        {
            "cell_type": "code",
            "execution_count": 1,
            "id": "d54e8317",
            "metadata": {},
            "outputs": [],
            "source": [
                "# Segédcsomagok importálása (pl. a tutor vizualizációhoz és a példákhoz)\n",
                "import random\n",
                "from metakernel import register_ipython_magics\n",
                "\n",
                "register_ipython_magics()"
            ]
        },
        {
            "cell_type": "markdown",
            "id": "ea_title_md",
            "metadata": {},
            "source": [
                "# 3. Előadás: Vezérlési szerkezetek I., egyszerű adatszerkezetek\n",
                "\n",
                "## Tartalom\n",
                "\n",
                "1.  **Elágazások kezelése a kódban: a feltételes végrehajtás**\n",
                "    *   Logikai kifejezések és operátorok\n",
                "    *   Truthy és Falsy értékek\n",
                "    *   A rövidzár kiértékelés (short-circuit evaluation)\n",
                "    *   Programozott elágazások: `if-elif-else` szerkezet\n",
                "        *   Miért használunk logikai elágazást?\n",
                "        *   Lehetséges szerkezetek (`if`, `if-else`, `if-elif-else`)\n",
                "        *   `if` és `elif` közötti különbség\n",
                "        *   Logikai kifejezések használata elágazásokban\n",
                "        *   Egymásba ágyazott `if` utasítások\n",
                "        *   A `pass` utasítás\n",
                "\n",
                "2.  **Műveletek ismétlése: a `while` ciklus**\n",
                "    *   A `while` ciklus működése\n",
                "    *   Különleges utasítások a ciklusokban: `break`, `continue`\n",
                "    *   Példák `while` ciklus használatára\n",
                "        *   Szám átváltása kettes számrendszerbe\n",
                "        *   Szám prímtényezős felbontása\n",
                "        *   Gondoltam egy számra (Felhasználó tippel)\n",
                "        *   Gondoltam egy számra (Gép tippel - Intervallumfelezés)\n",
                "        *   Gyökkeresés intervallum felezéssel\n",
                "\n",
                "3.  **Egyszerű adatszerkezetek I.: sorozat típusok (`list`, `tuple`, `str`)**\n",
                "    *   Bevezetés a sorozatokba (`list`, `tuple`, `str`)\n",
                "    *   A sorozatok közös tulajdonságai\n",
                "        *   Az indexelés\n",
                "        *   A szeletelés (slicing)\n",
                "        *   Sorozatok hossza (`len()`)\n",
                "        *   Az `in` operátor\n",
                "    *   A lista (`list`), mint módosítható sorozat\n",
                "        *   Bővebben a módosíthatóságról (mutability)\n",
                "        *   Alapvető lista műveletek és metódusok\n",
                "        *   Beágyazott listák\n",
                "    *   A tuple (`tuple`), mint nem módosítható sorozat\n",
                "        *   Mikor használunk tuple-t lista helyett?\n",
                "    *   A string (`str`), mint karakterek sorozata\n",
                "        *   Alapvető string metódusok\n",
                "        *   Műveletek listák és stringek között\n",
                "        *   Keresés stringben\n",
                "    *   Kritikus koncepció: a hozzárendelés operátor (`=`) módosítható (mutable) típusok esetén (Aliasing)"
            ]
        },
        {
            "cell_type": "markdown",
            "id": "cc6450d9",
            "metadata": {},
            "source": [
                "## Elágazások kezelése a kódban: a feltételes végrehajtás\n"
            ]
        },
        {
            "cell_type": "markdown",
            "id": "logical_ops_md_intro",
            "metadata": {},
            "source": [
                "### Logikai kifejezések és operátorok\n",
                "\n",
                "Az elágazások és ciklusok feltételeiben gyakran használunk logikai értékeket (`True` vagy `False`) visszaadó kifejezéseket, hogy irányítsuk a program futását.\n",
                "\n",
                "Ezen kifejezések alapjai lehetnek összehasonlító operátorok (pl. `==`, `!=`, `<`, `>`, `<=`, `>=`), identitás operátorok (`is`, `is not`), tagsági operátorok (`in`, `not in`), vagy akár közvetlenül logikai értékek (`True`, `False`). Amennyiben több feltételt szeretnénk együttesen vizsgálni, logikai operátorokat használhatunk (`and`, `or`, `not`) a kifejezések összekapcsolására. (Ezekről részletesebben az előző előadáson volt szó: EA2.ipynb.)\n",
                "\n",
                "Ismétlésképpen a legfontosabb logikai operátorok:\n",
                "\n",
                "- **`and` (Logikai ÉS):** Akkor ad vissza `True`-t, ha _mindkét_ kifejezés igaz.\n",
                "  `feltetel1 and feltetel2`\n",
                "- **`or` (Logikai VAGY):** Akkor ad vissza `True`-t, ha _legalább az egyik_ kifejezés igaz.\n",
                "  `feltetel1 or feltetel2`\n",
                "- **`not` (Logikai NEM):** Megfordítja a kifejezés logikai értékét (`True` -> `False`, `False` -> `True`).\n",
                "  `not feltetel1`\n"
            ]
        },
        {
            "cell_type": "code",
            "execution_count": 2,
            "id": "logical_ops_example_code_v2",
            "metadata": {},
            "outputs": [
                {
                    "name": "stdout",
                    "output_type": "stream",
                    "text": [
                        "a < b: False\n",
                        "b < c: True\n",
                        "a < b and b < c: False\n",
                        "a > b or c < b: True\n",
                        "not (a > b): False\n"
                    ]
                }
            ],
            "source": [
                "a = 10\n",
                "b = 5\n",
                "c = 20\n",
                "\n",
                "print(\"a < b:\", a < b)  # False\n",
                "print(\"b < c:\", b < c)  # True\n",
                "\n",
                "# and\n",
                "print(\"a < b and b < c:\", a < b and b < c)  # False and True -> False\n",
                "\n",
                "# or\n",
                "print(\"a > b or c < b:\", a > b or c < b)  # True or False -> True\n",
                "\n",
                "# not\n",
                "print(\"not (a > b):\", not (a > b))  # not True -> False"
            ]
        },
        {
            "cell_type": "markdown",
            "id": "868c405e",
            "metadata": {},
            "source": [
                "Logikai értéke nem csak szigorúan véve a `bool` típusú objektumoknak lehet (azaz a `True`-nak és `False`-nak). Ciklusok és elágazások feltételeiben használhatunk bármilyen objektumot: ezekből a kiértékelés során a Python `truthy` vagy `falsy` értékeket állít elő. Egy ilyen feltételben a `truthy` értékek `True`-nak, a `falsy` értékek pedig `False`-nak számítanak.\n",
                "\n",
                "Mi számít `falsy` értéknek Pythonban? Az alábbiak:\n",
                "\n",
                "1. A `bool` típusú `False` érték.\n",
                "2. A numerikus típusok (pl. `int`, `float`, `complex`) nullával egyenlő értékei (pl. `0`, `0.0`, `0j`).\n",
                "3. Az üres sorozatok és gyűjtemények (pl. üres lista `[]`, üres tuple `()`, üres string `\"\"`, üres szótár `{}`, üres halmaz `set()`, üres `range(0)`).\n",
                "4. A `None` érték.\n",
                "\n",
                "Mi számít `truthy` értéknek Pythonban? Az összes többi érték, ami nem `falsy`. Például:\n",
                "\n",
                "1. A `bool` típusú `True` érték.\n",
                "2. A numerikus típusok nem nullával egyenlő értékei (pl. `1`, `-1`, `0.1`, `-0.1`, `3+4j`).\n",
                "3. Nem üres sorozatok és gyűjtemények (pl. `[0]`, `(1, 2)`, `\"hello\"`, `{\"key\": \"value\"}`, `{1, 2, 3}`, `range(1, 10)`).\n",
                "4. Bármilyen egyéb objektum példányai.\n",
                "\n",
                "Ezek a szabályok akkor is érvényesek, ha kifejezéseket `bool` típussá akarunk konvertáni a `bool()` beépített függvénnyel.\n"
            ]
        },
        {
            "cell_type": "code",
            "execution_count": 3,
            "id": "9ab451b7",
            "metadata": {},
            "outputs": [
                {
                    "name": "stdout",
                    "output_type": "stream",
                    "text": [
                        "False\n",
                        "False\n",
                        "False\n",
                        "False\n",
                        "False\n",
                        "False\n",
                        "False\n"
                    ]
                }
            ],
            "source": [
                "# Falsy értékek\n",
                "print(bool(0))  # False\n",
                "print(bool(0j))  # False\n",
                "print(bool([]))  # False\n",
                "print(bool({}))  # False\n",
                "print(bool(set()))  # False\n",
                "print(bool(None))  # False\n",
                "print(bool(\"\"))  # False"
            ]
        },
        {
            "cell_type": "code",
            "execution_count": 4,
            "id": "e4d115fc",
            "metadata": {},
            "outputs": [
                {
                    "name": "stdout",
                    "output_type": "stream",
                    "text": [
                        "True\n",
                        "True\n",
                        "True\n",
                        "True\n",
                        "True\n",
                        "True\n"
                    ]
                }
            ],
            "source": [
                "# Truthy értékek\n",
                "print(bool(42))  # True\n",
                "print(bool(-3.14))  # True\n",
                "print(bool([1, 2]))  # True\n",
                "print(bool({\"a\": 1}))  # True\n",
                "print(bool({1, 2}))  # True\n",
                "print(bool(\"Hello\"))  # True"
            ]
        },
        {
            "cell_type": "markdown",
            "id": "0ce5ebef",
            "metadata": {},
            "source": [
                "#### Néhány példa a logikai kifejezések értékének gyakorlására\n"
            ]
        },
        {
            "cell_type": "code",
            "execution_count": 5,
            "id": "1e9cd31b",
            "metadata": {},
            "outputs": [
                {
                    "name": "stdout",
                    "output_type": "stream",
                    "text": [
                        "True\n",
                        "True\n",
                        "True\n",
                        "True\n",
                        "True\n",
                        "True\n"
                    ]
                }
            ],
            "source": [
                "expr1 = not 0  # 0 (falsy) -> not False -> True\n",
                "print(expr1)  # True\n",
                "\n",
                "expr2 = True or 42 and []\n",
                "# Prececdencia: az `and` magasabb precedenciájú, mint az `or`. 42 (truthy) -> True, [] (falsy) -> False, True and False -> False, True or False -> True\n",
                "print(expr2)  # True\n",
                "\n",
                "expr3 = \"py\" in \"happy\" and \"py\" not in \"java\"\n",
                "# \"py\" in \"happy\" (tagsági operátor) -> True, \"py\" not in \"java\" -> True, True and True -> True\n",
                "print(expr3)  # True\n",
                "\n",
                "expr4 = 0 == False  # 0 (falsy) -> False, False == False -> True\n",
                "print(expr4)  # True\n",
                "\n",
                "expr5 = (None is False) or (\"a\" == \"A\".lower())\n",
                "# None is False -> False (nem azonos objektumok), \"a\" == \"a\" -> True, False or True -> True[\n",
                "print(expr5)  # True\n",
                "\n",
                "expr6 = 5 + 3 * 2 > 10 and 10 // 3 == 3 or not False\n",
                "# 5 + 3 * 2 = 11, 11 > 10 -> True, 10 // 3 = 3, 3 == 3 -> True, True and True -> True, not False -> True, True or True -> True\n",
                "print(expr6)  # True"
            ]
        },
        {
            "cell_type": "markdown",
            "id": "11afddf5",
            "metadata": {},
            "source": [
                "#### A rövidzár kiértékelés (short-circuit evaluation)\n",
                "\n",
                "- A Python a logikai operátorokat (`and`, `or`) tartalmazó kifejezések kiértékelésekor \"lusta\" módon jár el. Kihasználja ezen operátorok speciális tulajdonságait:\n",
                "  - `and` esetén, ha az első feltétel hamis, akkor biztosak lehetünk benne, hogy a teljes kifejezés is hamis lesz, így a többi feltételt már nem kell kiértékelni.\n",
                "  - `or` esetén, ha az első feltétel igaz, akkor biztosak lehetünk benne, hogy a teljes kifejezés is igaz lesz, tehát szintén nem kell a többi feltételt kiértékelni.\n",
                "- Ilyenkor tehát a Python \"fél úton\" abbahagyja a kifejezés kiértékelését, és \"rávágja\" a választ. Ezzel számítási időt takarít meg.\n"
            ]
        },
        {
            "cell_type": "code",
            "execution_count": 6,
            "id": "2cf1f7ab",
            "metadata": {},
            "outputs": [
                {
                    "name": "stdout",
                    "output_type": "stream",
                    "text": [
                        "5 osztható 0-val? False\n"
                    ]
                }
            ],
            "source": [
                "# oszthatóság vizsgálata: a % operátor megadja a (bal operandus)/(jobb operandus) osztás maradékát. Ha ez 0, akkor tudjuk, hogy osztható.\n",
                "number = 5\n",
                "divisor = 0  # speciális eset demonstrációs célból: oszthatóság vizsgálata 0-val\n",
                "is_divisible = divisor != 0 and (number % divisor) == 0\n",
                "print(f\"{number} osztható {divisor}-val? {is_divisible}\")\n",
                "\n",
                "# E példában tehát az `is_divisible` kifejezés kiértékelése leáll az első feltételnél (`divisor != 0`), hiszen annak értéke False.\n",
                "# Gondban is lennénk, ha végigfutna, hiszen az 5 % 0 művelet (maradékos osztás) 0-val való osztást tartalmaz."
            ]
        },
        {
            "cell_type": "code",
            "execution_count": 7,
            "id": "e6c43a98",
            "metadata": {
                "tags": [
                    "skip-execution"
                ]
            },
            "outputs": [
                {
                    "name": "stdout",
                    "output_type": "stream",
                    "text": [
                        "True\n"
                    ]
                }
            ],
            "source": [
                "# felhasználói bemenet: ha nem szám, akkor automatikusan False az `isPositive`, és nem próbáljuk meg számra konvertálni\n",
                "user_input = input(\"Adj meg egy számot: \")\n",
                "isPositive = user_input.isdigit() and int(user_input) > 0\n",
                "# as .isdigit() True értéket ad vissza, ha a vizsgált változó csak számjegyeket tartalmaz, False-t egyébként\n",
                "print(isPositive)"
            ]
        },
        {
            "cell_type": "code",
            "execution_count": 8,
            "id": "97e749b4",
            "metadata": {
                "tags": [
                    "skip-execution"
                ]
            },
            "outputs": [
                {
                    "name": "stdout",
                    "output_type": "stream",
                    "text": [
                        "Szia, Béla!\n"
                    ]
                }
            ],
            "source": [
                "user_name = input(\"Add meg a neved: \")  # adjunk meg egy üres stringet (nyomjunk entert)\n",
                "final_name = user_name or \"Béla\"\n",
                "# Ha a felhasználó nem adott meg nevet (üres string, azaz falsy), akkor úgy vesszük, hogy ő \"Béla\"\n",
                "print(f\"Szia, {final_name}!\")"
            ]
        },
        {
            "cell_type": "markdown",
            "id": "2c09f258",
            "metadata": {},
            "source": [
                "A fenti példa az `or` operátor egy speciális (Python-hű) működését mutatja be.\n",
                "Vizsgáljuk meg részletesebben, mi történik:\n",
                "\n",
                "- Amennyiben a `user_name` változó értéke egy üres string (ami `falsy`), a Python nem áll meg itt, hanem tovább lép a következő operandusra, ami a `\"Béla\"` string. Mivel ez egy nem üres string (`truthy`), így a teljes kifejezés értéke `\"Béla\"` lesz. Az `or` operátor esetén tehát a Python megkeresi az első `truthy` értéket, és azt adja vissza eredményül.\n",
                "- Amennyiben a `user_name` változó értéke egy nem üres string (azaz megadtunk egy nevet), akkor a Python itt, mint első operandusnál megáll a rövidzár kiértékelés miatt, és a teljes kifejezés értéke a `user_name` változó értéke lesz.\n"
            ]
        },
        {
            "cell_type": "markdown",
            "id": "if_intro_md_v2",
            "metadata": {},
            "source": [
                "### Programozott elágazások: `if-elif-else` szerkezet\n"
            ]
        },
        {
            "cell_type": "markdown",
            "id": "6b7e6301",
            "metadata": {},
            "source": [
                "#### Miért használunk logikai elágazást?"
            ]
        },
        {
            "cell_type": "markdown",
            "id": "904e07d9",
            "metadata": {},
            "source": [
                "- A program futása közben előfordul, hogy különböző helyzetekben más-más utasítást kell végrehajtani.\n",
                "- Az, hogy melyik utasítást hajtja végre a program, egy feltételtől függ.\n",
                "- A feltétel értéke (igaz vagy hamis) csak futásidőben derül ki.\n",
                "- Az `if` utasítás lehetővé teszi, hogy a program a feltétel alapján döntsön, és ennek megfelelően válasszon a végrehajtandó utasítások közül.\n",
                "\n",
                "<img  src=\"./if_pass.png\" width=\"1000\"/>"
            ]
        },
        {
            "cell_type": "markdown",
            "id": "if_structures_md_v2",
            "metadata": {},
            "source": [
                "#### Lehetséges szerkezetek:"
            ]
        },
        {
            "cell_type": "markdown",
            "id": "8ff6c967",
            "metadata": {},
            "source": [
                "- **Szimpla `if` feltétel:** Ha a feltétel igaz, a blokk végrehajtódik, különben nem történik semmi (a program továbbmegy).\n",
                "- **`if...else` feltétel:** Ha a feltétel igaz, az `if` blokk hajtódik végre. Ha hamis, az `else` blokk hajtódik végre. Mindenképpen lefut az egyik ág.\n",
                "- **`if...elif...else` szerkezet:** Több, egymást kizáró feltételt vizsgálhatunk sorban. Az első igaz feltételhez tartozó blokk fut le. Ha egyik `if` vagy `elif` feltétel sem igaz, akkor az (opcionális) `else` ág fut le.\n",
                "\n",
                "<img  src=\"if_all.png\" width=\"650\"/>\n",
                "\n",
                "**_Tanári jegyzet:_** _Az `else` ág használata gyakran jó gyakorlat, mert egyértelművé teszi, mi történjen, ha egyik explicit feltétel sem teljesül. Hibakezelésre vagy alapértelmezett esetek kezelésére is használható._\n"
            ]
        },
        {
            "cell_type": "code",
            "execution_count": 9,
            "id": "if_examples_code_v2",
            "metadata": {},
            "outputs": [
                {
                    "name": "stdout",
                    "output_type": "stream",
                    "text": [
                        "Ez mindig kiíródik\n"
                    ]
                }
            ],
            "source": [
                "x = 5  # Írjuk át az x-et a teszteléshez\n",
                "\n",
                "# Első logikai elágazás (csak if)\n",
                "if x > 10:  # \"logikai feltétel\"\n",
                "    print(\"x nagyobb mint 10\")  # \"csinál valamit\"\n",
                "\n",
                "print(\"Ez mindig kiíródik\")  # \"elágazás utáni utasítás\""
            ]
        },
        {
            "cell_type": "code",
            "execution_count": 10,
            "id": "f9763cfc",
            "metadata": {},
            "outputs": [
                {
                    "name": "stdout",
                    "output_type": "stream",
                    "text": [
                        "x nem nagyobb mint 5\n",
                        "Ez mindig kiíródik\n"
                    ]
                }
            ],
            "source": [
                "x = 5  # Írjuk át az x-et a teszteléshez\n",
                "\n",
                "# Második logikai elágazás (if-else)\n",
                "if x > 5:  # \"logikai feltétel\"\n",
                "    print(\"x nagyobb mint 5\")  # \"csinál valamit\"\n",
                "else:\n",
                "    print(\"x nem nagyobb mint 5\")  # \"mást csinál\"\n",
                "\n",
                "print(\"Ez mindig kiíródik\")  # \"elágazás utáni utasítás\""
            ]
        },
        {
            "cell_type": "code",
            "execution_count": 11,
            "id": "d9aed3bb",
            "metadata": {},
            "outputs": [
                {
                    "name": "stdout",
                    "output_type": "stream",
                    "text": [
                        "x egyenlő 5-tel\n"
                    ]
                }
            ],
            "source": [
                "x = 5  # Írjuk át az x-et a teszteléshez\n",
                "\n",
                "# Harmadik logikai elágazás (if-elif-else)\n",
                "if x > 5:\n",
                "    print(\"x nagyobb mint 5\")\n",
                "elif x == 5:\n",
                "    print(\"x egyenlő 5-tel\")\n",
                "else:  # x < 5\n",
                "    print(\"x kisebb mint 5\")"
            ]
        },
        {
            "cell_type": "markdown",
            "id": "3f63200f",
            "metadata": {},
            "source": [
                "#### `if` és `elif` közötti különbség"
            ]
        },
        {
            "cell_type": "markdown",
            "id": "1106a5d2",
            "metadata": {},
            "source": [
                "Gyakran úgy tűnhet, hogy az `elif` utasítás helyett több `if` utasítást is használhatnánk. Azonban fontos megérteni a különbséget.\n",
                "\n",
                "- Az `elif` használatával a feltételek egymást kizáróak, tehát ha egy feltétel igaz, a többi már nem kerül kiértékelésre.\n",
                "- Több `if` esetén minden feltétel külön kerül kiértékelésre, így előfordulhat, hogy több blokk is végrehajtódik, ha több feltétel is igaz.\n"
            ]
        },
        {
            "cell_type": "code",
            "execution_count": 12,
            "id": "e06a5e47",
            "metadata": {},
            "outputs": [
                {
                    "name": "stdout",
                    "output_type": "stream",
                    "text": [
                        "Jeles\n"
                    ]
                }
            ],
            "source": [
                "# Példának tekintsük a következő kódot (egyszerű osztályozási rendszer):\n",
                "test_score = 100\n",
                "if test_score >= 85:\n",
                "    print(\"Jeles\")\n",
                "elif test_score >= 70:\n",
                "    print(\"Jó\")\n",
                "elif test_score >= 55:\n",
                "    print(\"Közepes\")\n",
                "elif test_score >= 40:\n",
                "    print(\"Elégséges\")\n",
                "else:\n",
                "    print(\"Elégtelen\")"
            ]
        },
        {
            "cell_type": "code",
            "execution_count": 13,
            "id": "ba9b0f18",
            "metadata": {},
            "outputs": [
                {
                    "name": "stdout",
                    "output_type": "stream",
                    "text": [
                        "Jeles\n",
                        "Jó\n",
                        "Közepes\n",
                        "Elégséges\n"
                    ]
                }
            ],
            "source": [
                "# Mindez (helytelenül) így nézne ki több if-fel. Hibás, mert ha a pontszám pl. 100, akkor több feltétel is igaz, és a hozzájuk tartozó összes kód lefut.\n",
                "test_score = 100\n",
                "if test_score >= 85:\n",
                "    print(\"Jeles\")\n",
                "if test_score >= 70:\n",
                "    print(\"Jó\")\n",
                "if test_score >= 55:\n",
                "    print(\"Közepes\")\n",
                "if test_score >= 40:\n",
                "    print(\"Elégséges\")\n",
                "if test_score < 40:\n",
                "    print(\"Elégtelen\")"
            ]
        },
        {
            "cell_type": "markdown",
            "id": "46511852",
            "metadata": {},
            "source": [
                "#### Logikai kifejezések használata elágazásokban\n",
                "- Az előző fejezetben ismertetett logikai kifejezések mind felhasználhatók az elágazások feltételeiben."
            ]
        },
        {
            "cell_type": "code",
            "execution_count": 14,
            "id": "parity_check_code_v2",
            "metadata": {},
            "outputs": [
                {
                    "name": "stdout",
                    "output_type": "stream",
                    "text": [
                        "6 páros.\n"
                    ]
                }
            ],
            "source": [
                "number = 6\n",
                "\n",
                "# logikai kifejezés: ha a szám páros, akkor `number % 2` 0 értéket ad vissza. 0 == 0 -> True\n",
                "isEven = number % 2 == 0\n",
                "\n",
                "if isEven:\n",
                "    print(f\"{number} páros.\")\n",
                "else:\n",
                "    print(f\"{number} páratlan\")"
            ]
        },
        {
            "cell_type": "markdown",
            "id": "if_parity_md_v2",
            "metadata": {},
            "source": [
                "<img  src=\"paritas.png\" width=\"400\"/>"
            ]
        },
        {
            "cell_type": "code",
            "execution_count": 15,
            "id": "e5462f4c",
            "metadata": {
                "tags": [
                    "skip-execution"
                ]
            },
            "outputs": [
                {
                    "name": "stdout",
                    "output_type": "stream",
                    "text": [
                        "Te csak jó ember lehetsz, hiszen a kedvenc számod a 7!\n"
                    ]
                }
            ],
            "source": [
                "favorite_number = input(\"Mi a kedvenc egész számod? \")\n",
                "if favorite_number.isdigit() and int(favorite_number) == 7:\n",
                "    print(f\"Te csak jó ember lehetsz, hiszen a kedvenc számod a 7!\")\n",
                "elif not favorite_number.isdigit():\n",
                "    print(\"Ez nem egy egész szám!\")\n",
                "else:\n",
                "    print(f\"Á, a kedvenc számod a {favorite_number}, érdekes választás...\")"
            ]
        },
        {
            "cell_type": "markdown",
            "id": "nested_if_md_v2",
            "metadata": {},
            "source": [
                "#### Egymásba ágyazott `if` utasítások\n",
                "\n",
                "- Az `if`, `elif` és `else` blokkok tartalmazhatnak további `if-elif-else` szerkezeteket."
            ]
        },
        {
            "cell_type": "code",
            "execution_count": 16,
            "id": "nested_if_login_code_v2",
            "metadata": {
                "tags": [
                    "skip-execution"
                ]
            },
            "outputs": [
                {
                    "name": "stdout",
                    "output_type": "stream",
                    "text": [
                        "E-mail cím rendben.\n",
                        "Sikeres belépés!\n"
                    ]
                }
            ],
            "source": [
                "# Felhasználói adatok\n",
                "correct_email = \"user@example.com\"\n",
                "correct_password = \"jelszo1234\"\n",
                "\n",
                "# Inputok, amiket a felhasználó megad\n",
                "entered_email = input(\"Add meg az e-mail címed:\")  # E-mail bekérése\n",
                "entered_password = input(\"Add meg a jelszavad: \")  # Jelszó bekérése\n",
                "\n",
                "# Belépési ellenőrzés\n",
                "if entered_email == correct_email:\n",
                "    # Ha az e-mail cím helyes, akkor ellenőrizzük a jelszót\n",
                "    print(\"E-mail cím rendben.\")\n",
                "    if entered_password == correct_password:\n",
                "        print(\"Sikeres belépés!\")\n",
                "    else:\n",
                "        print(\"Hibás jelszó!\")\n",
                "else:\n",
                "    print(\"Hibás e-mail cím!\")"
            ]
        },
        {
            "cell_type": "markdown",
            "id": "4dffd75d",
            "metadata": {},
            "source": [
                "#### A `pass` utasítás"
            ]
        },
        {
            "cell_type": "markdown",
            "id": "9e9eb673",
            "metadata": {},
            "source": [
                "- A Pythonban a `pass` egy null operáció – amikor a program végrehajtja, nem történik semmi. Arra használjuk, hogy jelezzük egy blokk (pl. `if` ág, függvény, ciklusmag) szándékosan üres. Szintaktikailag kötelező utasítást írni egy blokkba, a `pass` ennek a követelménynek tesz eleget anélkül, hogy bármilyen műveletet végezne.\n",
                "- Gyakran használjuk:\n",
                "  - **Placeholder-ként:** Amikor egy `if` ág, `while` ciklus vagy függvény törzsét később szeretnénk megírni, de a program vázát már létrehozzuk. A `pass` használatával a kód szintaktikailag helyes marad.\n",
                "  - **Üres ágakban:** Ha egy feltétel teljesülése esetén szándékosan nem akarunk semmit tenni, de az `if` szerkezet megkívánja az ágat."
            ]
        },
        {
            "cell_type": "code",
            "execution_count": 17,
            "id": "0ec06c98",
            "metadata": {},
            "outputs": [
                {
                    "name": "stdout",
                    "output_type": "stream",
                    "text": [
                        "A kód futása folytatódik...\n"
                    ]
                }
            ],
            "source": [
                "x = -5\n",
                "\n",
                "# Tervezzük, hogy később kezeljük a negatív számokat és a nullát is,\n",
                "# de egyelőre csak a pozitív esettel foglalkozunk.\n",
                "if x > 0:\n",
                "    print(\"x pozitív.\")\n",
                "elif x < 0:\n",
                "    # TODO: Implementálni a negatív számok esetét.\n",
                "    pass\n",
                "else:\n",
                "    # TODO: Implementálni a nulla esetét.\n",
                "    pass\n",
                "\n",
                "print(\"A kód futása folytatódik...\")"
            ]
        },
        {
            "attachments": {},
            "cell_type": "markdown",
            "id": "while_intro_md_v2",
            "metadata": {},
            "source": [
                "## Műveletek ismétlése: a `while` ciklus\n"
            ]
        },
        {
            "cell_type": "markdown",
            "id": "255199b2",
            "metadata": {},
            "source": [
                "A `while` ciklust akkor használjuk, ha egy műveletet vagy műveletsort (kód blokkot) többször egymás után szeretnénk végrehajtani, _amíg_ egy adott feltétel igaz.\n",
                "\n",
                "Működési elv:\n",
                "\n",
                "1. Ellenőrizzük a ciklusfeltételt.\n",
                "2. Ha a feltétel igaz, végrehajtjuk a ciklusmagban lévő utasításokat.\n",
                "3. Visszaugrunk az 1. pontra (újra ellenőrizzük a feltételt).\n",
                "4. Ha a feltétel hamis, a ciklus véget ér, és a program folytatódik a ciklus utáni első utasítással.\n",
                "\n",
                "<img  src=\"while_flow.png\" width=\"400\"/>\n",
                "\n",
                "**_Tanári jegyzet:_** _Nagyon fontos kiemelni a végtelen ciklus veszélyét! Ha a ciklusfeltétel sosem válik hamissá (pl. elfelejtjük növelni/csökkenteni a ciklusváltozót, vagy a feltétel logikailag hibás), a program \"lefagy\". Mindig gondoskodni kell arról, hogy a feltétel előbb-utóbb hamis legyen._\n"
            ]
        },
        {
            "cell_type": "code",
            "execution_count": 18,
            "id": "while_simple_tutor_v2",
            "metadata": {},
            "outputs": [
                {
                    "name": "stdout",
                    "output_type": "stream",
                    "text": [
                        "1\n",
                        "2\n",
                        "3\n",
                        "4\n",
                        "5\n",
                        "6\n"
                    ]
                }
            ],
            "source": [
                "# Számoljunk el 6-ig\n",
                "counter = 1\n",
                "while counter <= 6:\n",
                "    # addig fut a ciklusban lévő kódrészlet (ciklusmag), amíg a feltétel (counter <= 6) igaz\n",
                "    print(counter)\n",
                "    counter += 1  # Fontos: növelni kell a ciklusváltozót, különben a feltétel örökösen igaz marad, és végtelen ciklusba kerülünk!\n",
                "\n",
                "# Próbáljuk ki, mi történik, ha elfelejtjük növelni a counter változót. (ezekre az esetekre találták a cella melletti négyzet alakú stop gombot:))"
            ]
        },
        {
            "cell_type": "code",
            "execution_count": 19,
            "id": "4b15dae4",
            "metadata": {},
            "outputs": [
                {
                    "data": {
                        "text/html": [
                            "\n",
                            "        <iframe\n",
                            "            width=\"100%\"\n",
                            "            height=\"500\"\n",
                            "            src=\"https://pythontutor.com/iframe-embed.html#code=%23%20ugyanez%20tutorral%20%28ne%20felejts%C3%BCk%20el%20futtatni%20a%20Notebook%20els%C5%91%20cell%C3%A1j%C3%A1t%29%0A%23%20Sz%C3%A1moljunk%20el%206-ig%3A%20n%C3%A9zz%C3%BCk%2C%20hogy%20a%20bal%20oldali%20piros%20ny%C3%ADl%20hogyan%20mozog%20a%20sorok%20k%C3%B6z%C3%B6tt%2C%20ahogy%20l%C3%A9ptetj%C3%BCk%20a%20futtat%C3%A1st%20a%20%60Next%20%3E%60%20gombbal%0Acounter%20%3D%201%0Awhile%20counter%20%3C%3D%206%3A%0A%20%20%20%20print%28counter%29%0A%20%20%20%20counter%20%2B%3D%201%20%20%23%20Fontos%3A%20n%C3%B6velni%20kell%20a%20ciklusv%C3%A1ltoz%C3%B3t%21%0A&origin=opt-frontend.js&cumulative=false&heapPrimitives=false&textReferences=false&py=3&rawInputLstJSON=%5B%5D&curInstr=0&codeDivWidth=350&codeDivHeight=400\"\n",
                            "            frameborder=\"0\"\n",
                            "            allowfullscreen\n",
                            "            \n",
                            "        ></iframe>\n",
                            "        "
                        ],
                        "text/plain": [
                            "<IPython.lib.display.IFrame at 0x11274f190>"
                        ]
                    },
                    "metadata": {},
                    "output_type": "display_data"
                }
            ],
            "source": [
                "%%tutor\n",
                "# ugyanez tutorral (ne felejtsük el futtatni a Notebook első celláját)\n",
                "# Számoljunk el 6-ig: nézzük, hogy a bal oldali piros nyíl hogyan mozog a sorok között, ahogy léptetjük a futtatást a `Next >` gombbal\n",
                "counter = 1\n",
                "while counter <= 6:\n",
                "    print(counter)\n",
                "    counter += 1  # Fontos: növelni kell a ciklusváltozót!"
            ]
        },
        {
            "attachments": {},
            "cell_type": "markdown",
            "id": "break_continue_md_v2",
            "metadata": {},
            "source": [
                "### Különleges utasítások a ciklusokban: `break`, `continue`\n",
                "\n",
                "- **`break`:** Azonnal megszakítja a ciklust (a legbelső ciklust, amiben szerepel), és a program a ciklus utáni első utasítással folytatódik.\n",
                "- **`continue`:** Azonnal a ciklus következő iterációjára ugrik. A `continue` utáni utasítások az aktuális iterációban már nem hajtódnak végre.\n",
                "\n",
                "<img  src=\"while_special.png\" width=\"500\"/>\n"
            ]
        },
        {
            "cell_type": "code",
            "execution_count": 20,
            "id": "6ed5f8e4",
            "metadata": {},
            "outputs": [
                {
                    "name": "stdout",
                    "output_type": "stream",
                    "text": [
                        "1\n",
                        "A 2-t átugorjuk a continue miatt.\n",
                        "3\n",
                        "Megállunk a 4-nél a break miatt.\n",
                        "Ciklus vége\n"
                    ]
                }
            ],
            "source": [
                "counter_bc = 0\n",
                "while counter_bc < 6:\n",
                "    counter_bc += 1\n",
                "    if counter_bc == 2:\n",
                "        print(\"A 2-t átugorjuk a continue miatt.\")\n",
                "        continue  # Átugorja a 2 kiírását\n",
                "    if counter_bc == 4:\n",
                "        print(\"Megállunk a 4-nél a break miatt.\")\n",
                "        break  # Megállítja a ciklust\n",
                "    print(counter_bc)\n",
                "\n",
                "print(\"Ciklus vége\")"
            ]
        },
        {
            "cell_type": "code",
            "execution_count": 21,
            "id": "break_continue_tutor_v2",
            "metadata": {},
            "outputs": [
                {
                    "data": {
                        "text/html": [
                            "\n",
                            "        <iframe\n",
                            "            width=\"100%\"\n",
                            "            height=\"500\"\n",
                            "            src=\"https://pythontutor.com/iframe-embed.html#code=counter_bc%20%3D%200%0Awhile%20counter_bc%20%3C%206%3A%0A%20%20%20%20counter_bc%20%2B%3D%201%0A%20%20%20%20if%20counter_bc%20%3D%3D%202%3A%0A%20%20%20%20%20%20%20%20print%28%22A%202-t%20%C3%A1tugorjuk%20a%20continue%20miatt.%22%29%0A%20%20%20%20%20%20%20%20continue%20%20%23%20%C3%81tugorja%20a%202%20ki%C3%ADr%C3%A1s%C3%A1t%0A%20%20%20%20if%20counter_bc%20%3D%3D%204%3A%0A%20%20%20%20%20%20%20%20print%28%22Meg%C3%A1llunk%20a%204-n%C3%A9l%20a%20break%20miatt.%22%29%0A%20%20%20%20%20%20%20%20break%20%20%23%20Meg%C3%A1ll%C3%ADtja%20a%20ciklust%0A%20%20%20%20print%28counter_bc%29%0A%0Aprint%28%22Ciklus%20v%C3%A9ge%22%29%0A&origin=opt-frontend.js&cumulative=false&heapPrimitives=false&textReferences=false&py=3&rawInputLstJSON=%5B%5D&curInstr=0&codeDivWidth=350&codeDivHeight=400\"\n",
                            "            frameborder=\"0\"\n",
                            "            allowfullscreen\n",
                            "            \n",
                            "        ></iframe>\n",
                            "        "
                        ],
                        "text/plain": [
                            "<IPython.lib.display.IFrame at 0x11275e400>"
                        ]
                    },
                    "metadata": {},
                    "output_type": "display_data"
                }
            ],
            "source": [
                "%%tutor\n",
                "counter_bc = 0\n",
                "while counter_bc < 6:\n",
                "    counter_bc += 1\n",
                "    if counter_bc == 2:\n",
                "        print(\"A 2-t átugorjuk a continue miatt.\")\n",
                "        continue  # Átugorja a 2 kiírását\n",
                "    if counter_bc == 4:\n",
                "        print(\"Megállunk a 4-nél a break miatt.\")\n",
                "        break  # Megállítja a ciklust\n",
                "    print(counter_bc)\n",
                "\n",
                "print(\"Ciklus vége\")"
            ]
        },
        {
            "cell_type": "markdown",
            "id": "while_examples_md_v2",
            "metadata": {},
            "source": [
                "### Példák `while` ciklus használatára\n"
            ]
        },
        {
            "cell_type": "markdown",
            "id": "binary_conversion_md_v2",
            "metadata": {},
            "source": [
                "#### Példa: Szám átváltása kettes számrendszerbe\n"
            ]
        },
        {
            "cell_type": "code",
            "execution_count": 22,
            "id": "binary_conversion_tutor_v2",
            "metadata": {},
            "outputs": [
                {
                    "name": "stdout",
                    "output_type": "stream",
                    "text": [
                        "A(z) 14 kettes számrendszerbeli alakja: 1110\n"
                    ]
                }
            ],
            "source": [
                "number_to_convert = 14\n",
                "binary_representation_str = \"\"  # Stringként építjük fel\n",
                "current_number = number_to_convert\n",
                "\n",
                "if current_number == 0:\n",
                "    binary_representation_str = \"0\"\n",
                "else:\n",
                "    while current_number > 0:\n",
                "        remainder = current_number % 2\n",
                "        # A maradékot (0 vagy 1) a string elejére fűzzük\n",
                "        binary_representation_str = str(remainder) + binary_representation_str\n",
                "        current_number = (\n",
                "            current_number // 2\n",
                "        )  # Egész osztás 2-vel. Írhatnánk current_number //= 2 alakban is\n",
                "\n",
                "print(\n",
                "    f\"A(z) {number_to_convert} kettes számrendszerbeli alakja: {binary_representation_str}\"\n",
                ")"
            ]
        },
        {
            "cell_type": "markdown",
            "id": "prime_factorization_md_v2",
            "metadata": {},
            "source": [
                "#### Példa: Szám prímtényezős felbontása\n",
                "\n",
                "- itt már használjuk a listákat is, lsd. következő fejezet\n"
            ]
        },
        {
            "cell_type": "code",
            "execution_count": 23,
            "id": "prime_factorization_code_v2",
            "metadata": {},
            "outputs": [
                {
                    "name": "stdout",
                    "output_type": "stream",
                    "text": [
                        "A(z) 120 prímtényezői:\n",
                        "2 \n",
                        "2 \n",
                        "2 \n",
                        "3 \n",
                        "5 \n",
                        "\n"
                    ]
                }
            ],
            "source": [
                "number = 120\n",
                "divisor = 2\n",
                "factors = []\n",
                "temp_number = number\n",
                "\n",
                "while divisor * divisor <= temp_number:\n",
                "    if temp_number % divisor == 0:\n",
                "        factors.append(divisor)\n",
                "        temp_number //= divisor  # Csökkentjük a számot az osztóval\n",
                "    else:\n",
                "        divisor += 1  # Növeljük az osztót, ha nem osztható\n",
                "\n",
                "# Ha a végén maradt szám nagyobb mint 1, az is prímtényező\n",
                "if temp_number > 1:\n",
                "    factors.append(temp_number)\n",
                "\n",
                "print(f\"A(z) {number} prímtényezői:\")\n",
                "i = 0\n",
                "while i < len(factors):\n",
                "    print(f\"{factors[i]} \")\n",
                "    i += 1\n",
                "print()  # Új sor a végén"
            ]
        },
        {
            "cell_type": "markdown",
            "id": "guess_number_user_md_v2",
            "metadata": {},
            "source": [
                "#### Példa: Gondoltam egy számra (Felhasználó tippel)\n"
            ]
        },
        {
            "cell_type": "code",
            "execution_count": 24,
            "id": "guess_number_user_code_v2",
            "metadata": {
                "tags": [
                    "skip-execution"
                ]
            },
            "outputs": [
                {
                    "name": "stdout",
                    "output_type": "stream",
                    "text": [
                        "Gondoltam egy számra 1 és 100 között. Próbáld kitalálni!\n",
                        "Túl alacsony! Próbáld újra.\n",
                        "Túl alacsony! Próbáld újra.\n",
                        "Túl alacsony! Próbáld újra.\n",
                        "Túl alacsony! Próbáld újra.\n",
                        "Gratulálok! Eltaláltad a számot (99) 5 próbálkozásból.\n"
                    ]
                }
            ],
            "source": [
                "# a random csomag használatához ne felejtsük el futtatni a Notebook első celláját\n",
                "secret_number = random.randint(1, 100)  # Véletlen szám 1 és 100 között\n",
                "guess = None\n",
                "attempts = 0\n",
                "\n",
                "print(\"Gondoltam egy számra 1 és 100 között. Próbáld kitalálni!\")\n",
                "\n",
                "# Amíg a tipp nem egyezik meg a titkos számmal\n",
                "while guess != secret_number:\n",
                "    try:\n",
                "        guess_str = input(\"Tippelj egy számot 1 és 100 között: \")\n",
                "        guess = int(guess_str)\n",
                "        attempts += 1\n",
                "\n",
                "        if guess < 1 or guess > 100:\n",
                "            print(\"A tippnek 1 és 100 között kell lennie!\")\n",
                "        elif guess < secret_number:\n",
                "            print(\"Túl alacsony! Próbáld újra.\")\n",
                "        elif guess > secret_number:\n",
                "            print(\"Túl magas! Próbáld újra.\")\n",
                "        else:\n",
                "            print(\n",
                "                f\"Gratulálok! Eltaláltad a számot ({secret_number}) {attempts} próbálkozásból.\"\n",
                "            )\n",
                "    except ValueError:  # Ez fut le akkor is, ha Escape-et nyomunk\n",
                "        print(\"Ez nem érvényes szám.\")\n",
                "        break  # Kilépünk a játékból."
            ]
        },
        {
            "cell_type": "markdown",
            "id": "guess_number_computer_md_v2",
            "metadata": {},
            "source": [
                "#### Példa: Gondoltam egy számra (Gép tippel - Intervallumfelezés)\n"
            ]
        },
        {
            "cell_type": "code",
            "execution_count": 25,
            "id": "guess_number_computer_tutor_v2",
            "metadata": {
                "tags": [
                    "skip-execution"
                ]
            },
            "outputs": [
                {
                    "name": "stdout",
                    "output_type": "stream",
                    "text": [
                        "Gondolj egy számra 0 és 100 között, a gép kitalálja!\n",
                        "Válaszok: n = nagyobb, k = kisebb, e = eltalálta\n",
                        "A gép tippje: 50\n",
                        "A gép eltalálta a számot: 50\n"
                    ]
                }
            ],
            "source": [
                "print(\"Gondolj egy számra 0 és 100 között, a gép kitalálja!\")\n",
                "\n",
                "# Intervallum kezdő és végpontjai\n",
                "low_bound = 0\n",
                "high_bound = 100\n",
                "computer_guess = None\n",
                "user_feedback = None\n",
                "\n",
                "print(\"Válaszok: n = nagyobb, k = kisebb, e = eltalálta\")\n",
                "\n",
                "while user_feedback != \"e\":\n",
                "    # Új tipp az intervallum közepén\n",
                "    if low_bound > high_bound:\n",
                "        print(\"Hiba: Ellentmondásos válaszokat adtál.\")\n",
                "        break  # Kilépés a ciklusból hiba esetén\n",
                "\n",
                "    computer_guess = (low_bound + high_bound) // 2  # Egész osztás\n",
                "    print(f\"A gép tippje: {computer_guess}\")\n",
                "\n",
                "    # Felhasználói visszajelzés bekérése\n",
                "    user_feedback = input(\n",
                "        \"A szám nagyobb (n), kisebb (k), vagy eltaláltam (e)? \"\n",
                "    ).lower()\n",
                "\n",
                "    if user_feedback == \"e\":  # Eltalálta\n",
                "        print(f\"A gép eltalálta a számot: {computer_guess}\")\n",
                "    elif user_feedback == \"n\":  # A gondolt szám nagyobb\n",
                "        low_bound = computer_guess + 1\n",
                "    elif user_feedback == \"k\":  # A gondolt szám kisebb\n",
                "        high_bound = computer_guess - 1\n",
                "    else:\n",
                "        break\n",
                "\n",
                "if user_feedback != \"e\" and low_bound <= high_bound:\n",
                "    print(\"Valami hiba történt a ciklus során.\")"
            ]
        },
        {
            "cell_type": "markdown",
            "id": "sqrt_search_md_v2",
            "metadata": {},
            "source": [
                "#### Példa: Gyökkeresés intervallum felezéssel\n"
            ]
        },
        {
            "cell_type": "code",
            "execution_count": 26,
            "id": "sqrt_search_code_v2",
            "metadata": {},
            "outputs": [
                {
                    "name": "stdout",
                    "output_type": "stream",
                    "text": [
                        "A 16 közelítő négyzetgyöke: 4.0\n",
                        "Iterációk száma: 1\n"
                    ]
                }
            ],
            "source": [
                "target_number = 16  # A szám, amelynek a négyzetgyökét keressük\n",
                "epsilon = 1e-15  # Epsilon (kívánt pontosság)\n",
                "max_iterations = 1000  # Maximális iterációk száma (végtelen ciklus ellen)\n",
                "\n",
                "sqrt_result = None\n",
                "\n",
                "if target_number < 0:\n",
                "    print(\"Negatív számnak nincs valós négyzetgyöke.\")\n",
                "elif target_number == 0:\n",
                "    sqrt_result = 0\n",
                "    iteration_count = 0\n",
                "    print(f\"A {target_number} négyzetgyöke: {sqrt_result}\")\n",
                "    print(f\"Iterációk száma: {iteration_count}\")\n",
                "else:\n",
                "    # Kezdeti intervallum\n",
                "    low = 0\n",
                "    high = max(1.0, float(target_number))  # Biztosítja, hogy high >= 1 és float\n",
                "    mid_guess = (low + high) / 2.0\n",
                "    iteration_count = 0\n",
                "\n",
                "    # Addig iterálunk, amíg a (mid_guess)^2 elég közel nem kerül a target_number-hez\n",
                "    # vagy el nem érjük a maximális iterációszámot\n",
                "    while (\n",
                "        abs(mid_guess * mid_guess - target_number) > epsilon\n",
                "        and iteration_count < max_iterations\n",
                "    ):\n",
                "        mid_squared = mid_guess * mid_guess  # A középpont négyzete\n",
                "\n",
                "        if mid_squared < target_number:\n",
                "            # Ha a négyzet kisebb, a gyök a felső félintervallumban van\n",
                "            low = mid_guess\n",
                "        else:\n",
                "            # Ha a négyzet nagyobb (vagy egyenlő), a gyök az alsó félintervallumban van\n",
                "            high = mid_guess\n",
                "\n",
                "        mid_guess = (low + high) / 2.0  # Új középpont számítása\n",
                "        iteration_count += 1  # Iterációs számláló növelése\n",
                "\n",
                "    sqrt_result = mid_guess\n",
                "    print(f\"A {target_number} közelítő négyzetgyöke: {sqrt_result}\")\n",
                "    print(f\"Iterációk száma: {iteration_count}\")"
            ]
        },
        {
            "cell_type": "markdown",
            "id": "649a676a",
            "metadata": {},
            "source": [
                "## Egyszerű adatszerkezetek I.: sorozat típusok (`list`, `tuple`, `str`)\n"
            ]
        },
        {
            "cell_type": "markdown",
            "id": "0989dbbf",
            "metadata": {},
            "source": [
                "A Pythonban a sorozatok (sequences) olyan adatszerkezetek, amelyek elemek **rendezett** gyűjteményei. Mivel rendezettek, minden elemnek meghatározott pozíciója van. Ebből a közös tulajdonságból fakad, hogy számos művelet ugyanúgy működik rajtuk, függetlenül attól, hogy listáról (`list`), tuple-ről (`tuple`) vagy stringről (`str`) van szó.\n",
                "\n",
                "Elsőként következzenek röviden a sorozatok létrehozásának módjai, valamint a legfontosabb közös tulajdonságaik és műveleteik. Utána részletesebben is egyenként megvizsgáljuk őket.\n"
            ]
        },
        {
            "cell_type": "markdown",
            "id": "0d7b0ce5",
            "metadata": {},
            "source": [
                "### Bevezetés"
            ]
        },
        {
            "cell_type": "markdown",
            "id": "81328c0e",
            "metadata": {},
            "source": [
                "A lista (`list`)\n",
                "\n",
                "- A lista egy **módosítható** (mutable) sorozat, amely tetszőleges típusú elemeket tartalmazhat.\n",
                "- A lista elemei lehetnek különböző típusúak is (pl. számok, stringek, más listák, stb.).\n",
                "- A lista létrehozására szögletes zárójeleket `[]` használunk, és az elemeket vesszővel `,` választjuk el egymástól.\n"
            ]
        },
        {
            "cell_type": "code",
            "execution_count": 27,
            "id": "95879607",
            "metadata": {},
            "outputs": [
                {
                    "name": "stdout",
                    "output_type": "stream",
                    "text": [
                        "[10, 20, '30', (3+2j), 'alma']\n"
                    ]
                }
            ],
            "source": [
                "my_list = [10, 20, \"30\", 3 + 2j, \"alma\"]\n",
                "print(my_list)"
            ]
        },
        {
            "cell_type": "markdown",
            "id": "57f0afd2",
            "metadata": {},
            "source": [
                "A tuple (`tuple`)\n",
                "\n",
                "- A tuple egy **módosíthatatlan** (immutable) sorozat, amely tetszőleges típusú elemeket tartalmazhat.\n",
                "- A tuple elemei is lehetnek különböző típusúak.\n",
                "- A tuple létrehozására kerek zárójeleket `()` használunk, és az elemeket vesszővel `,` választjuk el egymástól.\n"
            ]
        },
        {
            "cell_type": "code",
            "execution_count": 28,
            "id": "e86cd4c6",
            "metadata": {},
            "outputs": [
                {
                    "name": "stdout",
                    "output_type": "stream",
                    "text": [
                        "(10, 20, '30', (3+2j), 'alma')\n",
                        "(42,)\n"
                    ]
                }
            ],
            "source": [
                "my_tuple = (10, 20, \"30\", 3 + 2j, \"alma\")\n",
                "print(my_tuple)\n",
                "\n",
                "# Egy elemű tuple létrehozása\n",
                "single_element_tuple = (42,)  # Figyeljünk a vesszőre, különben nem tuple lesz!\n",
                "print(single_element_tuple)"
            ]
        },
        {
            "cell_type": "markdown",
            "id": "c6a49474",
            "metadata": {},
            "source": [
                "A string (`str`)\n",
                "\n",
                "- A string egy **módosíthatatlan** (immutable) sorozat, amely karakterekből áll.\n",
                "- A string elemei mindig karakterek (string típusúak).\n",
                "- A string létrehozására egyszeres (`'...'`), dupla (`\"...\"`) vagy háromszoros idézőjeleket (`'''...'''` vagy `\"\"\"...\"\"\"`) használunk.\n"
            ]
        },
        {
            "cell_type": "code",
            "execution_count": 29,
            "id": "45cf21f1",
            "metadata": {},
            "outputs": [
                {
                    "name": "stdout",
                    "output_type": "stream",
                    "text": [
                        "Hello, World!\n"
                    ]
                }
            ],
            "source": [
                "my_string = \"Hello, World!\"\n",
                "print(my_string)"
            ]
        },
        {
            "cell_type": "markdown",
            "id": "745b8485",
            "metadata": {},
            "source": [
                "### A sorozatok közös tulajdonságai\n"
            ]
        },
        {
            "cell_type": "markdown",
            "id": "44b08c51",
            "metadata": {},
            "source": [
                "####  Az indexelés: a sorozat elemeinek elérése pozíció alapján a `[]` operátor segítségével.\n",
                "  - Minden sorozat elemeit elérhetjük a sorszámuk, azaz az **indexük** alapján.\n",
                "  - Pozitív indexelés: Az indexelés **0-val kezdődik**! Az első elem indexe `0`, a másodiké `1`, és így tovább.\n",
                "  - Negatív indexelés: A sorozat végétől is indexelhetünk. Az utolsó elem indexe `-1`, az utolsó előttié `-2`, stb.\n"
            ]
        },
        {
            "cell_type": "code",
            "execution_count": 30,
            "id": "60cf115b",
            "metadata": {},
            "outputs": [
                {
                    "name": "stdout",
                    "output_type": "stream",
                    "text": [
                        "--- Pozitív indexelés ---\n",
                        "A ['a', 'b', 'c', 'd'] lista 0. eleme: a\n",
                        "A (10, 20, 30, 40) tuple 2. eleme: 30\n",
                        "A Python string 3. eleme (karaktere): h\n",
                        "\n",
                        "--- Negatív indexelés ---\n",
                        "Lista utolsó eleme: d\n",
                        "Tuple utolsó előtti eleme: 30\n",
                        "String utolsó eleme: n\n"
                    ]
                }
            ],
            "source": [
                "# Ugyanaz a logika működik listán, tuple-ön és stringen is.\n",
                "my_list = [\"a\", \"b\", \"c\", \"d\"]\n",
                "my_tuple = (10, 20, 30, 40)\n",
                "my_string = \"Python\"\n",
                "\n",
                "# --- Pozitív indexelés ---\n",
                "print(\"--- Pozitív indexelés ---\")\n",
                "print(f\"A {my_list} lista 0. eleme: {my_list[0]}\")  # Eredmény: 'a'\n",
                "print(f\"A {my_tuple} tuple 2. eleme: {my_tuple[2]}\")  # Eredmény: 30\n",
                "print(f\"A {my_string} string 3. eleme (karaktere): {my_string[3]}\")  # Eredmény: 'h'\n",
                "\n",
                "# --- Negatív indexelés ---\n",
                "print(\"\\n--- Negatív indexelés ---\")\n",
                "print(f\"Lista utolsó eleme: {my_list[-1]}\")  # Eredmény: 'd'\n",
                "print(f\"Tuple utolsó előtti eleme: {my_tuple[-2]}\")  # Eredmény: 30\n",
                "print(f\"String utolsó eleme: {my_string[-1]}\")  # Eredmény: 'n'"
            ]
        },
        {
            "cell_type": "code",
            "execution_count": 31,
            "id": "d14f32a8",
            "metadata": {},
            "outputs": [
                {
                    "name": "stdout",
                    "output_type": "stream",
                    "text": [
                        "Hiba: list index out of range\n"
                    ]
                }
            ],
            "source": [
                "# A túlindexelés hibát okoz: olyan indexet használunk, ami kívül esik a sorozat határain\n",
                "#           0.   1.   2.   3.\n",
                "my_list = [\"a\", \"b\", \"c\", \"d\"]\n",
                "try:\n",
                "    print(my_list[4])  # Nincs 4. indexű elem\n",
                "except IndexError as e:\n",
                "    print(f\"Hiba: {e}\")  # → IndexError: list index out of range"
            ]
        },
        {
            "cell_type": "markdown",
            "id": "866a2f8c",
            "metadata": {},
            "source": [
                "#### A szeletelés (slicing)\n",
                "  - egy egybefüggő rész kiválasztása a sorozatból a `start:stop:step` szintaxis segítségével a `[]` operátorban: `sorozat[start:stop:step]`\n",
                "  - `start`: A kezdő index (ezt még tartalmazni fogja a szelet). Ha elhagyjuk, az alapértelmezett érték `0`.\n",
                "  - `stop`: A záró index (ezt már **nem** fogja tartalmazni). Ha elhagyjuk, az alapértelmezett érték a sorozat hossza.\n",
                "  - `step`: A lépésköz. Ha elhagyjuk, az alapértelmezett érték `1`.\n"
            ]
        },
        {
            "cell_type": "code",
            "execution_count": 32,
            "id": "7cc729dc",
            "metadata": {},
            "outputs": [
                {
                    "name": "stdout",
                    "output_type": "stream",
                    "text": [
                        "Eredeti lista: [0, 10, 20, 30, 40, 50, 60, 70, 80, 90]\n",
                        "Szelet [2:5]: [20, 30, 40]\n",
                        "Szelet [:4]: [0, 10, 20, 30]\n",
                        "Szelet [6:]: [60, 70, 80, 90]\n",
                        "Szelet [::2]: [0, 20, 40, 60, 80]\n",
                        "Szelet [::-1]: [90, 80, 70, 60, 50, 40, 30, 20, 10, 0]\n"
                    ]
                }
            ],
            "source": [
                "# Példa lista szeletelésére (string és tuple esetén is ugyanígy működik)\n",
                "data = [0, 10, 20, 30, 40, 50, 60, 70, 80, 90]\n",
                "\n",
                "print(f\"Eredeti lista: {data}\")\n",
                "\n",
                "# Egy rész kinyerése a közepéről\n",
                "# A 2., 3., 4. indexű elemek (az 5. már nem!)\n",
                "print(f\"Szelet [2:5]: {data[2:5]}\")  # Eredmény: [20, 30, 40]\n",
                "\n",
                "# Az elejétől (mivel nem adtunk meg startot) egy adott indexig\n",
                "print(f\"Szelet [:4]: {data[:4]}\")  # Eredmény: [0, 10, 20, 30]\n",
                "\n",
                "# Egy adott indextől a végéig (mivel nem adtunk meg stopot)\n",
                "print(f\"Szelet [6:]: {data[6:]}\")  # Eredmény: [60, 70, 80, 90]\n",
                "\n",
                "# Minden második elem (se startot, se stopot nem adtunk meg, csak stepet)\n",
                "print(f\"Szelet [::2]: {data[::2]}\")  # Eredmény: [0, 20, 40, 60, 80]\n",
                "\n",
                "# A lista megfordítása (haladó példa): nem adunk meg startot és stopot, a lépésközt -1-re állítjuk, így visszafelé lépkedünk\n",
                "print(\n",
                "    f\"Szelet [::-1]: {data[::-1]}\"\n",
                ")  # Eredmény: [90, 80, 70, 60, 50, 40, 30, 20, 10, 0]"
            ]
        },
        {
            "cell_type": "markdown",
            "id": "2a6cfc52",
            "metadata": {},
            "source": [
                "#### Sorozatok hossza\n",
                "- A beépített `len()` függvény megadja, hogy egy sorozat hány elemet tartalmaz.\n"
            ]
        },
        {
            "cell_type": "code",
            "execution_count": 33,
            "id": "4ba99265",
            "metadata": {},
            "outputs": [
                {
                    "name": "stdout",
                    "output_type": "stream",
                    "text": [
                        "A lista hossza: 6\n",
                        "A string hossza: 5\n",
                        "Egy üres tuple hossza: 0\n"
                    ]
                }
            ],
            "source": [
                "my_list = [1, 1, 2, 3, 5, 8]\n",
                "my_string = \"hello\"\n",
                "my_tuple = ()  # üres tuple\n",
                "\n",
                "print(f\"A lista hossza: {len(my_list)}\")  # Eredmény: 6\n",
                "print(f\"A string hossza: {len(my_string)}\")  # Eredmény: 5\n",
                "print(f\"Egy üres tuple hossza: {len(my_tuple)}\")  # Eredmény: 0"
            ]
        },
        {
            "cell_type": "markdown",
            "id": "05b30fed",
            "metadata": {},
            "source": [
                "#### Az `in` operátor\n",
                "  - Az `in` operátorral ellenőrizhetjük, hogy egy adott elem megtalálható-e a sorozatban. Az eredmény `True` vagy `False`.\n"
            ]
        },
        {
            "cell_type": "code",
            "execution_count": 34,
            "id": "7aada4fc",
            "metadata": {},
            "outputs": [
                {
                    "name": "stdout",
                    "output_type": "stream",
                    "text": [
                        "True\n",
                        "True\n",
                        "False\n",
                        "True\n",
                        "True\n",
                        "True\n",
                        "False\n"
                    ]
                }
            ],
            "source": [
                "my_tuple = (10, 20, \"30\", 3 + 2j, \"alma\")\n",
                "print(10 in my_tuple)  # Eredmény: True\n",
                "print(\"alma\" in my_tuple)  # Eredmény: True\n",
                "print(5 in my_tuple)  # Eredmény: False\n",
                "\n",
                "my_string = \"Hello, World!\"\n",
                "print(\"Hello\" in my_string)  # Eredmény: True\n",
                "print(\"e\" in my_string)  # Eredmény: True\n",
                "\n",
                "my_list = [1, 2, 3, 4, 5]\n",
                "print(3 in my_list)  # Eredmény: True\n",
                "print(6 in my_list)  # Eredmény: False"
            ]
        },
        {
            "cell_type": "markdown",
            "id": "5cdadba3",
            "metadata": {},
            "source": [
                "### A lista (`list`), mint módosítható sorozat"
            ]
        },
        {
            "cell_type": "markdown",
            "id": "41fa6b50",
            "metadata": {},
            "source": [
                "- A lista egy **rendezett**, **módosítható** (mutable) adatszerkezet, amely különböző típusú elemeket tárolhat.\n",
                "- Az elemeket szögletes zárójelek `[]` között, vesszővel elválasztva adjuk meg.\n",
                "- Az elemeket indexük alapján érhetjük el.\n",
                "\n",
                "Példa egy listára:\n",
                "\n",
                "| Index | 0   | 1   | 2   | 3    | 4      | 5    | 6    |\n",
                "| ----- | --- | --- | --- | ---- | ------ | ---- | ---- |\n",
                "| Érték | 5   | 7   | -23 | 3.14 | \"szia\" | True | None |\n"
            ]
        },
        {
            "cell_type": "markdown",
            "id": "b74c7d4d",
            "metadata": {},
            "source": [
                "#### Bővebben a módosíthatóságról (mutability)\n",
                "  - Bármikor hozzáadhatunk új elemet a listához, eltávolíthatunk elemet, vagy módosíthatjuk egy meglévő elem értékét.\n",
                "  - Itt az a hangsúlyos, hogy ezekhez a műveletekhez nem kell **új listát** (értsd: új memóriaterületen lévő) létrehoznunk, hanem a **meglévő listát** tudjuk helyben módosítani.\n"
            ]
        },
        {
            "cell_type": "code",
            "execution_count": 35,
            "id": "956f6bad",
            "metadata": {},
            "outputs": [
                {
                    "name": "stdout",
                    "output_type": "stream",
                    "text": [
                        "Eredeti lista: [10, 20, 30]\n",
                        "Módosított lista: [10, 99, 30]\n",
                        "Lista az első elem törlése után: [99, 30]\n"
                    ]
                }
            ],
            "source": [
                "my_original_list = [10, 20, 30]\n",
                "print(\"Eredeti lista:\", my_original_list)\n",
                "my_original_list[1] = 99  # A második elem (index 1) módosítása\n",
                "print(\"Módosított lista:\", my_original_list)\n",
                "del my_original_list[0]  # kitöröljük az első elemet (index 0)\n",
                "print(\"Lista az első elem törlése után:\", my_original_list)"
            ]
        },
        {
            "cell_type": "markdown",
            "id": "list_methods_md_v2",
            "metadata": {},
            "source": [
                "#### Alapvető lista műveletek és metódusok\n",
                "  - Alább áttekintjük a legfontosabb műveleteket és metódusokat, amelyeket a listákon használhatunk. Ezen műveletek elnevezései gyakran beszédesek, így a részletes magyarázat helyett csak a használatuk módját mutatjuk be.\n",
                "  - Két nagy csoportra oszthatók:\n",
                "    - **Helyben (inplace) módosító műveletek:** Ezek a műveletek a meglévő listát módosítják anélkül, hogy új listát hoznának létre.\n",
                "    - **Új listát létrehozó műveletek:** Ezek a műveletek új listát hoznak létre a meglévő lista alapján, anélkül, hogy megváltoztatnák az eredeti listát. Ilyenek például a `+` operátor (listák összefűzése), a szeletelés (`list[start:stop]`), és a `sorted()` függvény.\n"
            ]
        },
        {
            "cell_type": "code",
            "execution_count": 36,
            "id": "list_methods_examples_code_v2",
            "metadata": {},
            "outputs": [
                {
                    "name": "stdout",
                    "output_type": "stream",
                    "text": [
                        "Kiindulási lista: [3, 1, 2, 5, 3, 19]\n",
                        "Elem hozzáadása (append): [3, 1, 2, 5, 3, 19, 4]\n",
                        "Elem beszúrása index 2-re (insert): [3, 1, 42, 2, 5, 3, 19, 4]\n",
                        "Az eltávolított utolsó elem (pop): 42\n",
                        "Lista pop után: [3, 1, 2, 5, 3, 19, 4]\n",
                        "Lista remove(3) után: [1, 2, 5, 3, 19, 4]\n",
                        "Lista rendezése előtt: [1, 2, 5, 3, 19, 4]\n",
                        "Lista rendezés után: [1, 2, 3, 4, 5, 19]\n",
                        "Lista megfordítása (reverse): [19, 5, 4, 3, 2, 1]\n"
                    ]
                }
            ],
            "source": [
                "# Listát helyben (inplace) módosító műveletek\n",
                "\n",
                "my_original_list = [3, 1, 2, 5, 3, 19]\n",
                "print(f\"Kiindulási lista: {my_original_list}\")\n",
                "\n",
                "# Elem hozzáadása a végéhez\n",
                "my_original_list.append(4)  # 4-es elemet hozzáadjuk a lista végéhez\n",
                "print(f\"Elem hozzáadása (append): {my_original_list}\")  # [3, 1, 2, 5, 3, 19, 4]\n",
                "\n",
                "# Elem beszúrása adott indexre\n",
                "my_original_list.insert(2, 42)  # 2-es indexre beszúrjuk a 42-t\n",
                "print(\n",
                "    f\"Elem beszúrása index 2-re (insert): {my_original_list}\"\n",
                ")  # [3, 1, 42, 2, 5, 3, 19, 4]\n",
                "\n",
                "# Utolsó elem eltávolítása (visszaadja az eltávolított elemet)\n",
                "removed_element = my_original_list.pop(2)\n",
                "# 2-es indexű elem eltávolítása (értéke 42), ha nem adunk meg indexet, akkor az utolsó elemet távolítja el\n",
                "print(f\"Az eltávolított utolsó elem (pop): {removed_element}\")\n",
                "print(f\"Lista pop után: {my_original_list}\")  # [3, 1, 2, 5, 3, 19, 4]\n",
                "\n",
                "# Adott értékű elem eltávolítása\n",
                "my_original_list.remove(3)  # Az *először előforduló* 3-as eltávolítása\n",
                "print(\n",
                "    f\"Lista remove(3) után: {my_original_list}\"\n",
                ")  # [1, 2, 5, 3, 19, 4] <- a másik 3-as megmaradt\n",
                "\n",
                "# Lista rendezése\n",
                "print(f\"Lista rendezése előtt: {my_original_list}\")  # [1, 2, 5, 3, 19, 4]\n",
                "my_original_list.sort()  # Alapértelmezetten növekvő sorrendbe rendezi, de a reverse=True paraméterrel csökkenőbe is lehet\n",
                "print(f\"Lista rendezés után: {my_original_list}\")  # [1, 2, 3, 4, 5, 19]\n",
                "# my_original_list.sort(reverse=True)\n",
                "\n",
                "# Lista megfordítása\n",
                "my_original_list.reverse()  # [19, 5, 4, 3, 2, 1]\n",
                "print(f\"Lista megfordítása (reverse): {my_original_list}\")\n",
                "# vagy szeleteléssel is megfordíthatjuk, de az nem helyben módosít: my_original_list = my_original_list[::-1]"
            ]
        },
        {
            "cell_type": "code",
            "execution_count": 37,
            "id": "2b087283",
            "metadata": {},
            "outputs": [
                {
                    "name": "stdout",
                    "output_type": "stream",
                    "text": [
                        "Kiindulási lista: [3, 1, 2, 5, 3, 19]\n",
                        "Két lista összefűzése (+): [3, 1, 2, 5, 3, 19, 42, 99]\n",
                        "Szetel (my_list[1:4]): [1, 2, 5]\n",
                        "Lista ismétlése (*2): [3, 1, 2, 5, 3, 19, 3, 1, 2, 5, 3, 19]\n",
                        "Lista másolása (copy): [3, 1, 2, 5, 3, 19]\n",
                        "Lista rendezése (sorted): [1, 2, 3, 3, 5, 19]\n",
                        "Eredeti lista (változatlan): [3, 1, 2, 5, 3, 19]\n"
                    ]
                }
            ],
            "source": [
                "# Új listát eredményül adó műveletek (nem inplace)\n",
                "\n",
                "my_list = [3, 1, 2, 5, 3, 19]\n",
                "print(f\"Kiindulási lista: {my_list}\")\n",
                "\n",
                "# Két (vagy több) lista összefűzése\n",
                "additional_list = [42, 99]\n",
                "combined_list = my_list + additional_list\n",
                "print(f\"Két lista összefűzése (+): {combined_list}\")  # [3, 1, 2, 5, 3, 19, 42, 99]\n",
                "\n",
                "# Szeletelés (lsd. feljebb)\n",
                "sliced_list = my_list[1:4]  # A 1., 2. és 3. indexű elemeket tartalmazó új lista\n",
                "print(f\"Szetel (my_list[1:4]): {sliced_list}\")  # [1, 2, 5]\n",
                "\n",
                "# Lista ismétlése\n",
                "repeated_list = my_list * 2\n",
                "# Az eredeti lista elemeit kétszer ismétlő új lista. FONTOS: hihetnénk, hogy ez a lista elemeit szorozza meg kettővel, de nem!\n",
                "print(\n",
                "    f\"Lista ismétlése (*2): {repeated_list}\"\n",
                ")  # [3, 1, 2, 5, 3, 19, 3, 1, 2, 5, 3, 19]\n",
                "\n",
                "# Lista másolása\n",
                "copied_list = my_list.copy()  # Az eredeti lista elemeit tartalmazó új lista\n",
                "print(f\"Lista másolása (copy): {copied_list}\")  # [3, 1, 2, 5, 3, 19]\n",
                "\n",
                "# Lista rendezése: hasonlít a .sort()-hoz, de nem helyben módosít, hanem új listát ad vissza\n",
                "sorted_list = sorted(my_list)\n",
                "# Az eredeti lista elemeit növekvő sorrendbe rendező új listát ad vissza\n",
                "print(f\"Lista rendezése (sorted): {sorted_list}\")  # [1, 2, 3, 3, 5, 19]\n",
                "print(\n",
                "    f\"Eredeti lista (változatlan): {my_list}\"\n",
                ")  # [3, 1, 2, 5, 3, 19] - az eredeti lista nem változott"
            ]
        },
        {
            "cell_type": "code",
            "execution_count": 38,
            "id": "d4776794",
            "metadata": {},
            "outputs": [
                {
                    "name": "stdout",
                    "output_type": "stream",
                    "text": [
                        "Kiindulási lista: [3, 1, 2, 5, 3, 19]\n",
                        "Hányszor szerepel a 3-as a listában? my_list.count(3): 2\n",
                        "Melyik indexen szerepel először a 3-as? my_list.index(3): 0\n",
                        "Hiba: 4 is not in list\n",
                        "Lista elemeinek összege (sum): 33\n",
                        "Lista minimuma (min): 1\n",
                        "Lista maximuma (max): 19\n"
                    ]
                }
            ],
            "source": [
                "# Egyéb fontos lista metódusok\n",
                "\n",
                "my_list = [3, 1, 2, 5, 3, 19]\n",
                "print(f\"Kiindulási lista: {my_list}\")\n",
                "\n",
                "print(\n",
                "    f\"Hányszor szerepel a 3-as a listában? my_list.count(3): {my_list.count(3)}\"\n",
                ")  # Hány 3-as van a listában? Eredmény: 2\n",
                "print(\n",
                "    f\"Melyik indexen szerepel először a 3-as? my_list.index(3): {my_list.index(3)}\"\n",
                ")  # Az első 3-as indexe. Eredmény: 0\n",
                "\n",
                "try:\n",
                "    my_list.index(4)  # 4-es nincs a listában, hibát dob\n",
                "except ValueError as e:\n",
                "    print(f\"Hiba: {e}\")  # → ValueError: 4 is not in list\n",
                "\n",
                "print(\n",
                "    f\"Lista elemeinek összege (sum): {sum(my_list)}\"\n",
                ")  # Az összes elem összege. Eredmény: 33\n",
                "print(f\"Lista minimuma (min): {min(my_list)}\")  # A legkisebb elem. Eredmény: 1\n",
                "print(f\"Lista maximuma (max): {max(my_list)}\")  # A legnagyobb elem. Eredmény: 19"
            ]
        },
        {
            "cell_type": "markdown",
            "id": "e69a723c",
            "metadata": {},
            "source": [
                "#### A beágyazott listák\n",
                "  - Listák, amik listákat is tartalmaznak (nested lists). Ezt gyakran használjuk mátrixok vagy táblázatok tárolására.\n",
                "  - Ilyenkor a lista elemei maguk is listák, és ezekhez a beágyazott listákhoz indexeléssel férhetünk hozzá: pl `lista[0][1]` a külső lista 0-ás indexű listájának 1-es indexű elemét adja vissza."
            ]
        },
        {
            "cell_type": "code",
            "execution_count": 39,
            "id": "241da178",
            "metadata": {},
            "outputs": [
                {
                    "name": "stdout",
                    "output_type": "stream",
                    "text": [
                        "A belső lista: [41, 2, 44]\n",
                        "A belső lista első eleme: 41\n",
                        "A belső lista első eleme (többszörös indexelés): 41\n"
                    ]
                }
            ],
            "source": [
                "nested_list = [0, 2, 3, [41, 2, 44]]  # a lista 3-as indexű eleme egy újabb lista\n",
                "\n",
                "inner_list = nested_list[3]  # a belső lista elérése\n",
                "print(f\"A belső lista: {inner_list}\")  # Eredmény: [41, 2, 44]\n",
                "inner_item = inner_list[0]  # a belső lista első eleme\n",
                "print(f\"A belső lista első eleme: {inner_item}\")  # 41\n",
                "\n",
                "# Egy lépésben is elérhetjük a belső lista egy elemét: többszörös indexelés\n",
                "# Először tehát elérjük a belső listát, majd annak az első elemét\n",
                "inner_item_direct = nested_list[3][0]\n",
                "print(f\"A belső lista első eleme (többszörös indexelés): {inner_item_direct}\")  # 41"
            ]
        },
        {
            "cell_type": "code",
            "execution_count": 40,
            "id": "49fa097c",
            "metadata": {},
            "outputs": [
                {
                    "name": "stdout",
                    "output_type": "stream",
                    "text": [
                        "grid[0][1]: 2\n",
                        "grid[1][-1]: 6\n",
                        "grid[2][:2]: [7, 8]\n"
                    ]
                }
            ],
            "source": [
                "# Táblázatok, mátrixok, rácsok reprezentálására gyakran használunk beágyazott listákat\n",
                "\n",
                "# 3x3-as rács (mátrix)\n",
                "# [[1, 2, 3],\n",
                "#  [4, 5, 6],\n",
                "#  [7, 8, 9]]\n",
                "\n",
                "grid = [[1, 2, 3], [4, 5, 6], [7, 8, 9]]\n",
                "\n",
                "# Elem elérése: első index a sor, második az oszlop\n",
                "element_a = grid[0][1]\n",
                "print(\"grid[0][1]:\", element_a)  # 2\n",
                "\n",
                "# Negatív indexelés is működik\n",
                "element_b = grid[1][-1]\n",
                "print(\"grid[1][-1]:\", element_b)  # 6\n",
                "\n",
                "# Szeletelés is működik a belső listákon\n",
                "slice = grid[2][:2]\n",
                "print(\"grid[2][:2]:\", slice)  # [7, 8]"
            ]
        },
        {
            "cell_type": "code",
            "execution_count": 41,
            "id": "63982266",
            "metadata": {},
            "outputs": [
                {
                    "data": {
                        "text/html": [
                            "\n",
                            "        <iframe\n",
                            "            width=\"100%\"\n",
                            "            height=\"500\"\n",
                            "            src=\"https://pythontutor.com/iframe-embed.html#code=%23%20ugyanez%20tutorral%20%28ne%20felejts%C3%BCk%20el%20futtatni%20a%20Notebook%20els%C5%91%20cell%C3%A1j%C3%A1t%2C%20ha%20m%C3%A9g%20nem%20tett%C3%BCk%20meg%29%0Agrid%20%3D%20%5B%5B1%2C%202%2C%203%5D%2C%20%5B4%2C%205%2C%206%5D%2C%20%5B7%2C%208%2C%209%5D%5D%0A&origin=opt-frontend.js&cumulative=false&heapPrimitives=false&textReferences=false&py=3&rawInputLstJSON=%5B%5D&curInstr=0&codeDivWidth=350&codeDivHeight=400\"\n",
                            "            frameborder=\"0\"\n",
                            "            allowfullscreen\n",
                            "            \n",
                            "        ></iframe>\n",
                            "        "
                        ],
                        "text/plain": [
                            "<IPython.lib.display.IFrame at 0x11275ed90>"
                        ]
                    },
                    "metadata": {},
                    "output_type": "display_data"
                }
            ],
            "source": [
                "%%tutor\n",
                "# ugyanez tutorral (ne felejtsük el futtatni a Notebook első celláját, ha még nem tettük meg)\n",
                "grid = [[1, 2, 3], [4, 5, 6], [7, 8, 9]]"
            ]
        },
        {
            "cell_type": "markdown",
            "id": "164e5d5a",
            "metadata": {},
            "source": [
                "### A tuple (`tuple`), mint nem módosítható sorozat"
            ]
        },
        {
            "cell_type": "markdown",
            "id": "29af22fc",
            "metadata": {},
            "source": [
                "- A tuple egy **rendezett**, **nem módosítható** (immutable) adatszerkezet, amely különböző típusú elemeket tárholhat.\n",
                "- Hasonló a listához, de kerek zárójelek `()` közé tesszük az elemeket.\n",
                "- A többi rendezett sorozathoz hasonlóan indexelhető és szeletelhető."
            ]
        },
        {
            "cell_type": "markdown",
            "id": "bb76af48",
            "metadata": {},
            "source": [
                "#### Mikor használunk tuple-t lista helyett?\n",
                "- Ha biztosítani akarjuk, hogy az adatsorozat ne változzon meg véletlenül (pl. helyben ne legyen módosítható).\n",
                "- Ha olyan adatokat tárolunk, amelyek erősen összetartoznak, és természetüknél fogva állandóak (pl. koordináták, színek RGB értékei, stb.).\n",
                "- Ha kulcsként szeretnénk használni egy dictionary-ben. Listát nem lehet kulcsként használni. (Erről bővebben később lesz szó.)\n",
                "- Ha egy függvény több értéket ad vissza, azt tuple-ben teszi (függvényekről szintén később lesz szó).\n",
                "- Ezen a szinten ritkán szempont, de teljesítménykritikus (sebesség, memóriaigény) esetekben előnyösebb, mint a lista. "
            ]
        },
        {
            "cell_type": "code",
            "execution_count": 42,
            "id": "tuple_examples_code",
            "metadata": {},
            "outputs": [
                {
                    "name": "stdout",
                    "output_type": "stream",
                    "text": [
                        "Üres tuple: ()\n",
                        "Tuple elemekkel: (1, 2, 3.14, 'python', True, ('another', 'tuple'), [2, 3, '4'])\n",
                        "(42,)\n",
                        "42\n"
                    ]
                }
            ],
            "source": [
                "# Üres tuple létrehozása két hasonló módon\n",
                "empty_tuple = ()\n",
                "empty_tuple_alt = tuple()\n",
                "print(f\"Üres tuple: {empty_tuple}\")\n",
                "\n",
                "# Tuple létrehozása elemekkel\n",
                "my_tuple = (\n",
                "    1,\n",
                "    2,\n",
                "    3.14,\n",
                "    \"python\",\n",
                "    True,\n",
                "    (\"another\", \"tuple\"),  # kerülhet bele másik tuple is\n",
                "    [2, 3, \"4\"],  # és lista is\n",
                ")\n",
                "print(f\"Tuple elemekkel: {my_tuple}\")\n",
                "\n",
                "# Egy elemű tuple létrehozása\n",
                "single_element_tuple = (42,)  # Figyeljünk a vesszőre, különben nem tuple lesz!\n",
                "print(single_element_tuple)\n",
                "\n",
                "# Rossz példa:\n",
                "\n",
                "# Ez nem tuple, csak egy egész szám zárójelekkel\n",
                "# Az én VSCode-om automatikusan eltávolítja a felesleges zárójeleket, ezért használom a `# fmt: skip` megjegyzést, hogy a demonstráció kedvéért most ne tegye.\n",
                "wrong_tuple = (42) # fmt: skip\n",
                "print(wrong_tuple)"
            ]
        },
        {
            "cell_type": "code",
            "execution_count": 43,
            "id": "86278632",
            "metadata": {},
            "outputs": [
                {
                    "name": "stdout",
                    "output_type": "stream",
                    "text": [
                        "Hiba: 'tuple' object does not support item assignment\n",
                        "Hiba: 'tuple' object has no attribute 'append'\n"
                    ]
                }
            ],
            "source": [
                "# A tuple nem módosíthatő (immutable)\n",
                "try:\n",
                "    my_tuple[0] = 100  # Ez TypeError hibát fog okozni\n",
                "except TypeError as e:\n",
                "    print(f\"Hiba: {e}\")\n",
                "\n",
                "# Ezért helyben módosító (inplace) műveletek sincsenek, amiket a listáknál megismertünk (pl. append, remove, sort, reverse, stb.)\n",
                "try:\n",
                "    my_tuple.append(100)  # Ez AttributeError hibát fog okozni\n",
                "except AttributeError as e:\n",
                "    print(f\"Hiba: {e}\")"
            ]
        },
        {
            "cell_type": "code",
            "execution_count": 44,
            "id": "b4fcb8ea",
            "metadata": {},
            "outputs": [
                {
                    "name": "stdout",
                    "output_type": "stream",
                    "text": [
                        "Új tuple összefűzéssel: (3, 1, 5, 100, 200)\n",
                        "Új tuple szeleteléssel: (1, 5)\n"
                    ]
                }
            ],
            "source": [
                "# A nem helyben módosító műveletek (pl. szeletelés, összefűzés) viszont működnek, mivel ők nem az eredeti tuple-t módosítják, hanem új tuple-t hoznak létre.\n",
                "# Lsd. feljebb a listáknál.\n",
                "\n",
                "old_tuple = (3, 1, 5)\n",
                "new_tuple = old_tuple + (100, 200)  # Új tuple létrehozása összefűzéssel.\n",
                "print(f\"Új tuple összefűzéssel: {new_tuple}\")\n",
                "\n",
                "sliced_tuple = old_tuple[1:]  # Új tuple létrehozása szeleteléssel\n",
                "print(f\"Új tuple szeleteléssel: {sliced_tuple}\")"
            ]
        },
        {
            "cell_type": "markdown",
            "id": "string_intro_md",
            "metadata": {},
            "source": [
                "### A string (`str`), mint karakterek sorozata\n",
                "\n",
                "- A string olyan sorozattípus, amely karakterekből áll. Azaz ellentétben a listával és a tuple-lel, ahol az elemek különböző típusúak lehetnek, a string csak karaktereket tartalmazhat.\n",
                "- **Rendezett** és **nem módosítható** (immutable), mint a tuple.\n",
                "- A többi rendezett sorozathoz hasonlóan indexelhető és szeletelhető."
            ]
        },
        {
            "cell_type": "code",
            "execution_count": 45,
            "id": "string_sequence_examples_code",
            "metadata": {},
            "outputs": [
                {
                    "name": "stdout",
                    "output_type": "stream",
                    "text": [
                        "Üres string: \n",
                        "String: Programozni jó!\n"
                    ]
                }
            ],
            "source": [
                "# Üres string létrehozása két hasonló módon\n",
                "empty_string = \"\"\n",
                "empty_string_alt = str()\n",
                "print(f\"Üres string: {empty_string}\")\n",
                "\n",
                "# String létrehozása\n",
                "my_string = \"Programozni jó!\"\n",
                "print(f\"String: {my_string}\")"
            ]
        },
        {
            "cell_type": "markdown",
            "id": "544fed60",
            "metadata": {},
            "source": [
                "- Fontos, hogy a karakter alatt nem csak a betűket kell érteni, hanem bármilyen szimbólum (akár emoji is), számjegy, vagy speciális karakter is (pl. írásjelek, szóköz, tab, stb.) ide tartozik."
            ]
        },
        {
            "cell_type": "code",
            "execution_count": 46,
            "id": "4741bd4e",
            "metadata": {},
            "outputs": [
                {
                    "name": "stdout",
                    "output_type": "stream",
                    "text": [
                        "Első karakter: P\n",
                        "Hatodik karakter (szóköz): ' '\n",
                        "Utolsó karakter: !\n",
                        "Emoji: 🐍 \n"
                    ]
                }
            ],
            "source": [
                "# Indexelés\n",
                "my_string = \"Python is awesome 🐍!\"\n",
                "\n",
                "print(f\"Első karakter: {my_string[0]}\")  # 'P'\n",
                "print(f\"Hatodik karakter (szóköz): '{my_string[6]}'\")  # ' '\n",
                "print(f\"Utolsó karakter: {my_string[-1]}\")  # '!'\n",
                "print(f\"Emoji: {my_string[-2]} \")"
            ]
        },
        {
            "cell_type": "code",
            "execution_count": 47,
            "id": "e6df57a5",
            "metadata": {},
            "outputs": [
                {
                    "name": "stdout",
                    "output_type": "stream",
                    "text": [
                        "Hiba: 'str' object does not support item assignment\n"
                    ]
                }
            ],
            "source": [
                "# A string nem módosítható (immutable)\n",
                "\n",
                "my_string = \"Programozni jó!\"\n",
                "try:\n",
                "    my_string[-3:] = \"rossz!\"  # Ez TypeError hibát okoz\n",
                "except TypeError as e:\n",
                "    print(f\"Hiba: {e}\")"
            ]
        },
        {
            "cell_type": "markdown",
            "id": "string_methods_md",
            "metadata": {},
            "source": [
                "#### Alapvető string metódusok\n",
                "- Mivel a stringek nem módosíthatóak, így helyben módosító metódusaik nincsenek. Minden string művelet új stringet hoz létre.\n",
                "- Sok speciális metódus létezik a stringek kezelésére, amelyek megkönnyítik a karakterláncokkal való munkát. Alább néhány példa a leggyakrabban használtakra."
            ]
        },
        {
            "cell_type": "code",
            "execution_count": 48,
            "id": "string_methods_examples_code",
            "metadata": {},
            "outputs": [
                {
                    "name": "stdout",
                    "output_type": "stream",
                    "text": [
                        "Összefűzött string: Hello, World!\n",
                        "Ismételt string: hahaha\n",
                        "Első szó (szeletelés): Hello\n",
                        "Nagybetűs: HELLO, WORLD!\n",
                        "Kisbetűs: hello, world!\n",
                        "Név szóközök nélkül: 'Kovács Béla'\n",
                        "Eredeti mondat: 'Hazamegyek, és leülök a gép elé programozni.'\n",
                        "Módosított mondat: 'Hazamegyek, és leülök a gép elé játszani.'\n"
                    ]
                }
            ],
            "source": [
                "# Két (vagy több) string összefűzése (+ operátor)\n",
                "first_part = \"Hello, \"\n",
                "second_part = \"World!\"\n",
                "sentence = first_part + second_part\n",
                "print(f\"Összefűzött string: {sentence}\")  # 'Hello, World!'\n",
                "\n",
                "# Ismétlés (* operátor)\n",
                "laugh = \"ha\" * 3\n",
                "print(f\"Ismételt string: {laugh}\")  # 'hahaha'\n",
                "\n",
                "# Szeletelés\n",
                "first_word = sentence[:5]  # Az első 5 karakter\n",
                "print(f\"Első szó (szeletelés): {first_word}\")  # 'Hello'\n",
                "\n",
                "# Kis- és nagybetűs átalakítás\n",
                "shout = sentence.upper()  # Nagybetűs\n",
                "whisper = sentence.lower()  # Kisbetűs\n",
                "print(f\"Nagybetűs: {shout}\")  # 'HELLO, WORLD!'\n",
                "print(f\"Kisbetűs: {whisper}\")  # 'hello, world!\n",
                "\n",
                "# Felesleges szóközök eltávolítása az elejéről és a végéről\n",
                "# A két szó közötti szóköz megmarad!\n",
                "name = \"   Kovács Béla   \"\n",
                "cleaned_name = name.strip()\n",
                "print(f\"Név szóközök nélkül: '{cleaned_name}'\")\n",
                "\n",
                "# Szövegrészlet kicserélése másikra\n",
                "plan = \"Hazamegyek, és leülök a gép elé programozni.\"\n",
                "truth = plan.replace(\"programozni\", \"játszani\")  # mely részletet cseréljük ki, és mire\n",
                "print(f\"Eredeti mondat: '{plan}'\")\n",
                "print(f\"Módosított mondat: '{truth}'\")"
            ]
        },
        {
            "cell_type": "markdown",
            "id": "f50381a2",
            "metadata": {},
            "source": [
                "#### Műveletek listák és stringek között"
            ]
        },
        {
            "cell_type": "code",
            "execution_count": 49,
            "id": "f4257d73",
            "metadata": {},
            "outputs": [
                {
                    "name": "stdout",
                    "output_type": "stream",
                    "text": [
                        "Bevásárló lista elemei (split): ['tej', 'kenyér', 'sajt', 'vaj']\n",
                        "Bevásárló lista elemei (split): ['tej', 'kenyér', 'sajt', 'vaj']\n",
                        "Összefűzött mondat (join): 'tej kenyér sajt'\n",
                        "Összefűzött mondat (join): 'tej, kenyér, sajt'\n"
                    ]
                }
            ],
            "source": [
                "# String felbontása elemekre\n",
                "shopping_string = \"tej,kenyér,sajt,vaj\"\n",
                "items = shopping_string.split(\",\")  # Feldarabolja a stringet a \",\" karakterek mentén\n",
                "print(f\"Bevásárló lista elemei (split): {items}\")\n",
                "\n",
                "# Ha nem adunk meg elválasztó karaktert, akkor a szóközöknél darabol\n",
                "shopping_string = \"tej kenyér sajt vaj\"\n",
                "items = shopping_string.split()\n",
                "print(f\"Bevásárló lista elemei (split): {items}\")\n",
                "\n",
                "# Lista elemeinek összefűzése egy stringgé\n",
                "list_of_words = [\"tej\", \"kenyér\", \"sajt\"]\n",
                "sentence = \" \".join(list_of_words)  # A lista elemeit egy szóközzel összefűzi\n",
                "print(f\"Összefűzött mondat (join): '{sentence}'\")\n",
                "\n",
                "# A lista elemeit egy vesszővel és egy szóközzel \", \" összefűzi\n",
                "sentence_comma = \", \".join(list_of_words)\n",
                "print(f\"Összefűzött mondat (join): '{sentence_comma}'\")"
            ]
        },
        {
            "cell_type": "markdown",
            "id": "67c9dc8e",
            "metadata": {},
            "source": [
                "#### Keresés stringben"
            ]
        },
        {
            "cell_type": "code",
            "execution_count": 50,
            "id": "c6cc7fad",
            "metadata": {},
            "outputs": [
                {
                    "name": "stdout",
                    "output_type": "stream",
                    "text": [
                        "\"Wor\" in \"Hello, World!\": True\n",
                        "\"Wor\" első előfordulásának indexe: 7\n",
                        "World!\n",
                        "\"Python\" első előfordulásának indexe: -1\n",
                        "!\n"
                    ]
                }
            ],
            "source": [
                "my_string = \"Hello, World!\"\n",
                "\n",
                "# Logikai kifejezés: igaz, ha a \"Wor\" részstring megtalálható a my_string-ben\n",
                "is_in = \"Wor\" in my_string\n",
                "print(f'\"Wor\" in \"{my_string}\": {is_in}')  # Eredmény: True\n",
                "\n",
                "# Mi van akkor, ha nem csak arra vagyunk kíváncsiak, hogy benne van-e, hanem arra is, hogy hol?\n",
                "index = my_string.find(\n",
                "    \"Wor\"\n",
                ")  # Megkeresi a \"Wor\" részstring első előfordulásának indexét\n",
                "print(f'\"Wor\" első előfordulásának indexe: {index}')  # Eredmény: 7\n",
                "print(my_string[index:])\n",
                "\n",
                "# Ha nincs benne a keresett részstring, akkor -1 értéket ad vissza\n",
                "index_not_found = my_string.find(\"Python\")\n",
                "print(f'\"Python\" első előfordulásának indexe: {index_not_found}')\n",
                "\n",
                "# Potenciális hiba:\n",
                "# A -1 is érvényes indexnek számít, így amennyiben nem ellenőrizzük, hogy -1-e az eredmény, akkor hibásan használhatjuk fel az indexet.\n",
                "print(\n",
                "    my_string[index_not_found:]\n",
                ")  # Hibás, mert index_not_found -1, így az utolsó karaktertől szeletelünk\n",
                "# Jó megoldás:\n",
                "if index_not_found != -1:\n",
                "    print(my_string[index_not_found:])"
            ]
        },
        {
            "cell_type": "markdown",
            "id": "de4bc138",
            "metadata": {},
            "source": [
                "### Kritikus koncepció: a hozzárendelés operátor (`=`) módosítható (mutable) típusok esetén\n",
                "\n",
                "- Amennyiben módosítható típusokról (pl. lista, és később dictionary és set) másolatot akarunk létrehozni, a hozzárendelés operátor **(`=`) használata nem várt viselkedést eredményezhet.**"
            ]
        },
        {
            "cell_type": "code",
            "execution_count": 51,
            "id": "289badaa",
            "metadata": {},
            "outputs": [
                {
                    "name": "stdout",
                    "output_type": "stream",
                    "text": [
                        "my_list: [1, 2, 3, 4]\n",
                        "my_other_list: [1, 2, 3, 4]\n"
                    ]
                }
            ],
            "source": [
                "# Azt gondolnánk, hogy a `my_other_list` a `my_list` másolata, de nem az!\n",
                "my_list = [1, 2, 3]\n",
                "my_other_list = my_list\n",
                "\n",
                "# Helyben módosítás\n",
                "my_list.append(4)\n",
                "print(f\"my_list: {my_list}\")  # [1, 2, 3, 4]\n",
                "\n",
                "# Mi történik a my_other_list változóval?\n",
                "print(f\"my_other_list: {my_other_list}\")  # Itt is látszik a változás! [1, 2, 3, 4]"
            ]
        },
        {
            "cell_type": "markdown",
            "id": "ab414b85",
            "metadata": {},
            "source": [
                "- Az `=` operátor nem egy független másolatot hozott létre! Csupán egy újabb nevet rendelt hozzá a már meglévő objektumhoz. A vizualizáción ez jól látszik:"
            ]
        },
        {
            "cell_type": "code",
            "execution_count": 52,
            "id": "3a12a309",
            "metadata": {},
            "outputs": [
                {
                    "data": {
                        "text/html": [
                            "\n",
                            "        <iframe\n",
                            "            width=\"100%\"\n",
                            "            height=\"500\"\n",
                            "            src=\"https://pythontutor.com/iframe-embed.html#code=my_list%20%3D%20%5B1%2C2%2C3%5D%0Amy_other_list%20%3D%20my_list%20%23%20Ugyanarra%20az%20objektumra%20mutat%20mindk%C3%A9t%20v%C3%A1ltoz%C3%B3n%C3%A9v%0Amy_list.append%284%29%20%23%20%C3%8Dgy%20b%C3%A1rmelyiken%20v%C3%A9gzett%20m%C3%B3dos%C3%ADt%C3%A1s%20mindkett%C5%91n%20l%C3%A1tszik%0Amy_other_list.append%285%29%0Aprint%28f%22my_list%3A%20%7Bmy_list%7D%22%29%20%20%23%20%5B1%2C%202%2C%203%2C%204%2C%205%5D%0Aprint%28f%22my_other_list%3A%20%7Bmy_other_list%7D%22%29%20%20%23%20%5B1%2C%202%2C%203%2C%204%2C%205%5D%0A&origin=opt-frontend.js&cumulative=false&heapPrimitives=false&textReferences=false&py=3&rawInputLstJSON=%5B%5D&curInstr=0&codeDivWidth=350&codeDivHeight=400\"\n",
                            "            frameborder=\"0\"\n",
                            "            allowfullscreen\n",
                            "            \n",
                            "        ></iframe>\n",
                            "        "
                        ],
                        "text/plain": [
                            "<IPython.lib.display.IFrame at 0x11275ee20>"
                        ]
                    },
                    "metadata": {},
                    "output_type": "display_data"
                }
            ],
            "source": [
                "%%tutor # Hiba esetén futtassuk a Notebook első celláját!\n",
                "my_list = [1,2,3]\n",
                "my_other_list = my_list # Ugyanarra az objektumra mutat mindkét változónév\n",
                "my_list.append(4) # Így bármelyiken végzett módosítás mindkettőn látszik\n",
                "my_other_list.append(5)\n",
                "print(f\"my_list: {my_list}\")  # [1, 2, 3, 4, 5]\n",
                "print(f\"my_other_list: {my_other_list}\")  # [1, 2, 3, 4, 5]"
            ]
        },
        {
            "cell_type": "markdown",
            "id": "f2257c4c",
            "metadata": {},
            "source": [
                "- Ezt a jelenséget nevezzük **aliasing**-nek, azaz amikor két változónév ugyanarra a memóriaterületre mutat. Szándékosan ritkán használjuk, mert nagyon sok fejfájást (értsd: nehehezen található hibát) okozhat.\n",
                "- Ha független másolatot szeretnénk, használjuk a `.copy()` metódust vagy a szeletelést (`[:]`)."
            ]
        },
        {
            "cell_type": "code",
            "execution_count": 53,
            "id": "d5a9fc3e",
            "metadata": {},
            "outputs": [
                {
                    "name": "stdout",
                    "output_type": "stream",
                    "text": [
                        "my_list: [1, 2, 3, 4]\n",
                        "my_other_list: [1, 2, 3]\n",
                        "my_another_list: [1, 2, 3]\n"
                    ]
                }
            ],
            "source": [
                "my_list = [1, 2, 3]\n",
                "my_other_list = my_list.copy()  # Így már független másolatot kapunk\n",
                "my_another_list = my_list[:]  # ugyanúgy működik, mint a copy()\n",
                "my_list.append(4)\n",
                "print(f\"my_list: {my_list}\")  # [1, 2, 3, 4]\n",
                "print(f\"my_other_list: {my_other_list}\")  # [1, 2, 3]\n",
                "print(f\"my_another_list: {my_another_list}\")  # [1, 2, 3]"
            ]
        },
        {
            "cell_type": "code",
            "execution_count": 54,
            "id": "fa14be1d",
            "metadata": {},
            "outputs": [
                {
                    "data": {
                        "text/html": [
                            "\n",
                            "        <iframe\n",
                            "            width=\"100%\"\n",
                            "            height=\"500\"\n",
                            "            src=\"https://pythontutor.com/iframe-embed.html#code=my_list%20%3D%20%5B1%2C2%2C3%5D%0Amy_other_list%20%3D%20my_list.copy%28%29%0A%23%20A%20vizualiz%C3%A1ci%C3%B3n%20is%20l%C3%A1tszik%2C%20hogy%20%C3%ADgy%20k%C3%A9t%20k%C3%BCl%C3%B6n%20objektumot%20kapunk%0A&origin=opt-frontend.js&cumulative=false&heapPrimitives=false&textReferences=false&py=3&rawInputLstJSON=%5B%5D&curInstr=0&codeDivWidth=350&codeDivHeight=400\"\n",
                            "            frameborder=\"0\"\n",
                            "            allowfullscreen\n",
                            "            \n",
                            "        ></iframe>\n",
                            "        "
                        ],
                        "text/plain": [
                            "<IPython.lib.display.IFrame at 0x11275ef10>"
                        ]
                    },
                    "metadata": {},
                    "output_type": "display_data"
                }
            ],
            "source": [
                "%%tutor # Hiba esetén futtassuk a Notebook első celláját!\n",
                "my_list = [1,2,3]\n",
                "my_other_list = my_list.copy()\n",
                "# A vizualizáción is látszik, hogy így két külön objektumot kapunk"
            ]
        },
        {
            "cell_type": "markdown",
            "id": "e9d42531",
            "metadata": {},
            "source": [
                "- Haladóknak: a `copy()` és a szeletelés (`[:]`) sekély másolatot (shallow copy) készít. Ez azt jelenti, hogy a \"felszínen lévő\" objektumról független másolat készül, de ha az objektum valamely eleme szintén egy módosítható típus (pl. egy lista) akkor arról nem készül független másolat. Ilyen speciális esetekben mély másolatot kell készíteni (deep copy)."
            ]
        },
        {
            "cell_type": "code",
            "execution_count": 55,
            "id": "5bdaf4e1",
            "metadata": {},
            "outputs": [
                {
                    "name": "stdout",
                    "output_type": "stream",
                    "text": [
                        "my_nested_list: [1, 2, [3, 4], 5, 6]\n",
                        "my_another_list: [1, 2, [3, 4], 5]\n"
                    ]
                }
            ],
            "source": [
                "my_nested_list = [\n",
                "    1,\n",
                "    2,\n",
                "    [3, 4],  # beágyazott lista: a másolandó lista egyik eleme maga is egy lista\n",
                "    5,\n",
                "]\n",
                "my_another_list = my_nested_list.copy()  # sekély másolat\n",
                "\n",
                "# Amíg a \"felszínen lévő\" részt módosítjuk, azaz a külső listát, addig nincs gond\n",
                "my_nested_list.append(6)  # Ez csak a my_nested_list-et módosítja\n",
                "print(f\"my_nested_list: {my_nested_list}\")  # [1, 2, [3, 4], 5, 6]\n",
                "print(f\"my_another_list: {my_another_list}\")  # [1, 2, [3, 4], 5]"
            ]
        },
        {
            "cell_type": "code",
            "execution_count": 56,
            "id": "83623979",
            "metadata": {},
            "outputs": [
                {
                    "name": "stdout",
                    "output_type": "stream",
                    "text": [
                        "my_nested_list: [1, 2, [3, 4, 99], 5]\n",
                        "my_another_list: [1, 2, [3, 4, 99], 5]\n"
                    ]
                }
            ],
            "source": [
                "my_nested_list = [1, 2, [3, 4], 5]\n",
                "my_another_list = my_nested_list.copy()\n",
                "\n",
                "# A probléma akkor jön elő, ha a beágyazott listát [3,4] módosítjuk\n",
                "my_nested_list[2].append(99)  # Adjuk hozzá a 99-et a beágyazott listához\n",
                "print(f\"my_nested_list: {my_nested_list}\")  # [1, 2, [3, 4, 99], 5]\n",
                "print(f\"my_another_list: {my_another_list}\")  # [1, 2, [3, 4, 99], 5]\n",
                "# Probléma: a my_another_list-ben is látszik a változás, pedig azt hittük, hogy független másolatot kaptunk!"
            ]
        },
        {
            "cell_type": "code",
            "execution_count": 57,
            "id": "a02ba4e6",
            "metadata": {},
            "outputs": [
                {
                    "name": "stdout",
                    "output_type": "stream",
                    "text": [
                        "my_nested_list: [1, 2, [3, 4, 99], 5]\n",
                        "my_another_list: [1, 2, [3, 4], 5]\n"
                    ]
                }
            ],
            "source": [
                "# A megoldást a `copy` csomag `deepcopy` függvénye jelenti\n",
                "from copy import deepcopy\n",
                "\n",
                "my_nested_list = [1, 2, [3, 4], 5]\n",
                "my_another_list = deepcopy(my_nested_list)  # mély másolat\n",
                "my_nested_list[2].append(99)  # Adjuk hozzá a 99-et a beágyazott listához\n",
                "print(f\"my_nested_list: {my_nested_list}\")  # [1, 2, [3, 4, 99], 5]\n",
                "print(f\"my_another_list: {my_another_list}\")  # [1, 2, [3, 4], 5]\n",
                "# Így már a my_another_list-ben nem látszik a változás"
            ]
        }
    ],
    "metadata": {
        "kernelspec": {
            "display_name": "base",
            "language": "python",
            "name": "python3"
        },
        "language_info": {
            "codemirror_mode": {
                "name": "ipython",
                "version": 3
            },
            "file_extension": ".py",
            "mimetype": "text/x-python",
            "name": "python",
            "nbconvert_exporter": "python",
            "pygments_lexer": "ipython3",
            "version": "3.9.16"
        }
    },
    "nbformat": 4,
    "nbformat_minor": 5
}
