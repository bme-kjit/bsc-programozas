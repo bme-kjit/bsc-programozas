{
 "cells": [
  {
   "cell_type": "markdown",
   "id": "70c931fcf0a865b4",
   "metadata": {},
   "source": [
    "# 2. előadás: Alap nyelvi elemek\n"
   ]
  },
  {
   "cell_type": "markdown",
   "id": "74e3a37298e97b60",
   "metadata": {},
   "source": [
    "## Tartalom:\n",
    "\n",
    "1.  **A Python-kód szerkezete**\n",
    "\n",
    "    - Indentálás: A szintaxis alapja\n",
    "    - Egysoros és többsoros utasítások\n",
    "\n",
    "2.  **Kommentek és dokumentáció**\n",
    "\n",
    "    - Egysoros kommentek (`#`)\n",
    "    - Többsoros kommentek és docstringek (`\"\"\"...\"\"\"`)\n",
    "\n",
    "3.  **Változók, objektumok és típusok**\n",
    "\n",
    "    - A Python objektummodellje: típus, érték, azonosító\n",
    "    - Változónevek szabályai és konvenciói\n",
    "    - Dinamikus típusosság\n",
    "    - Alapvető beépített adattípusok\n",
    "\n",
    "4.  **Műveletek és operátorok**\n",
    "\n",
    "    - Aritmetikai, értékadó és összehasonlító operátorok\n",
    "    - Logikai, identitás- és tagsági operátorok\n",
    "    - Műveleti sorrend (precedencia)\n",
    "\n",
    "5.  **Névterek és modulok importálása**\n",
    "\n",
    "    - Az `import` és `from...import` használata\n",
    "    - Példák beépített modulokra (`math`, `random`)\n",
    "\n",
    "6.  **Szövegkezelés alapjai: A String típus**\n",
    "\n",
    "    - Stringek létrehozása és speciális karakterek\n",
    "    - Összefűzés és formázás (f-string)\n",
    "\n",
    "7.  **Típuskonverzió**\n",
    "\n",
    "    - Numerikus, szöveges és logikai típusok közötti átalakítások\n",
    "    - A `ValueError` és `TypeError` elkerülése\n",
    "\n",
    "8.  **Hibakezelés alapjai**\n",
    "    - Hibák elkapása: `try...except`\n",
    "    - Hibák kiváltása: `raise`\n",
    "    - Feltételek ellenőrzése: `assert`\n"
   ]
  },
  {
   "cell_type": "markdown",
   "id": "b9fb2f2bd716fabe",
   "metadata": {},
   "source": [
    "## A Python-kód szerkezete és formázása\n"
   ]
  },
  {
   "cell_type": "markdown",
   "id": "36055927",
   "metadata": {},
   "source": [
    "### Indentálás\n",
    "\n",
    "- A Pythonban a kódblokkokat (pl. függvények törzse, `if` utasításokhoz tartozó kód) behúzással (indentálással) jelöljük, nem pedig kapcsos zárójelekkel, mint más nyelvekben.\n",
    "- Minden olyan sor után, amely kettősponttal (`:`) végződik, a következő sornak/soroknak beljebb kell kezdődnie.\n",
    "- A hivatalos stílusajánlás (PEP8) szerint a behúzás mértéke 4 szóköz.\n",
    "- Az indentálás konzisztens használata kritikus, enélkül a kód szintaktikailag hibás lesz.\n",
    "\n",
    "**_Tanári jegyzet:_** _Hangsúlyozzuk ki, hogy a Pythonban az indentálás nem csak az olvashatóságot segíti, hanem a szintaxis része! Mutassunk példát `IndentationError`-ra._\n"
   ]
  },
  {
   "cell_type": "code",
   "execution_count": 2,
   "id": "6d569566763d7b8a",
   "metadata": {},
   "outputs": [
    {
     "name": "stdout",
     "output_type": "stream",
     "text": [
      "8\n"
     ]
    }
   ],
   "source": [
    "def add(arg_1, arg_2):\n",
    "    # Ez a sor 4 szóközzel beljebb kezdődik\n",
    "    return arg_1 + arg_2\n",
    "\n",
    "\n",
    "result = add(5, 3)\n",
    "print(result)  # 8"
   ]
  },
  {
   "cell_type": "markdown",
   "id": "indent_error_md",
   "metadata": {},
   "source": [
    "Helytelen indentálás `IndentationError`-t okoz:\n"
   ]
  },
  {
   "cell_type": "code",
   "execution_count": 3,
   "id": "indent_error_code",
   "metadata": {
    "tags": [
     "raises-exception"
    ]
   },
   "outputs": [
    {
     "ename": "IndentationError",
     "evalue": "expected an indented block (3323117464.py, line 2)",
     "output_type": "error",
     "traceback": [
      "\u001b[0;36m  Cell \u001b[0;32mIn[3], line 2\u001b[0;36m\u001b[0m\n\u001b[0;31m    print(\"Ez hibás\") # Nincs behúzva\u001b[0m\n\u001b[0m    ^\u001b[0m\n\u001b[0;31mIndentationError\u001b[0m\u001b[0;31m:\u001b[0m expected an indented block\n"
     ]
    }
   ],
   "source": [
    "def wrong_function():\n",
    "print(\"Ez hibás\") # Nincs behúzva"
   ]
  },
  {
   "cell_type": "markdown",
   "id": "4a150d5eb41fa2d0",
   "metadata": {},
   "source": [
    "### Egysoros és többsoros utasítások\n",
    "\n",
    "- Alapvetően 1 sor = 1 parancs.\n",
    "- Egy parancs különböző részei közé szóközt rakunk (pl. operátorok köré) az olvashatóságért.\n",
    "- A túl hosszú sorok kerülendőek (PEP8: max. 79-120 karakter).\n",
    "- Ha egy parancs túl hosszú, sortörést használhatunk:\n",
    "  - A sor végére tett `\\` jellel (explicit sortörés). **Megjegyzés**: ez a fordított perjel (backslash), amit AltGR + Q-val lehet írni.\n",
    "  - Zárójelek `(...)`, szögletes zárójelek `[...]` vagy kapcsos zárójelek `{...}` között automatikusan folytatódhat a sor (implicit sortörés) - ez az ajánlott módszer.\n"
   ]
  },
  {
   "cell_type": "code",
   "execution_count": 4,
   "id": "4de23da0f827b773",
   "metadata": {},
   "outputs": [
    {
     "name": "stdout",
     "output_type": "stream",
     "text": [
      "55\n"
     ]
    }
   ],
   "source": [
    "# fmt: off\n",
    "# Explicit sortörés\n",
    "a = 1 + 2 + 3 + 4 + 5 \\\n",
    "      + 6 + 7 + 8 + 9 + 10\n",
    "print(a) # 55"
   ]
  },
  {
   "cell_type": "code",
   "execution_count": 5,
   "id": "713470b1f8dccb90",
   "metadata": {},
   "outputs": [
    {
     "name": "stdout",
     "output_type": "stream",
     "text": [
      "55\n"
     ]
    }
   ],
   "source": [
    "# fmt: off\n",
    "# Implicit sortörés zárójelek között\n",
    "b = (1 + 2 + 3 + 4 + 5\n",
    "      + 6 + 7 + 8 + 9 + 10)\n",
    "print(b) # 55"
   ]
  },
  {
   "cell_type": "markdown",
   "id": "7f92f3ecd552ee80",
   "metadata": {},
   "source": [
    "Több (rövid) parancs is lehet egy sorban pontosvesszővel (`;`) elválasztva, de ez általában nem ajánlott, kivéve nagyon egyszerű esetekben (pl. változódefiníciók).\n"
   ]
  },
  {
   "cell_type": "code",
   "execution_count": 6,
   "id": "27b7a86b260ddf1e",
   "metadata": {},
   "outputs": [
    {
     "name": "stdout",
     "output_type": "stream",
     "text": [
      "c = 4\n",
      "d = 5\n",
      "e = 6\n",
      "f = 7\n",
      "g = 8\n"
     ]
    }
   ],
   "source": [
    "# fmt: off\n",
    "c = 4; d = 5\n",
    "print(\"c =\", c)\n",
    "print(\"d =\", d)\n",
    "\n",
    "# Több változó egyidejű értékadása (ajánlottabb, ha összefüggnek)\n",
    "e, f, g = 6, 7, 8\n",
    "print(\"e =\", e)\n",
    "print(\"f =\", f)\n",
    "print(\"g =\", g)"
   ]
  },
  {
   "cell_type": "markdown",
   "id": "3904ef5b826bba07",
   "metadata": {},
   "source": [
    "## Kommentek és dokumentáció\n"
   ]
  },
  {
   "cell_type": "markdown",
   "id": "3f29bd36",
   "metadata": {},
   "source": [
    "- A kódjainkba írhatunk megjegyzéseket, amelyeket a Python interpreter figyelmen kívül hagy.\n",
    "- Miért hasznos?\n",
    "  - Magyarázatot adnak a kód működésére.\n",
    "  - Tagolják, olvashatóbbá teszik a kódot.\n",
    "  - Segítenek emlékezni a kód logikájára később (akár saját magunknak is).\n",
    "  - Ideiglenesen \"kikommentelhetünk\" (értsd: inaktívvá tehetünk) kódrészleteket a teszteléshez.\n",
    "- Két fő típus:\n",
    "  - **Egysoros komment:** `#` jellel kezdődik, a jel után a sor végéig tart.\n",
    "  - **Többsoros komment (docstring):** Három idézőjel (`\"\"\"` vagy `'''`) közé zárt szöveg. Elsősorban függvények, osztályok, modulok dokumentálására használjuk.\n"
   ]
  },
  {
   "cell_type": "markdown",
   "id": "af6ad937",
   "metadata": {},
   "source": [
    "### Egysoros komment\n"
   ]
  },
  {
   "cell_type": "code",
   "execution_count": 7,
   "id": "547ddc2c182c666c",
   "metadata": {},
   "outputs": [],
   "source": [
    "# Ez egy egysoros komment.\n",
    "x = 10  # Ez is egy komment, a kód után.\n",
    "\n",
    "# Az alábbi sor ki van kommentelve, így nem fut le:\n",
    "# y = 15"
   ]
  },
  {
   "cell_type": "markdown",
   "id": "99a4f431",
   "metadata": {},
   "source": [
    "### Többsoros komment és docstring\n",
    "\n",
    "- A docstring egy speciális többsoros komment, amelyet általában függvények, osztályok vagy modulok elején használunk a dokumentációhoz.\n"
   ]
  },
  {
   "cell_type": "code",
   "execution_count": 8,
   "id": "a91347bd",
   "metadata": {},
   "outputs": [],
   "source": [
    "def my_function(a):\n",
    "    \"\"\"Ez egy docstring.\n",
    "    Leírja, mit csinál a függvény.\n",
    "    Több soros is lehet.\n",
    "    Ha a függvény neve fölé mozgatjuk az egeret,\n",
    "    akkor ezt a leírást látjuk.\n",
    "    Pl: ez a függvény a bemeneti érték kétszeresét adja vissza.\n",
    "    \"\"\"\n",
    "    # Ez egy sima komment a függvényen belül.\n",
    "    return a * 2\n",
    "\n",
    "\n",
    "# Gyakran többsoros leírásokat\n",
    "# inkább soronként\n",
    "# kommentelünk ki"
   ]
  },
  {
   "cell_type": "markdown",
   "id": "e12d13bf3bbc431a",
   "metadata": {},
   "source": [
    "### TODO kommentek\n",
    "\n",
    "- Gyakori konvenció, hogy a még elvégzendő feladatokat `TODO` kommenttel jelöljük. Az IDE-k (fejlesztői környezetek) gyakran kiemelik ezeket a sorokat, segítve a fejlesztőt.\n"
   ]
  },
  {
   "cell_type": "code",
   "execution_count": 9,
   "id": "e4f22beb091d90ab",
   "metadata": {},
   "outputs": [],
   "source": [
    "# TODO: Kellene ide majd egy példa a to-do kommentek használatára."
   ]
  },
  {
   "cell_type": "markdown",
   "id": "b38174346dcb4c94",
   "metadata": {},
   "source": [
    "## Változók, objektumok és típusok\n"
   ]
  },
  {
   "cell_type": "markdown",
   "id": "8ca436ad",
   "metadata": {},
   "source": [
    "### A Python objektummodellje: típus, érték és azonosító\n"
   ]
  },
  {
   "cell_type": "markdown",
   "id": "f466b4b5",
   "metadata": {},
   "source": [
    "- A Pythonban szinte **minden egy objektum**: számok, stringek, listák, függvények stb.\n",
    "- **Objektum:** A számítógép memóriájának egy régiója, amely adatokat (értéket) és a hozzá kapcsolódó információkat (pl. típust, metódusokat) tartalmazza.\n",
    "- Minden objektumnak van:\n",
    "  - **Típusa (type):** Meghatározza, milyen műveletek végezhetők rajta (pl. `int`, `str`, `list`). A `type()` függvénnyel kérdezhető le.\n",
    "  - **Értéke (value):** Az objektum által tárolt adat, amely a típusától függően változhat (pl. egy szám értéke, egy string karakterei).\n",
    "  - **Azonosítója (id):** Egyedi szám, amely az objektum memóriabeli helyét (vagy ahhoz köthető azonosítót) jelöli az adott futás során. Az `id()` függvénnyel kérdezhető le. (Ez elsősorban a Python belső működése szempontjából releváns, ritkán használjuk direktben.)\n",
    "- Amikor létrehozunk egy objektumot pl. az `x = 10` paranccsal, akkor létrejön egy `int` típusú objektum, amelynek értéke `10`, és hozzárendeljük az `x`-et, mint címke. A kódban ezután erre az objektumra hivatkozunk az `x` névvel.\n",
    "\n",
    "**_Tanári jegyzet:_** _Fontos megérteni a különbséget az objektum (az érték a memóriában) és a változó név (a címke, amivel hivatkozunk rá) között._\n"
   ]
  },
  {
   "cell_type": "code",
   "execution_count": 10,
   "id": "55bf5fa016af511b",
   "metadata": {},
   "outputs": [
    {
     "name": "stdout",
     "output_type": "stream",
     "text": [
      "Objektum érték: 10\n",
      "Objektum típus: <class 'int'>\n",
      "Objektum azonosító (id): 4309887568\n",
      "Az objektumhoz tartozó név: my_variable\n"
     ]
    }
   ],
   "source": [
    "my_variable = 10  # hozzunk létre egy változót: a címke (változó név) a bal oldalon, az objektum a jobb oldalon\n",
    "print(\"Objektum érték:\", my_variable)\n",
    "print(\"Objektum típus:\", type(my_variable))\n",
    "print(\"Objektum azonosító (id):\", id(my_variable))\n",
    "print(\"Az objektumhoz tartozó név: my_variable\")"
   ]
  },
  {
   "cell_type": "code",
   "execution_count": 11,
   "id": "e43a1e73",
   "metadata": {},
   "outputs": [
    {
     "name": "stdout",
     "output_type": "stream",
     "text": [
      "Másik változó id-ja: 4309887568\n"
     ]
    }
   ],
   "source": [
    "other_variable = my_variable  # Most mindkét név ugyanarra az objektumra mutat, látjuk, hogy az `id` értéke is ugyanaz.\n",
    "print(\"Másik változó id-ja:\", id(other_variable))"
   ]
  },
  {
   "cell_type": "code",
   "execution_count": 12,
   "id": "dc018a8d",
   "metadata": {},
   "outputs": [
    {
     "name": "stdout",
     "output_type": "stream",
     "text": [
      "Új érték: 20\n",
      "Új id: 4309887888\n"
     ]
    }
   ],
   "source": [
    "my_variable = 20  # A 'my_variable' név most egy másik objektumra mutat,\n",
    "print(\"Új érték:\", my_variable)\n",
    "print(\"Új id:\", id(my_variable))"
   ]
  },
  {
   "cell_type": "markdown",
   "id": "6d27a5de",
   "metadata": {},
   "source": [
    "<img src=\"./variables.png\" width=\"900px\"/>"
   ]
  },
  {
   "cell_type": "markdown",
   "id": "6c63381272b36bb8",
   "metadata": {},
   "source": [
    "### Változónevek: szabályok és konvenciók\n"
   ]
  },
  {
   "cell_type": "markdown",
   "id": "1f9c91d1",
   "metadata": {},
   "source": [
    "#### Kötelezően:\n",
    "\n",
    "- Az első karakter betű (a-z, A-Z) vagy aláhúzás (`_`).\n",
    "- A további karakterek lehetnek betűk, számok (0-9) vagy aláhúzás.\n",
    "- **Kis- és nagybetűk különbözőnek számítanak!** (`number` és `Number` két különböző változó).\n",
    "- Nem lehetnek Python kulcsszavak (pl. `if`, `for`, `def`, `class`, `True`, `None`).\n",
    "\n",
    "#### Ajánlottan:\n",
    "\n",
    "- Használjunk angol nyelvű neveket.\n",
    "- Legyenek kifejezőek (pl. `age` az `a` helyett).\n",
    "- A változónevek kisbetűvel kezdődjenek.\n",
    "- Több szóból álló neveknél használjunk aláhúzást (snake_case): `max_velocity`.\n",
    "- Kerüljük a speciális jelentésű neveket (általában `_`-al kezdődő vagy végződő nevek, pl. `__init__`).\n",
    "- **Ne használjunk beépített függvény- és típusneveket** változónévként (pl. `print`, `list`, `str`, `sum`), mert felülírják az eredeti funkciót!\n"
   ]
  },
  {
   "cell_type": "code",
   "execution_count": 13,
   "id": "9caaa3d3",
   "metadata": {},
   "outputs": [
    {
     "name": "stdout",
     "output_type": "stream",
     "text": [
      "10\n",
      "<class 'str'>\n",
      "Hiba történt: 'str' object is not callable\n",
      "Most újra működik a print!\n"
     ]
    }
   ],
   "source": [
    "# demonstráció, hogy mi történik, ha felülírunk egy beépített függvényt\n",
    "\n",
    "print(10)  # 10\n",
    "print_backup = print  # mentsük el az eredeti print függvényt\n",
    "\n",
    "# \"véletlenül\" felülírjuk a print függvényt\n",
    "print = \"Ez most egy string, nem a print függvény\"\n",
    "print_backup(type(print))  #  <class 'str'>\n",
    "\n",
    "try:\n",
    "    print(10)  # Ez már TypeError-t fog dobni, mert a print már nem függvény\n",
    "except TypeError as e:\n",
    "    print_backup(\"Hiba történt:\", e)  # Hiba történt: 'str' object is not callable\n",
    "\n",
    "    # Hogy újra működjön a print, töröljük a változót:\n",
    "    del print\n",
    "\n",
    "print(\"Most újra működik a print!\")"
   ]
  },
  {
   "cell_type": "markdown",
   "id": "8e3036bf86c27967",
   "metadata": {},
   "source": [
    "### Dinamikus típusosság\n"
   ]
  },
  {
   "cell_type": "markdown",
   "id": "2e96625e",
   "metadata": {},
   "source": [
    "- A Python **dinamikusan típusos** nyelv.\n",
    "- Ez azt jelenti, hogy egy változóhoz nem kell előre megadni a típust, az futás közben dől el az alapján, hogy milyen értéket (objektumot) rendelünk hozzá.\n",
    "- Ugyanaz a változónév később más típusú objektumra is mutathat.\n",
    "- Ellentétben a **statikusan típusos** nyelvekkel (pl. C++, Java), ahol a változó típusát deklaráláskor rögzíteni kell, és az később nem változhat.\n",
    "\n",
    "**_Tanári jegyzet:_** _A dinamikus típusosság rugalmasságot ad, de potenciális hibaforrás is lehet, ha nem figyelünk oda, milyen típusú érték van éppen egy változóban. A type hinting (`valtozo: int = 10`) segíthet az olvashatóságban és a statikus analízisben, de a Python futás közben nem kényszeríti ki ezeket a típusokat._\n"
   ]
  },
  {
   "cell_type": "code",
   "execution_count": 14,
   "id": "875bbdc027f72a5e",
   "metadata": {},
   "outputs": [
    {
     "name": "stdout",
     "output_type": "stream",
     "text": [
      "<class 'float'>\n",
      "<class 'str'>\n"
     ]
    }
   ],
   "source": [
    "pi = 3.14\n",
    "type_of_pi = type(pi)\n",
    "print(type_of_pi)  # <class 'float'>\n",
    "\n",
    "# A 'pi' változónév most egy másik, string típusú objektumra mutat\n",
    "pi = \"Ez már egy string\"\n",
    "print(type(pi))  # <class 'str'>"
   ]
  },
  {
   "cell_type": "markdown",
   "id": "57b4f8f11e557fb2",
   "metadata": {},
   "source": [
    "### Beépített adattípusok\n"
   ]
  },
  {
   "cell_type": "markdown",
   "id": "5def4349",
   "metadata": {},
   "source": [
    "Többféle csoportosítás is létezik, de ez egy elterjedt:\n",
    "\n",
    "- **Numerikus típusok:**\n",
    "  - Egész számok: `int` (integer) - tetszőleges méretű lehet.\n",
    "  - Lebegőpontos számok: `float` (floating point) - tizedes tört.\n",
    "  - Komplex számok: `complex` (pl. `1 + 2j`).\n",
    "- **Szöveges típus:**\n",
    "  - String: `str` - karakterlánc.\n",
    "- **Logikai típus:**\n",
    "  - Boolean: `bool` - `True` (igaz) vagy `False` (hamis) értéket vehet fel.\n",
    "- **Sorozat típusok (Sequence Types):**\n",
    "  - Lista: `list` - módosítható, rendezett sorozat.\n",
    "  - Tuple: `tuple` - nem módosítható, rendezett sorozat.\n",
    "  - Range: `range` - egész számok sorozata (főleg ciklusokhoz).\n",
    "- **Halmaz típus:**\n",
    "  - Halmaz: `set` - rendezetlen, egyedi elemek gyűjteménye.\n",
    "- **Leképezési típus (Mapping Type):**\n",
    "  - Szótár: `dict` (dictionary) - kulcs-érték párok gyűjteménye.\n",
    "- **Speciális típus:**\n",
    "  - NoneType: `None` - az \"érték hiányát\" jelöli.\n"
   ]
  },
  {
   "cell_type": "code",
   "execution_count": 15,
   "id": "568b1e7a844b2ee3",
   "metadata": {},
   "outputs": [
    {
     "name": "stdout",
     "output_type": "stream",
     "text": [
      "<class 'int'>\n",
      "<class 'float'>\n",
      "<class 'complex'>\n",
      "<class 'str'>\n",
      "<class 'bool'>\n",
      "<class 'NoneType'>\n"
     ]
    }
   ],
   "source": [
    "# pár példa:\n",
    "\n",
    "my_integer = 1\n",
    "print(type(my_integer))  # <class 'int'>\n",
    "\n",
    "my_float = 1.1\n",
    "print(type(my_float))  # <class 'float'>\n",
    "\n",
    "my_imaginary = 1 + 2j\n",
    "print(type(my_imaginary))  # <class 'complex'>\n",
    "\n",
    "my_string = \"változó\"\n",
    "print(type(my_string))  # <class 'str'>\n",
    "\n",
    "my_boolean = True\n",
    "print(type(my_boolean))  # <class 'bool'>\n",
    "\n",
    "my_none = None\n",
    "print(type(my_none))  # <class 'NoneType'>"
   ]
  },
  {
   "cell_type": "markdown",
   "id": "isinstance_md",
   "metadata": {},
   "source": [
    "Az `isinstance()` függvény segítségével ellenőrizhetjük, hogy egy objektum melyik típusba tartozik.\n"
   ]
  },
  {
   "cell_type": "code",
   "execution_count": 16,
   "id": "59fc7d1e36869b3",
   "metadata": {},
   "outputs": [
    {
     "name": "stdout",
     "output_type": "stream",
     "text": [
      "True\n",
      "True\n",
      "False\n",
      "False\n"
     ]
    }
   ],
   "source": [
    "print(isinstance(True, bool))  # Igaz, mert bool\n",
    "print(isinstance(5, int))  # Igaz, mert int\n",
    "print(isinstance(5, float))  # Hamis, mert int\n",
    "print(\n",
    "    isinstance(1, complex)\n",
    ")  # Hamis, és tanulságos! Matematikai értelemben a 1 komplex szám, de itt a Python típusrendszere szigorúbb. Az int típus nem egy alosztálya a complex típusnak."
   ]
  },
  {
   "cell_type": "markdown",
   "id": "ccf94179d3f10b38",
   "metadata": {},
   "source": [
    "## Műveletek és kifejezések: az operátorok\n"
   ]
  },
  {
   "cell_type": "markdown",
   "id": "688f5cf5",
   "metadata": {},
   "source": [
    "Ebben a fejezetben főleg a numerikus típusokon (`int`, `float`, `complex`) végezhető műveleteket és az ehhez tartozó operátorokat tekintjük át. Más típusok esetén ezek az operátorok eltérő viselkedést mutathatnak (pl. stringeknél az `+` operátor összefűzést jelent), ám ezekről külön fejezetekben lesz szó."
   ]
  },
  {
   "cell_type": "markdown",
   "id": "7c5bec7a",
   "metadata": {},
   "source": [
    "### Dinamikus típusosság és az operátorok"
   ]
  },
  {
   "cell_type": "markdown",
   "id": "a4c96445",
   "metadata": {},
   "source": [
    "Amennyiben egy adott típusú változón valami műveletet végzünk, az eredmény típusa nem feltétlenül ugyanaz lesz, mint a kiindulási változóé. Ökölszabály, hogy a műveletben részt vevő operandusok \"legtágabb\" típusa határozza meg az eredmény típusát. Például egy `int` és egy `float` típus összeadása esetén az eredmény `float` lesz, mert a `float` \"tágabb\" típus, mint az `int`. Gondolhatunk a három numerikus típusra úgy, mint halmazokra, ahol a `int` a legszűkebb, a `float` egy nagyobb halmaz, és a `complex` a legnagyobb halmaz. A teljesség igénye nélkül néhány példa:\n",
    "- `int` + `int` -> `int`\n",
    "- `int` + `float` -> `float`\n",
    "- `int` * `int` -> `int`\n",
    "- `int` * `float` -> `float`\n",
    "- bármely típus esetén az osztás (`/`) eredménye `float`"
   ]
  },
  {
   "cell_type": "markdown",
   "id": "8d9ec522",
   "metadata": {},
   "source": [
    "### Aritmetikai operátorok"
   ]
  },
  {
   "cell_type": "code",
   "execution_count": 17,
   "id": "394cd4e1",
   "metadata": {},
   "outputs": [
    {
     "name": "stdout",
     "output_type": "stream",
     "text": [
      "x + y: 35\n",
      "x - y: -15\n",
      "x * y: 250\n",
      "y / x: 2.5\n",
      "y // x: 2\n",
      "y % x (25/10 osztás maradéka): 5\n",
      "x ** 3: 1000\n"
     ]
    }
   ],
   "source": [
    "x = 10\n",
    "y = 25\n",
    "z = 4.0\n",
    "\n",
    "# Összeadás\n",
    "print(\"x + y:\", x + y)  # 35\n",
    "\n",
    "# Kivonás\n",
    "print(\"x - y:\", x - y)  # -15\n",
    "\n",
    "# Szorzás\n",
    "print(\"x * y:\", x * y)  # 250\n",
    "\n",
    "# Osztás (mindig float az eredmény)\n",
    "print(\"y / x:\", y / x)  # 2.5\n",
    "\n",
    "# Egész osztás (csak az egész rész)\n",
    "print(\"y // x:\", y // x)  # 2\n",
    "\n",
    "# Maradékos osztás (maradékszámítás) a modulo operátorral\n",
    "print(\"y % x (25/10 osztás maradéka):\", y % x)  # 5\n",
    "\n",
    "# Hatványozás: nem a ^ jelet használjuk, hanem a ** jelet!\n",
    "print(\"x ** 3:\", x**3)  # 1000"
   ]
  },
  {
   "cell_type": "markdown",
   "id": "173054fa",
   "metadata": {},
   "source": [
    "### Értékadó operátorok\n",
    "\n",
    "Egyszerre történik egy aritmetikai művelet és egy értékadás.\n"
   ]
  },
  {
   "cell_type": "code",
   "execution_count": 18,
   "id": "532070b4",
   "metadata": {},
   "outputs": [
    {
     "name": "stdout",
     "output_type": "stream",
     "text": [
      "Kezdet: 10\n",
      "x += 3 -> 13\n",
      "x -= 3 -> 10\n",
      "x *= 3 -> 30\n",
      "x /= 3 -> 10.0\n",
      "x //= 3 -> 3.0\n",
      "x **= 3 -> 27.0\n",
      "x %= 4 -> 3.0\n"
     ]
    }
   ],
   "source": [
    "x = 10\n",
    "\n",
    "print(\"Kezdet:\", x)  # 10\n",
    "x += 3  # x = x + 3\n",
    "print(\"x += 3 ->\", x)  # 13\n",
    "x -= 3  # x = x - 3\n",
    "print(\"x -= 3 ->\", x)  # 10\n",
    "x *= 3  # x = x * 3\n",
    "print(\"x *= 3 ->\", x)  # 30\n",
    "x /= 3  # x = x / 3\n",
    "print(\"x /= 3 ->\", x)  # 10.0 (eddig int volt, most float lett!)\n",
    "x //= 3  # x = x // 3\n",
    "print(\"x //= 3 ->\", x)  # 3.0\n",
    "x **= 3  # x = x ** 3\n",
    "print(\"x **= 3 ->\", x)  # 27.0\n",
    "x %= 4  # x = x % 4\n",
    "print(\"x %= 4 ->\", x)  # 3.0"
   ]
  },
  {
   "cell_type": "markdown",
   "id": "d195d2da",
   "metadata": {},
   "source": [
    "### Összehasonlító operátorok\n",
    "\n",
    "Ezek az operátorok mindig `bool` (`True` vagy `False`) értéket adnak vissza.\n"
   ]
  },
  {
   "cell_type": "code",
   "execution_count": 19,
   "id": "9838a666",
   "metadata": {},
   "outputs": [
    {
     "name": "stdout",
     "output_type": "stream",
     "text": [
      "x == y: False\n",
      "x == 10: True\n",
      "x != y: True\n",
      "x != 10: False\n",
      "x > y: False\n",
      "x >= 10: True\n",
      "x < y: True\n",
      "x <= y: True\n"
     ]
    }
   ],
   "source": [
    "x = 10\n",
    "y = 25\n",
    "\n",
    "# Egyenlőség vizsgálata\n",
    "print(\"x == y:\", x == y)  # Hamis\n",
    "print(\"x == 10:\", x == 10)  # Igaz\n",
    "\n",
    "# Egyenlőtlenség vizsgálata\n",
    "print(\"x != y:\", x != y)  # Igaz\n",
    "print(\"x != 10:\", x != 10)  # Hamis\n",
    "\n",
    "# Relációk\n",
    "print(\"x > y:\", x > y)  # Hamis\n",
    "print(\"x >= 10:\", x >= 10)  # Igaz\n",
    "print(\"x < y:\", x < y)  # Igaz\n",
    "print(\"x <= y:\", x <= y)  # Igaz"
   ]
  },
  {
   "cell_type": "markdown",
   "id": "4e894417",
   "metadata": {},
   "source": [
    "### Logikai operátorok\n",
    "\n",
    "Logikai kifejezések (például összehasonlító operátorok eredményeinek) kombinálására használjuk: `and`, `or`, `not`.\n"
   ]
  },
  {
   "cell_type": "code",
   "execution_count": 20,
   "id": "38e1c826",
   "metadata": {},
   "outputs": [
    {
     "name": "stdout",
     "output_type": "stream",
     "text": [
      "x < y and y == 25: True\n",
      "x > y or y < x: False\n",
      "x < y or y < x: True\n",
      "not (y % x == 5): False\n",
      "x < y and not(y % x == 0): True\n"
     ]
    }
   ],
   "source": [
    "x = 10\n",
    "y = 25\n",
    "\n",
    "# Logikai ÉS (and): akkor igaz, ha mindkét operandus (\"oldal\") igaz.\n",
    "print(\"x < y and y == 25:\", x < y and y % x == 5)  # Igaz and Igaz -> True\n",
    "\n",
    "# Logikai VAGY (or): akkor igaz, ha legalább az egyik operandus igaz.\n",
    "print(\"x > y or y < x:\", x > y or y < x)  # Hamis or Hamis -> Hamis\n",
    "print(\"x < y or y < x:\", x < y or y < x)  # Igaz or Hamis -> Igaz\n",
    "\n",
    "# Logikai NEM (not): megfordítja (negálja) az operandus logikai értékét.\n",
    "print(\"not (y % x == 5):\", not (y % x == 5))  # not(Igaz) -> Hamis\n",
    "print(\n",
    "    \"x < y and not(y % x == 0):\", x < y and not (y % x == 0)\n",
    ")  # Igaz and not(Hamis) -> Igaz and Igaz -> Igaz"
   ]
  },
  {
   "cell_type": "markdown",
   "id": "555c948a",
   "metadata": {},
   "source": [
    "### Identitás operátorok\n",
    "\n",
    "Ezek az operátorok (`is`, `is not`) két objektum azonosságát vizsgálják. Fontos, hogy az összehasonlítás nem érték szerint, hanem memóriacím szerint történik!\n"
   ]
  },
  {
   "cell_type": "code",
   "execution_count": 21,
   "id": "71c13fce",
   "metadata": {},
   "outputs": [
    {
     "name": "stdout",
     "output_type": "stream",
     "text": [
      "x is y: False\n",
      "id(x): 4465396624\n",
      "id(y): 4465397232\n",
      "z is x: True\n",
      "z is not w: True\n"
     ]
    }
   ],
   "source": [
    "x = 1 + 2j\n",
    "y = 1 + 2j\n",
    "\n",
    "# az értékek azonosak, de nem ugyanaz az objektum\n",
    "print(\"x is y:\", x is y)\n",
    "print(\"id(x):\", id(x))\n",
    "print(\"id(y):\", id(y))  # a memóriacímek különböznek, ezért lesz False az eredmény\n",
    "\n",
    "z = x\n",
    "print(\"z is x:\", z is x)  # z ugyanarra az objektumra mutat, mint x, így True\n",
    "\n",
    "w = \"hello\"\n",
    "print(\"z is not w:\", z is not w)  # True, mert z és w nem ugyanaz az objektum"
   ]
  },
  {
   "cell_type": "markdown",
   "id": "a197d68f",
   "metadata": {},
   "source": [
    "### Tagsági operátorok\n",
    "\n",
    "Ezek az operátorok (`in`, `not in`) ellenőrzik, hogy egy elem benne van-e egy sorozatban (pl. lista, string, tuple). Ezekről az adattípusokról később lesz szó.\n"
   ]
  },
  {
   "cell_type": "code",
   "execution_count": 22,
   "id": "4818a9b4",
   "metadata": {},
   "outputs": [
    {
     "name": "stdout",
     "output_type": "stream",
     "text": [
      "True\n",
      "True\n"
     ]
    }
   ],
   "source": [
    "my_string = \"hello\"\n",
    "print(\"h\" in my_string)  # True, mert a 'h' karakter benne van a \"hello\" stringben\n",
    "print(\"x\" not in my_string)  # True, mert az 'x' karakter nincs"
   ]
  },
  {
   "cell_type": "markdown",
   "id": "65a7c449",
   "metadata": {},
   "source": [
    "### Műveleti sorrend\n",
    "\n",
    "- A Python a matematikai műveleti sorrendet követi:\n",
    "  1. Zárójelek `()`\n",
    "  2. Hatványozás `**`\n",
    "  3. Szorzás `*`, Osztás `/`, Egész osztás `//`, Maradékos osztás `%` (balról jobbra)\n",
    "  4. Összeadás `+`, Kivonás `-` (balról jobbra)\n",
    "- Az összehasonlító operátorok (`<`, `>`, `==` stb.) alacsonyabb precedenciájúak, mint az aritmetikaiak.\n",
    "- A logikai operátorok (`not`, `and`, `or`) még alacsonyabbak.\n",
    "- Zárójelekkel mindig felülbírálhatjuk a precedenciát.\n"
   ]
  },
  {
   "cell_type": "code",
   "execution_count": 23,
   "id": "fcf17f0a",
   "metadata": {},
   "outputs": [
    {
     "name": "stdout",
     "output_type": "stream",
     "text": [
      "15\n",
      "35\n"
     ]
    }
   ],
   "source": [
    "print(5 + 2 * 5)  # 15: szorzás előbb\n",
    "print((5 + 2) * 5)  # 35: zárójel felülbírál"
   ]
  },
  {
   "cell_type": "markdown",
   "id": "import_modes_md",
   "metadata": {},
   "source": [
    "## Külső kód használata: névterek és importálás\n"
   ]
  },
  {
   "cell_type": "markdown",
   "id": "aa1a62c9",
   "metadata": {},
   "source": [
    "Tegyük fel, van egy `foo.py` fájlunk, benne `obj1` és `obj2` változókkal.\n",
    "\n",
    "1.  **Teljes modul importálása:**\n",
    "    `import foo`\n",
    "\n",
    "    - Ekkor a `foo` modul objektumait a `modulnev.objektumnev` formában érjük el: `foo.obj1`, `foo.obj2`.\n",
    "    - Ez a legajánlottabb módszer általában, mert egyértelművé teszi, honnan származik egy név, és csökkenti a névütközések esélyét.\n",
    "\n",
    "2.  **Modul importálása alias-szal:**\n",
    "    `import foo as f`\n",
    "\n",
    "    - Hasonló az előzőhöz, de egy rövidebb alias (`f`) nevet adunk a modulnak.\n",
    "    - Hivatkozás: `f.obj1`, `f.obj2`. Gyakori pl. `import numpy as np`, `import pandas as pd`.\n",
    "\n",
    "3.  **Specifikus objektumok importálása:**\n",
    "    `from foo import obj1, obj2`\n",
    "\n",
    "    - Csak a megadott objektumokat (`obj1`, `obj2`) importálja a jelenlegi névtérbe.\n",
    "    - Hivatkozás közvetlenül a nevükön: `obj1`, `obj2`.\n",
    "    - Kényelmesebb lehet, de növeli a névütközés esélyét, ha a saját kódunkban is van pl. `obj1` nevű változó.\n",
    "\n",
    "4.  **Minden importálása (Wildcard Import):**\n",
    "    `from foo import *`\n",
    "    - A modul összes (nem `_`-al kezdődő) nevét importálja a jelenlegi névtérbe.\n",
    "    - **Erősen ellenjavallt!** Nagyon könnyen okoz névütközéseket és nehezen követhetővé teszi, hogy egy név honnan származik.\n"
   ]
  },
  {
   "cell_type": "markdown",
   "id": "1db561a4",
   "metadata": {},
   "source": [
    "### Beépített modulok importálása\n",
    "\n",
    "- A Python telepítésével együtt érkezik a standard könyvtár, ami sok hasznos modult tartalmaz alapvető feladatokhoz.\n"
   ]
  },
  {
   "cell_type": "code",
   "execution_count": 24,
   "id": "dffb7824b16711ca",
   "metadata": {},
   "outputs": [
    {
     "name": "stdout",
     "output_type": "stream",
     "text": [
      "3.141592653589793\n",
      "4.0\n"
     ]
    }
   ],
   "source": [
    "import math\n",
    "\n",
    "print(math.pi)\n",
    "print(math.sqrt(16))"
   ]
  },
  {
   "cell_type": "code",
   "execution_count": 25,
   "id": "e00906f7e1acb36c",
   "metadata": {},
   "outputs": [
    {
     "name": "stdout",
     "output_type": "stream",
     "text": [
      "1756818255.6948118\n"
     ]
    }
   ],
   "source": [
    "import time as t  # Alias használata\n",
    "\n",
    "print(t.time())  # Unix időbélyeg"
   ]
  },
  {
   "cell_type": "code",
   "execution_count": 26,
   "id": "b3d698e7c982d9c0",
   "metadata": {},
   "outputs": [
    {
     "name": "stdout",
     "output_type": "stream",
     "text": [
      "2025-09-02 15:04:15.700241\n"
     ]
    }
   ],
   "source": [
    "from datetime import datetime  # Csak a datetime osztály importálása a datetime modulból\n",
    "\n",
    "print(datetime.now())"
   ]
  },
  {
   "cell_type": "code",
   "execution_count": 27,
   "id": "1244dcb25f1c1711",
   "metadata": {},
   "outputs": [
    {
     "name": "stdout",
     "output_type": "stream",
     "text": [
      "Aktuális munkakönyvtár: /Users/domonkoscsuzdi/bmepython/EA/EA2\n"
     ]
    }
   ],
   "source": [
    "import os\n",
    "\n",
    "print(\"Aktuális munkakönyvtár:\", os.getcwd())"
   ]
  },
  {
   "cell_type": "code",
   "execution_count": 28,
   "id": "ad6e5f03a7b79562",
   "metadata": {},
   "outputs": [
    {
     "name": "stdout",
     "output_type": "stream",
     "text": [
      "Véletlen float [0, 1): 0.8393398435571261\n",
      "Véletlen int [1, 6]: 5\n"
     ]
    }
   ],
   "source": [
    "from random import random, randint  # Két függvény importálása\n",
    "\n",
    "print(\"Véletlen float [0, 1):\", random())\n",
    "\n",
    "# dobókocka\n",
    "print(\"Véletlen int [1, 6]:\", randint(1, 6))"
   ]
  },
  {
   "cell_type": "markdown",
   "id": "1d1bf9ad79112209",
   "metadata": {},
   "source": [
    "## Szövegkezelés alapjai: A String típus\n"
   ]
  },
  {
   "cell_type": "markdown",
   "id": "db5a24c6",
   "metadata": {},
   "source": [
    "- Karakterláncok tárolására használt típus (`str`).\n",
    "- Immutable: Létrehozás után a tartalma közvetlenül nem módosítható (pl. `s[0] = 'A'` hibát ad, de az indexelésről később lesz szó).\n",
    "- Idézőjelek: Létrehozható aposztróf (`'...'`), idézőjel (`\"...\"`) vagy tripla idézőjel (`\"\"\"...\"\"\"` vagy `'''...'''`) között.\n",
    "  - A tripla idézőjel többsoros stringek létrehozására és docstringek írására is alkalmas.\n",
    "  - Különleges eset, ha a string tartalmaz idézőjelet: akkor az ellenkező típusú idézőjelet használjuk, vagy escape karaktert (`\\`) alkalmazunk.\n",
    "- Speciális karakterek (escape sequences): `\\n` (új sor), `\\t` (tabulátor), `\\'` (aposztróf), `\\\"` (idézőjel), `\\\\` (backslash).\n"
   ]
  },
  {
   "cell_type": "markdown",
   "id": "2fe2c589",
   "metadata": {},
   "source": [
    "### Stringek létrehozása\n"
   ]
  },
  {
   "cell_type": "code",
   "execution_count": null,
   "id": "38fdcad5afe853e0",
   "metadata": {},
   "outputs": [
    {
     "name": "stdout",
     "output_type": "stream",
     "text": [
      "Hello World!\n",
      "Idézőjel: \" \n",
      "Ez egy\n",
      "több soros\n",
      "string.\n"
     ]
    }
   ],
   "source": [
    "# fmt: off\n",
    "my_str1 = \"Hello World!\"\n",
    "my_str2 = 'Hello World!' # mindegy, hogy \" vagy '\n",
    "my_str3 = \"\"\"Ez egy\n",
    "több soros\n",
    "string.\"\"\"\n",
    "\n",
    "print(my_str1)\n",
    "print(my_str2)\n",
    "print(my_str3)"
   ]
  },
  {
   "cell_type": "code",
   "execution_count": 2,
   "id": "6cdf88e4",
   "metadata": {},
   "outputs": [
    {
     "name": "stdout",
     "output_type": "stream",
     "text": [
      "This string isn't a regular string\n",
      "This string isn't a regular string\n"
     ]
    }
   ],
   "source": [
    "# fmt: off\n",
    "# a külső idézőjelnek nem használhatjuk a '...'-t, mert az szövegben lévő aposztrófot az interpreter lezárásnak veszi\n",
    "my_str4 = \"This string isn't a regular string\"\n",
    "print(my_str4)\n",
    "\n",
    "# vagy használhatunk escape karaktert, azaz a backslash-t (\\)\n",
    "my_str5 = 'This string isn\\'t a regular string'\n",
    "print(my_str5)"
   ]
  },
  {
   "cell_type": "markdown",
   "id": "ffa2f675cb57a76",
   "metadata": {},
   "source": [
    "Új sor (`\\n`) és tabulátor (`\\t`) karakterek:\n"
   ]
  },
  {
   "cell_type": "code",
   "execution_count": 31,
   "id": "f37ea7df93d2e4e0",
   "metadata": {},
   "outputs": [
    {
     "name": "stdout",
     "output_type": "stream",
     "text": [
      "Eredeti: Hello World!\n",
      "Új sorral: Hello\n",
      "World!\n",
      "Tabulátorral: Hello\tWorld!\n"
     ]
    }
   ],
   "source": [
    "hello = \"Hello World!\"\n",
    "print(\"Eredeti:\", hello)\n",
    "\n",
    "hello_n = \"Hello\\nWorld!\"\n",
    "print(\"Új sorral:\", hello_n)\n",
    "\n",
    "hello_tab = \"Hello\\tWorld!\"\n",
    "print(\"Tabulátorral:\", hello_tab)"
   ]
  },
  {
   "cell_type": "markdown",
   "id": "7902eb1e031461c6",
   "metadata": {},
   "source": [
    "### Alapvető műveletek stringekkel\n"
   ]
  },
  {
   "cell_type": "markdown",
   "id": "7ce5f7d4",
   "metadata": {},
   "source": [
    "- **Összefűzés (concatenation):** `+` operátorral.\n"
   ]
  },
  {
   "cell_type": "code",
   "execution_count": 32,
   "id": "5725b66420d0b1b2",
   "metadata": {},
   "outputs": [
    {
     "name": "stdout",
     "output_type": "stream",
     "text": [
      "Hello World!\n"
     ]
    }
   ],
   "source": [
    "welcome = \"Hello\"\n",
    "name = \" World\"\n",
    "exclamation = \"!\"\n",
    "sentence = welcome + name + exclamation\n",
    "print(sentence)"
   ]
  },
  {
   "cell_type": "markdown",
   "id": "948d7d174adc3eb0",
   "metadata": {},
   "source": [
    "- **Formázás (f-string):** Változók beillesztése stringbe `f\"...{valtozo}...\"` szintaxissal. Nagyon rugalmas és olvasható. A `{}`-k közé tetszőleges Python kifejezést írhatunk.\n"
   ]
  },
  {
   "cell_type": "code",
   "execution_count": 33,
   "id": "797a202ce29c4976",
   "metadata": {},
   "outputs": [
    {
     "name": "stdout",
     "output_type": "stream",
     "text": [
      "Van 12 almánk és 10 körténk.\n",
      "Összesen 22 gyümölcsünk van.\n"
     ]
    }
   ],
   "source": [
    "num_apple = 12\n",
    "num_pear = 10\n",
    "print(f\"Van {num_apple} almánk és {num_pear} körténk.\")\n",
    "print(f\"Összesen {num_apple + num_pear} gyümölcsünk van.\")"
   ]
  },
  {
   "cell_type": "markdown",
   "id": "71eedd3ab93e510b",
   "metadata": {},
   "source": [
    "## Átjárás a Python típusai között: a típuskonverzió\n"
   ]
  },
  {
   "cell_type": "markdown",
   "id": "7beb7888",
   "metadata": {},
   "source": [
    "- Lehetőség van az egyes objektumok típusának konvertálására (ha az értelmes).\n",
    "- `int()`: Egész számmá alakítás (float esetén levágja a tizedes részt).\n",
    "- `float()`: Lebegőpontos számmá alakítás.\n",
    "- `str()`: Stringgé alakítás.\n",
    "- `bool()`: Logikai értékké alakítás (számoknál a 0 `False`, minden más `True`; üres string, lista stb. `False`).\n",
    "- `round()`: Lebegőpontos szám kerekítése megadott (vagy 0) tizedesjegyre.\n"
   ]
  },
  {
   "cell_type": "markdown",
   "id": "e03c773c",
   "metadata": {},
   "source": [
    "### Numerikus típusok közötti konverzió\n"
   ]
  },
  {
   "cell_type": "markdown",
   "id": "9e213b06",
   "metadata": {},
   "source": [
    "- `int` és `float` viselkedése\n"
   ]
  },
  {
   "cell_type": "code",
   "execution_count": 34,
   "id": "907ce21b89c6a9d8",
   "metadata": {},
   "outputs": [
    {
     "name": "stdout",
     "output_type": "stream",
     "text": [
      "<class 'int'>\n",
      "<class 'float'>\n"
     ]
    }
   ],
   "source": [
    "x = 1\n",
    "y = 1.0\n",
    "print(type(x))\n",
    "print(type(y))"
   ]
  },
  {
   "cell_type": "code",
   "execution_count": 35,
   "id": "f1fb53040c66baff",
   "metadata": {},
   "outputs": [
    {
     "name": "stdout",
     "output_type": "stream",
     "text": [
      "<class 'float'>\n"
     ]
    }
   ],
   "source": [
    "z = x + y  # int + float -> float\n",
    "print(type(z))"
   ]
  },
  {
   "cell_type": "markdown",
   "id": "32c5cd20",
   "metadata": {},
   "source": [
    "- egész számmá alakítás: `int` és `float` közötti konverzió\n"
   ]
  },
  {
   "cell_type": "code",
   "execution_count": 36,
   "id": "1d5cd9935d798089",
   "metadata": {},
   "outputs": [
    {
     "name": "stdout",
     "output_type": "stream",
     "text": [
      "int(9.54): 9\n",
      "int(19.19): 19\n"
     ]
    }
   ],
   "source": [
    "x_float = 9.54\n",
    "y_float = 19.19\n",
    "print(\"int(9.54):\", int(x_float))  # Levágja a tizedes részt\n",
    "print(\"int(19.19):\", int(y_float))"
   ]
  },
  {
   "cell_type": "markdown",
   "id": "fbbc2d4b",
   "metadata": {},
   "source": [
    "- lebegőpontos számmá alakítás\n"
   ]
  },
  {
   "cell_type": "code",
   "execution_count": 37,
   "id": "float_conv_code",
   "metadata": {},
   "outputs": [
    {
     "name": "stdout",
     "output_type": "stream",
     "text": [
      "float(5): 5.0\n"
     ]
    }
   ],
   "source": [
    "x_int = 5\n",
    "print(\"float(5):\", float(x_int))"
   ]
  },
  {
   "cell_type": "markdown",
   "id": "29438ec5",
   "metadata": {},
   "source": [
    "- kerekítés: `int` és `float` közötti konverzió\n"
   ]
  },
  {
   "cell_type": "code",
   "execution_count": 38,
   "id": "e104237886815ca8",
   "metadata": {},
   "outputs": [
    {
     "name": "stdout",
     "output_type": "stream",
     "text": [
      "round(g, 2): 9.81\n",
      "round(g): 10\n",
      "<class 'int'>\n"
     ]
    }
   ],
   "source": [
    "g = 9.8065\n",
    "print(\"round(g, 2):\", round(g, 2))  # Két tizedesjegyre\n",
    "print(\"round(g):\", round(g))  # Nulla tizedesjegyre (egészre)\n",
    "print(type(round(g)))  # Az eredmény típusa int"
   ]
  },
  {
   "cell_type": "markdown",
   "id": "fbf4a8fa",
   "metadata": {},
   "source": [
    "Fontos, hogy a beépített `round()` függvény nem a matematikai kerekítés szabályait követi, hanem a \"banki kerekítést\" alkalmazza. Ez azt jelenti, hogy ha a szám pontosan félúton van két egész szám között (pl. 2.5), akkor a páros szám felé kerekít.\n"
   ]
  },
  {
   "cell_type": "code",
   "execution_count": 39,
   "id": "5d284681",
   "metadata": {},
   "outputs": [
    {
     "name": "stdout",
     "output_type": "stream",
     "text": [
      "round(2.5): 2\n",
      "round(3.5): 4\n"
     ]
    }
   ],
   "source": [
    "print(\"round(2.5):\", round(2.5))  # Banki kerekítés: 2.5 -> 2\n",
    "print(\"round(3.5):\", round(3.5))  # Banki kerekítés: 3.5 -> 4"
   ]
  },
  {
   "cell_type": "markdown",
   "id": "3da8a53cafa2c674",
   "metadata": {},
   "source": [
    "### Konverzió numerikus és szöveges típusok között\n"
   ]
  },
  {
   "cell_type": "markdown",
   "id": "7b268c5c",
   "metadata": {},
   "source": [
    "- Számot és szöveget konverzió nélkül nem lehet összeadni (TypeError).\n"
   ]
  },
  {
   "cell_type": "code",
   "execution_count": 40,
   "id": "3c8fef7b496beab6",
   "metadata": {},
   "outputs": [
    {
     "name": "stdout",
     "output_type": "stream",
     "text": [
      "Hiba: unsupported operand type(s) for +: 'int' and 'str'\n"
     ]
    }
   ],
   "source": [
    "x_int = 11\n",
    "y_str = \"22\"\n",
    "try:\n",
    "    print(x_int + y_str)  # int + str -> TypeError\n",
    "except TypeError as e:\n",
    "    print(\"Hiba:\", e)"
   ]
  },
  {
   "cell_type": "code",
   "execution_count": 41,
   "id": "ce2e0fd0e1928fb9",
   "metadata": {},
   "outputs": [
    {
     "name": "stdout",
     "output_type": "stream",
     "text": [
      "33\n"
     ]
    }
   ],
   "source": [
    "# Konvertáljuk a stringet int-té\n",
    "print(x_int + int(y_str))"
   ]
  },
  {
   "cell_type": "markdown",
   "id": "d8aff752",
   "metadata": {},
   "source": [
    "- Hol merülhet fel ilyen probléma? Az input függvény használatánál: ez mindig stringet ad vissza, akkor is, ha számot írunk be.\n"
   ]
  },
  {
   "cell_type": "code",
   "execution_count": null,
   "id": "ae430b1c1a53f059",
   "metadata": {
    "tags": [
     "skip-execution"
    ]
   },
   "outputs": [
    {
     "name": "stdout",
     "output_type": "stream",
     "text": [
      "A beírt adat típusa: <class 'str'>\n",
      "A beírt szám kétszerese: 30\n",
      "A beírt szám kétszerese (konverzió nélkül): 1515\n"
     ]
    }
   ],
   "source": [
    "z = input(\"Írj be egy számot: \")  # 15\n",
    "print(\"A beírt adat típusa:\", type(z))\n",
    "# konvertálni kell, ha meg akarjuk szorozni 2-vel\n",
    "print(f\"A beírt szám kétszerese:\", int(z) * 2)\n",
    "# Tanulságos: mi van akkor, ha nem konvertáljuk? Mi történhetett?\n",
    "print(f\"A beírt szám kétszerese (konverzió nélkül):\", z * 2)"
   ]
  },
  {
   "cell_type": "markdown",
   "id": "valueerror_md",
   "metadata": {},
   "source": [
    "- Ha nem számot konvertálunk `int()`-té, `ValueError`-t kapunk.\n"
   ]
  },
  {
   "cell_type": "code",
   "execution_count": 11,
   "id": "b1d5681682a8fa81",
   "metadata": {
    "tags": [
     "raises-exception",
     "skip-execution"
    ]
   },
   "outputs": [
    {
     "ename": "ValueError",
     "evalue": "invalid literal for int() with base 10: 'hello'",
     "output_type": "error",
     "traceback": [
      "\u001b[0;31m---------------------------------------------------------------------------\u001b[0m",
      "\u001b[0;31mValueError\u001b[0m                                Traceback (most recent call last)",
      "Cell \u001b[0;32mIn[11], line 3\u001b[0m\n\u001b[1;32m      1\u001b[0m x \u001b[38;5;241m=\u001b[39m \u001b[38;5;241m10\u001b[39m\n\u001b[1;32m      2\u001b[0m z_text \u001b[38;5;241m=\u001b[39m \u001b[38;5;28minput\u001b[39m(\u001b[38;5;124m\"\u001b[39m\u001b[38;5;124mÍrj be egy szöveget: \u001b[39m\u001b[38;5;124m\"\u001b[39m)  \u001b[38;5;66;03m# \"hello\"\u001b[39;00m\n\u001b[0;32m----> 3\u001b[0m \u001b[38;5;28mprint\u001b[39m(\u001b[38;5;28;43mint\u001b[39;49m\u001b[43m(\u001b[49m\u001b[43mz_text\u001b[49m\u001b[43m)\u001b[49m)\n",
      "\u001b[0;31mValueError\u001b[0m: invalid literal for int() with base 10: 'hello'"
     ]
    }
   ],
   "source": [
    "x = 10\n",
    "z_text = input(\"Írj be egy szöveget: \")  # \"hello\"\n",
    "print(int(z_text))"
   ]
  },
  {
   "cell_type": "markdown",
   "id": "4edeec6c",
   "metadata": {},
   "source": [
    "### Konverzió logikai típusra és logikai típusból\n",
    "\n",
    "Kifejezetten fontos lesz majd a feltételes elágazásoknál és ciklusoknál (lsd. később).\n"
   ]
  },
  {
   "cell_type": "code",
   "execution_count": 44,
   "id": "eba8c8be9738b553",
   "metadata": {},
   "outputs": [
    {
     "name": "stdout",
     "output_type": "stream",
     "text": [
      "bool(0): False\n",
      "bool(1): True\n",
      "bool(-10): True\n"
     ]
    }
   ],
   "source": [
    "x_int = 0\n",
    "y_int = 1\n",
    "z_int = -10\n",
    "\n",
    "# A 0 False, minden más szám True\n",
    "print(\"bool(0):\", bool(x_int))\n",
    "print(\"bool(1):\", bool(y_int))\n",
    "print(\"bool(-10):\", bool(z_int))"
   ]
  },
  {
   "cell_type": "code",
   "execution_count": 45,
   "id": "3e0c4f5b0cd35a4d",
   "metadata": {},
   "outputs": [
    {
     "name": "stdout",
     "output_type": "stream",
     "text": [
      "bool(0.0): False\n",
      "bool(10.5): True\n",
      "bool(-0.1): True\n"
     ]
    }
   ],
   "source": [
    "x_float = 0.0\n",
    "y_float = 10.5\n",
    "z_float = -0.1\n",
    "\n",
    "# A 0.0 False, minden más float True\n",
    "print(\"bool(0.0):\", bool(x_float))\n",
    "print(\"bool(10.5):\", bool(y_float))\n",
    "print(\"bool(-0.1):\", bool(z_float))"
   ]
  },
  {
   "cell_type": "code",
   "execution_count": 46,
   "id": "a0d806df70b72d47",
   "metadata": {},
   "outputs": [
    {
     "name": "stdout",
     "output_type": "stream",
     "text": [
      "int(True): 1\n",
      "float(False): 0.0\n"
     ]
    }
   ],
   "source": [
    "x_bool = True\n",
    "y_bool = False\n",
    "\n",
    "# True -> 1, False -> 0\n",
    "print(\"int(True):\", int(x_bool))\n",
    "print(\"float(False):\", float(y_bool))"
   ]
  },
  {
   "cell_type": "markdown",
   "id": "8ecdfe815e27d607",
   "metadata": {},
   "source": [
    "## A hibakezelés alapjai\n"
   ]
  },
  {
   "cell_type": "markdown",
   "id": "1d70167b",
   "metadata": {},
   "source": [
    "- **Cél:** Olyan kódot írni, ami felkészül a lehetséges futásidejű hibákra, és kezeli azokat ahelyett, hogy leállna.\n",
    "- Miért fontos?\n",
    "  - A hiba nem mindig a mi kódunkban van (pl. rossz felhasználói bevitel, nem létező fájl).\n",
    "  - Felkészülhetünk saját hibáinkra is, és felhasználóbarátabb üzenetet adhatunk.\n"
   ]
  },
  {
   "cell_type": "markdown",
   "id": "5abefa3f",
   "metadata": {},
   "source": [
    "### Hogyan kapjunk el hibákat: a `try...except` blokk\n"
   ]
  },
  {
   "cell_type": "markdown",
   "id": "35670dd2",
   "metadata": {},
   "source": [
    "- A `try` blokkba kerül az a kód, ami potenciálisan hibát dobhat.\n",
    "- Ha a `try` blokkban hiba történik, a Python az `except` ágakat keresi.\n",
    "- Ha talál olyan `except` ágat, ami kezeli az adott hibatípust (pl. `ValueError`, `TypeError`), akkor az ahhoz tartozó kód fut le.\n",
    "- Ha nem adunk meg konkrét hibatípust az except után, akkor minden hibát elkap. Ez a gyakorlat általában nem ajánlott, mert elfedhet váratlan programhibákat.\n",
    "- Ha nem történik hiba a `try` blokkban, az `except` ágak nem futnak le.\n",
    "\n",
    "**_Tanári jegyzet:_** _A `try...except` nem arra való, hogy a rosszul megírt kódot \"megjavítsa\", hanem hogy a várható, futás közben előforduló problémákat (pl. felhasználói input, fájlműveletek) kezelje. Fontos a specifikus hibatípusok elkapása._\n"
   ]
  },
  {
   "cell_type": "code",
   "execution_count": 47,
   "id": "c29d7d3db1d69342",
   "metadata": {
    "tags": [
     "skip-execution"
    ]
   },
   "outputs": [
    {
     "name": "stdout",
     "output_type": "stream",
     "text": [
      "Hiba: \"hello\" nem alakítható egész számmá.\n"
     ]
    }
   ],
   "source": [
    "try:\n",
    "    num_str = input(\n",
    "        \"Írj be egy számot: \"\n",
    "    )  # próbáljunk meg nem számot beírni, pl. \"hello\"\n",
    "    num_int = int(num_str)\n",
    "    print(\"A beírt szám kétszerese:\", num_int * 2)\n",
    "except ValueError:\n",
    "    # Ez az ág csak akkor fut le, ha az int() ValueError-t dob\n",
    "    print(f'Hiba: \"{num_str}\" nem alakítható egész számmá.')"
   ]
  },
  {
   "cell_type": "markdown",
   "id": "raise_md",
   "metadata": {},
   "source": [
    "### Hibák tudatos kiváltása: `raise`\n",
    "\n",
    "- Saját magunk is generálhatunk hibákat a `raise` kulcsszóval, ha valamilyen feltétel nem teljesül.\n",
    "- Hasznos pl. függvények argumentumainak ellenőrzésekor.\n"
   ]
  },
  {
   "cell_type": "code",
   "execution_count": 48,
   "id": "7c69a9a11d8c7f28",
   "metadata": {},
   "outputs": [
    {
     "name": "stdout",
     "output_type": "stream",
     "text": [
      "5.0\n",
      "Hiba történt az osztás során: Nullával nem lehet osztani!\n"
     ]
    }
   ],
   "source": [
    "def division(a, b):\n",
    "    if b == 0:\n",
    "        raise ZeroDivisionError(\"Nullával nem lehet osztani!\")\n",
    "    return a / b\n",
    "\n",
    "\n",
    "try:\n",
    "    print(division(10, 2))\n",
    "    print(division(5, 0))\n",
    "except ZeroDivisionError as e:\n",
    "    print(\"Hiba történt az osztás során:\", e)"
   ]
  },
  {
   "cell_type": "markdown",
   "id": "f0cde25592fe2798",
   "metadata": {},
   "source": [
    "### Feltételek ellenőrzése hibakereséshez: `assert`\n"
   ]
  },
  {
   "cell_type": "markdown",
   "id": "4c7b8114",
   "metadata": {},
   "source": [
    "- Az `assert` utasítás ellenőriz egy feltételt.\n",
    "- Ha a feltétel `True`, nem történik semmi.\n",
    "- Ha a feltétel `False`, akkor `AssertionError`-t dob, opcionálisan egy megadott hibaüzenettel.\n",
    "- Elsősorban hibakeresésre (\"debuggolásra\") és belső konzisztencia-ellenőrzésekre használjuk, nem pedig a normál futás során várható hibák (pl. felhasználói input) kezelésére (arra a `try...except` való).\n"
   ]
  },
  {
   "cell_type": "code",
   "execution_count": 49,
   "id": "74ea31ae53a9a1ca",
   "metadata": {},
   "outputs": [
    {
     "name": "stdout",
     "output_type": "stream",
     "text": [
      "AssertionError: A kor nem lehet negatív!\n"
     ]
    }
   ],
   "source": [
    "kor = -5\n",
    "\n",
    "try:\n",
    "    assert kor >= 0, \"A kor nem lehet negatív!\"\n",
    "    print(\"A kor rendben van.\")\n",
    "except AssertionError as e:\n",
    "    print(\"AssertionError:\", e)"
   ]
  }
 ],
 "metadata": {
  "kernelspec": {
   "display_name": "base",
   "language": "python",
   "name": "python3"
  },
  "language_info": {
   "codemirror_mode": {
    "name": "ipython",
    "version": 3
   },
   "file_extension": ".py",
   "mimetype": "text/x-python",
   "name": "python",
   "nbconvert_exporter": "python",
   "pygments_lexer": "ipython3",
   "version": "3.9.16"
  }
 },
 "nbformat": 4,
 "nbformat_minor": 5
}
