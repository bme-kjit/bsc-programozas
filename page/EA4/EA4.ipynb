{
    "cells": [
        {
            "cell_type": "code",
            "execution_count": null,
            "id": "fa8a5ff1-1f5e-465b-9265-7913eb4b1141",
            "metadata": {},
            "outputs": [],
            "source": [
                "# Szükséges importok: futtassuk ezt a cellát a notebook használata előtt!\n",
                "from metakernel import register_ipython_magics  # %%tutor működéséhez\n",
                "import random\n",
                "import math\n",
                "\n",
                "register_ipython_magics()  # %%tutor működéséhez"
            ]
        },
        {
            "cell_type": "markdown",
            "id": "ea4_title_md",
            "metadata": {},
            "source": [
                "# 4. Előadás: Vezérlési szerkezetek II., összetett adatszerkezetek\n"
            ]
        },
        {
            "cell_type": "markdown",
            "id": "05a30dd3",
            "metadata": {},
            "source": [
                "1.  **Iteráció: A `for` ciklus**\n",
                "\n",
                "    - A ciklus szintaxisa és a ciklusváltozó szerepe\n",
                "    - Segédfüggvények: `range()`, `enumerate()`, `zip()`\n",
                "    - Gyakori hiba: adatszerkezet módosítása iteráció közben\n",
                "\n",
                "2.  **List Comprehension**\n",
                "\n",
                "    - Szintaxis és összehasonlítás a `for` ciklussal\n",
                "    - Feltételek használata, olvashatóság és sebesség\n",
                "\n",
                "3.  **Összetett Adatszerkezetek**\n",
                "\n",
                "    - Dictionary (`dict`): kulcs-érték párok\n",
                "    - Set (`set`): egyedi elemek halmaza\n",
                "\n",
                "4.  **Alapvető algoritmusok ciklusokkal**\n",
                "    - Duplikátumok eltávolítása\n",
                "    - Maximumkeresés\n",
                "    - Egyszerű rendezési algoritmusok (Bubble, Selection Sort)\n",
                "    - Bináris keresés\n",
                "    - Prímszám-ellenőrzés\n"
            ]
        },
        {
            "cell_type": "markdown",
            "id": "7295eb68",
            "metadata": {},
            "source": [
                "## A `for` ciklus\n"
            ]
        },
        {
            "cell_type": "markdown",
            "id": "4463199a",
            "metadata": {},
            "source": [
                "A `for` ciklus **iterálható objektumok** (pl. `list`, `tuple`, `str`, `dict`, `set`, `range`) elemein való végighaladásra szolgál.\n",
                "\n",
                "Szintaxis: `for <ciklusváltozó> in <iterálható_objektum>:`\n"
            ]
        },
        {
            "cell_type": "markdown",
            "id": "7ca1946b",
            "metadata": {},
            "source": [
                "### Gyors példák: lista (`list`) és string bejárása\n"
            ]
        },
        {
            "cell_type": "code",
            "execution_count": 2,
            "id": "2a91d0e5",
            "metadata": {},
            "outputs": [
                {
                    "name": "stdout",
                    "output_type": "stream",
                    "text": [
                        "Iterálás listán:\n",
                        "1\n",
                        "4\n",
                        "2\n",
                        "6\n",
                        "7\n"
                    ]
                }
            ],
            "source": [
                "my_list = [1, 4, 2, 6, 7]\n",
                "\n",
                "print(\"Iterálás listán:\")\n",
                "for element in my_list:\n",
                "    print(element)"
            ]
        },
        {
            "cell_type": "code",
            "execution_count": 3,
            "id": "18fd8b7c",
            "metadata": {},
            "outputs": [
                {
                    "name": "stdout",
                    "output_type": "stream",
                    "text": [
                        "Eredeti lista: [1, 4, 2, 6, 7]\n",
                        "Négyzetek listája: [1, 16, 4, 36, 49]\n"
                    ]
                }
            ],
            "source": [
                "# Csináljunk egy új listát, ami a `my_list` listában lévő számok négyzetét tartalmazza\n",
                "my_list = [1, 4, 2, 6, 7]\n",
                "squares = []  # Üres lista inicializálása\n",
                "print(f\"Eredeti lista: {my_list}\")\n",
                "for element in my_list:\n",
                "    squares.append(element**2)\n",
                "\n",
                "print(f\"Négyzetek listája: {squares}\")"
            ]
        },
        {
            "cell_type": "code",
            "execution_count": 4,
            "id": "3d7622c4",
            "metadata": {},
            "outputs": [
                {
                    "name": "stdout",
                    "output_type": "stream",
                    "text": [
                        "Iterálás stringen ('almafa'):\n",
                        "a\n",
                        "l\n",
                        "m\n",
                        "a\n",
                        "f\n",
                        "a\n"
                    ]
                }
            ],
            "source": [
                "# Betűzzük le az \"almafa\" szót (string bejárása)/\n",
                "my_string = \"almafa\"\n",
                "\n",
                "print(f\"Iterálás stringen ('{my_string}'):\")\n",
                "for char in my_string:\n",
                "    print(char)"
            ]
        },
        {
            "cell_type": "markdown",
            "id": "65161e49",
            "metadata": {},
            "source": [
                "### A ciklusváltozó szerepe\n"
            ]
        },
        {
            "cell_type": "markdown",
            "id": "78c9e75f",
            "metadata": {},
            "source": [
                "A ciklusváltozó az a név (címke), amely a `for` ciklus minden egyes ismétlésében (iterációjában) felveszi az éppen soron következő elem értékét az adatszerkezetből, amin végighaladunk.\n",
                "Gondolhatunk rá úgy, mint egy mozgó mutatóra, amely mindig az aktuális elemre mutat.\n"
            ]
        },
        {
            "cell_type": "code",
            "execution_count": 5,
            "id": "c1c09ea0",
            "metadata": {},
            "outputs": [
                {
                    "name": "stdout",
                    "output_type": "stream",
                    "text": [
                        "Az aktuális elem, amivel dolgozunk: 10\n",
                        "Az aktuális elem, amivel dolgozunk: 20\n",
                        "Az aktuális elem, amivel dolgozunk: 30\n"
                    ]
                }
            ],
            "source": [
                "numbers = [10, 20, 30]\n",
                "# Itt a 'number' a ciklusváltozó, de tetszőleges nevet adhatunk neki (természetesen a Python változónév-szabályoknak megfelelően)\n",
                "for number in numbers:\n",
                "    # Ebben a blokkban a 'number' változó sorban 10, 20, majd 30 lesz.\n",
                "    print(f\"Az aktuális elem, amivel dolgozunk: {number}\")"
            ]
        },
        {
            "cell_type": "markdown",
            "id": "793c89e8",
            "metadata": {},
            "source": [
                "#### Pár szóban a `tutor` programról\n",
                "\n",
                "A `tutor` (https://pythontutor.com) egy interaktív Python kódvizualizációs eszköz, amely segít megérteni a Python programok működését lépésről lépésre. A `tutor` segítségével vizuálisan követhetjük a változók értékeinek változását, a memóriakezelést és a program végrehajtási folyamatát. A programkódot sorról sorra futtathatjuk a `< Prev` és `Next >` gombokkal, és jobb oldalt láthatjuk a futtatás eredményét.\n",
                "\n",
                "- Jupyter Notebookban (itt) a cella elejére elhelyezett `%%tutor` parancssal hívható elő. Az ebben a cellában létrehozott objektumok csak ebben a cellában lesznek elérhetők (saját scope-ja van).\n",
                "- A parancs működéséhez szükséges a `metakernel` csomag telepítése: `pip install metakernel` a terminálban, valamint ezen Notebook első cellájának futtatása.\n"
            ]
        },
        {
            "cell_type": "code",
            "execution_count": 6,
            "id": "6bdfb692",
            "metadata": {},
            "outputs": [
                {
                    "data": {
                        "text/html": [
                            "\n",
                            "        <iframe\n",
                            "            width=\"100%\"\n",
                            "            height=\"500\"\n",
                            "            src=\"https://pythontutor.com/iframe-embed.html#code=%0Anumbers%20%3D%20%5B10%2C%2020%2C%2030%5D%0A%23%20Itt%20a%20%27number%27%20a%20ciklusv%C3%A1ltoz%C3%B3%2C%20de%20tetsz%C5%91leges%20nevet%20adhatunk%20neki%20%28term%C3%A9szetesen%20a%20Python%20v%C3%A1ltoz%C3%B3n%C3%A9v-szab%C3%A1lyoknak%20megfelel%C5%91en%29%0Afor%20number%20in%20numbers%3A%0A%20%20%20%20%23%20Ebben%20a%20blokkban%20a%20%27number%27%20v%C3%A1ltoz%C3%B3%20sorban%2010%2C%2020%2C%20majd%2030%20lesz.%0A%20%20%20%20print%28f%22Az%20aktu%C3%A1lis%20elem%2C%20amivel%20dolgozunk%3A%20%7Bnumber%7D%22%29%0A&origin=opt-frontend.js&cumulative=false&heapPrimitives=false&textReferences=false&py=3&rawInputLstJSON=%5B%5D&curInstr=0&codeDivWidth=350&codeDivHeight=400\"\n",
                            "            frameborder=\"0\"\n",
                            "            allowfullscreen\n",
                            "            \n",
                            "        ></iframe>\n",
                            "        "
                        ],
                        "text/plain": [
                            "<IPython.lib.display.IFrame at 0x104d7db80>"
                        ]
                    },
                    "metadata": {},
                    "output_type": "display_data"
                }
            ],
            "source": [
                "%%tutor\n",
                "\n",
                "numbers = [10, 20, 30]\n",
                "# Itt a 'number' a ciklusváltozó, de tetszőleges nevet adhatunk neki (természetesen a Python változónév-szabályoknak megfelelően)\n",
                "for number in numbers:\n",
                "    # Ebben a blokkban a 'number' változó sorban 10, 20, majd 30 lesz.\n",
                "    print(f\"Az aktuális elem, amivel dolgozunk: {number}\")\n"
            ]
        },
        {
            "cell_type": "markdown",
            "id": "28132b46",
            "metadata": {},
            "source": [
                "- A ciklusváltozót ne módosítsuk a cikluson belül! Ha valami miatt ilyenre lenne szükségünk, gondoljuk át a megoldást, mert valószínűleg rossz úton járunk.\n"
            ]
        },
        {
            "cell_type": "code",
            "execution_count": 7,
            "id": "6beff309",
            "metadata": {},
            "outputs": [
                {
                    "name": "stdout",
                    "output_type": "stream",
                    "text": [
                        "Ciklus elején az item: 1\n",
                        "Ciklus végén az item: 99\n",
                        "Ciklus elején az item: 2\n",
                        "Ciklus végén az item: 99\n",
                        "Ciklus elején az item: 3\n",
                        "Ciklus végén az item: 99\n",
                        "Az eredeti 'data' lista a ciklus után: [1, 2, 3]\n"
                    ]
                }
            ],
            "source": [
                "# SZÁNDÉKOSAN ROSSZ PÉLDA\n",
                "data = [1, 2, 3]\n",
                "for item in data:\n",
                "    print(f\"Ciklus elején az item: {item}\")\n",
                "    item = 99  # Megpróbáljuk módosítani\n",
                "    print(f\"Ciklus végén az item: {item}\")\n",
                "\n",
                "# A ciklus lefutása után az eredeti lista változatlan marad! Azaz ne próbáljuk meg a fenti módon módosítani a lista elemeit!\n",
                "print(f\"Az eredeti 'data' lista a ciklus után: {data}\")"
            ]
        },
        {
            "cell_type": "markdown",
            "id": "be642eb5",
            "metadata": {},
            "source": [
                "- A ciklusváltozó (is) dinamikusan típusos, azaz automatikusan felveszi az aktuális elem típusát.\n"
            ]
        },
        {
            "cell_type": "code",
            "execution_count": 8,
            "id": "01be5155",
            "metadata": {},
            "outputs": [
                {
                    "name": "stdout",
                    "output_type": "stream",
                    "text": [
                        "Elem: 10, Típusa: <class 'int'>\n",
                        "Elem: hello, Típusa: <class 'str'>\n",
                        "Elem: True, Típusa: <class 'bool'>\n",
                        "Elem: 3.14, Típusa: <class 'float'>\n"
                    ]
                }
            ],
            "source": [
                "mixed_list = [10, \"hello\", True, 3.14]\n",
                "for element in mixed_list:\n",
                "    print(f\"Elem: {element}, Típusa: {type(element)}\")"
            ]
        },
        {
            "cell_type": "markdown",
            "id": "d9a067f0",
            "metadata": {},
            "source": [
                "- A ciklusváltozó tetszőleges nevet kaphat (a Python változónév-szabályoknak megfelelően), de érdemes olyan nevet választani, amely utal az adott elem tartalmára vagy szerepére. Bevett konvenció, hogy egyes számú nevet használunk, míg az iterált objektum neve többes számú:\n",
                "  - Jó: `for student in students`:`\n",
                "  - Jó: `for number in numbers:`\n",
                "  - Jó: `for character in word:`\n",
                "  - Kevésbé jó (nehezen érthető, hogy mit tartalmaz `x`): `for x in my_list:`\n"
            ]
        },
        {
            "cell_type": "markdown",
            "id": "65d67002",
            "metadata": {},
            "source": [
                "- A ciklusváltozó láthatósága (scope): a `for` ciklus lefutása után a ciklusváltozó elérhető marad a cikluson kívül is, és az utolsó felvett értéket fogja tartalmazni. Ezt ritkán használjuk ki, de néha okozhat meglepetést, ha nem számítunk rá.\n"
            ]
        },
        {
            "cell_type": "code",
            "execution_count": null,
            "id": "a67fdee0",
            "metadata": {},
            "outputs": [
                {
                    "name": "stdout",
                    "output_type": "stream",
                    "text": [
                        "A ciklusváltozó értéke a ciklus után: Ford\n"
                    ]
                }
            ],
            "source": [
                "cars = [\"Tesla\", \"BMW\", \"Ford\"]\n",
                "for car in cars:\n",
                "    pass  # Nem csinálunk semmit a ciklusban\n",
                "\n",
                "# A ciklus lefutott, de a 'car' változó még mindig elérhető\n",
                "print(f\"A ciklusváltozó értéke a ciklus után: {car}\")  # Kimenet: Ford"
            ]
        },
        {
            "cell_type": "markdown",
            "id": "c7e82a4d",
            "metadata": {},
            "source": [
                "### Segédfüggvények az iterációhoz: `range()`, `enumerate()`, `zip()`\n"
            ]
        },
        {
            "cell_type": "markdown",
            "id": "1418423f",
            "metadata": {},
            "source": [
                "- Iterálás számsorozaton: `range()`\n",
                "  - A `range()` függvény egy számsorozatot generál.\n",
                "  - Gyakran használjuk `for` ciklussal, ha adott számú ismétlésre van szükségünk, vagy ha indexek alapján akarunk iterálni.\n",
                "  - Formái:\n",
                "    - `range(stop)`: 0-tól `stop-1`-ig generál számokat.\n",
                "    - `range(start, stop)`: `start`-tól `stop-1`-ig generál számokat.\n",
                "    - `range(start, stop, step)`: `start`-tól `stop-1`-ig generál számokat, `step` lépésközzel (lehet negatív is).\n"
            ]
        },
        {
            "cell_type": "code",
            "execution_count": 10,
            "id": "07e6634a",
            "metadata": {},
            "outputs": [
                {
                    "name": "stdout",
                    "output_type": "stream",
                    "text": [
                        "range(5): 0 1 2 3 4 \n",
                        "\n",
                        "range(2, 6): 2 3 4 5 \n",
                        "\n",
                        "range(1, 10, 2): 1 3 5 7 9 \n",
                        "\n",
                        "range(5, 0, -1): 5 4 3 2 1 \n",
                        "\n"
                    ]
                }
            ],
            "source": [
                "print(\"range(5):\", end=\" \")\n",
                "for i in range(5):\n",
                "    print(i, end=\" \")\n",
                "print(\"\\n\")\n",
                "\n",
                "print(\"range(2, 6):\", end=\" \")\n",
                "for i in range(2, 6):\n",
                "    print(i, end=\" \")\n",
                "print(\"\\n\")\n",
                "\n",
                "print(\"range(1, 10, 2):\", end=\" \")\n",
                "for i in range(1, 10, 2):\n",
                "    print(i, end=\" \")\n",
                "print(\"\\n\")\n",
                "\n",
                "print(\"range(5, 0, -1):\", end=\" \")\n",
                "for i in range(5, 0, -1):\n",
                "    print(i, end=\" \")\n",
                "print(\"\\n\")"
            ]
        },
        {
            "cell_type": "markdown",
            "id": "861b68db",
            "metadata": {},
            "source": [
                "- Iterálás indexekkel: `enumerate()`\n",
                "  - Az `enumerate()` függvény egy iterálható objektum elemein való végighaladáskor egy számlálót is biztosít minden elemhez.\n",
                "  - Hasznos, ha szükségünk van az elem pozíciójára is az iteráció során.\n",
                "  - Szintaxis: `enumerate(iterálható_objektum, start=0)`, ahol a `start` paraméterrel megadhatjuk, hogy milyen számról kezdődjön az indexelés (alapértelmezeten 0).\n",
                "  - Minden lépésben a ciklusváltozó egy tuple lesz, amelynek első eleme az index, a második pedig az aktuális elem.\n"
            ]
        },
        {
            "cell_type": "code",
            "execution_count": 11,
            "id": "66fe85f6",
            "metadata": {},
            "outputs": [
                {
                    "name": "stdout",
                    "output_type": "stream",
                    "text": [
                        "Iterálás indexszel (enumerate):\n",
                        "Az almafa szó 0. indexű eleme: a\n",
                        "Az almafa szó 1. indexű eleme: l\n",
                        "Az almafa szó 2. indexű eleme: m\n",
                        "Az almafa szó 3. indexű eleme: a\n",
                        "Az almafa szó 4. indexű eleme: f\n",
                        "Az almafa szó 5. indexű eleme: a\n"
                    ]
                }
            ],
            "source": [
                "# Ha szükségünk van az indexre is iterálás közben:\n",
                "my_string = \"almafa\"\n",
                "print(\"Iterálás indexszel (enumerate):\")\n",
                "for index, char in enumerate(my_string):\n",
                "    print(f\"Az {my_string} szó {index}. indexű eleme: {char}\")"
            ]
        },
        {
            "cell_type": "code",
            "execution_count": 12,
            "id": "99fdaee2",
            "metadata": {},
            "outputs": [
                {
                    "name": "stdout",
                    "output_type": "stream",
                    "text": [
                        "Iterálás indexszel (kézzel):\n",
                        "Az almafa szó 0. indexű eleme: a\n",
                        "Az almafa szó 1. indexű eleme: l\n",
                        "Az almafa szó 2. indexű eleme: m\n",
                        "Az almafa szó 3. indexű eleme: a\n",
                        "Az almafa szó 4. indexű eleme: f\n",
                        "Az almafa szó 5. indexű eleme: a\n"
                    ]
                }
            ],
            "source": [
                "# Enumerate használata nélkül is megoldható, de bonyolultabb, mert kézzel kell definiálni és növelni az indexet:\n",
                "my_string = \"almafa\"\n",
                "index = 0\n",
                "print(\"Iterálás indexszel (kézzel):\")\n",
                "for char in my_string:\n",
                "    print(f\"Az {my_string} szó {index}. indexű eleme: {char}\")\n",
                "    index += 1"
            ]
        },
        {
            "cell_type": "markdown",
            "id": "7526ace9",
            "metadata": {},
            "source": [
                "- Több adatszerkezet együttes bejárása: `zip()`\n",
                "  - A `zip()` függvény több iterálható objektum elemeit párosítja össze, és egy új iterálható objektumot hoz létre, amely tuple-öket tartalmaz.\n",
                "  - Minden tuple az eredeti objektumok megfelelő indexű elemeit tartalmazza.\n",
                "  - Ha az objektumok hossza különböző, a legrövidebb objektum hosszáig történik az iterálás.\n",
                "  - Szintaxis: `zip(iterálható1, iterálható2, ...)`\n"
            ]
        },
        {
            "cell_type": "code",
            "execution_count": 13,
            "id": "647bb6fa",
            "metadata": {},
            "outputs": [
                {
                    "name": "stdout",
                    "output_type": "stream",
                    "text": [
                        "Iterálás több listán párhuzamosan (zip):\n",
                        "Betű: a, Szám: 1, Logikai: True\n",
                        "Betű: b, Szám: 2, Logikai: False\n",
                        "Betű: c, Szám: 3, Logikai: True\n"
                    ]
                }
            ],
            "source": [
                "# Ha több listán szeretnénk párhuzamosan végigmenni:\n",
                "letters = [\"a\", \"b\", \"c\", \"d\"]  # 'd' kimarad, mert a numbers rövidebb\n",
                "numbers_zip = [1, 2, 3]\n",
                "booleans = [True, False, True]\n",
                "\n",
                "print(\"Iterálás több listán párhuzamosan (zip):\")\n",
                "for letter, number, boolean in zip(letters, numbers_zip, booleans):\n",
                "    print(f\"Betű: {letter}, Szám: {number}, Logikai: {boolean}\")"
            ]
        },
        {
            "cell_type": "markdown",
            "id": "8bbbac5d",
            "metadata": {},
            "source": [
                "### Egy jellemző hiba: adatszerkezet módosítása iterálás közben\n",
                "\n",
                "**Nagyon veszélyes** (és általában kerülendő) módosítani azt az adatszerkezetet (pl. listát), amin éppen végigiterálunk `for` ciklussal. Váratlan viselkedést és hibákat okozhat, mert a ciklus belső állapota (pl. hogy hányadik elemnél jár) megzavarodhat.\n"
            ]
        },
        {
            "cell_type": "markdown",
            "id": "a132a2e0",
            "metadata": {},
            "source": [
                "**_Tanári jegyzet:_** _A tutor vizualizáció is jól mutatja ezt a problémát. Ha törölni kell iteráció közben, biztonságosabb új listát építeni a megtartandó elemekből (list comprehension!), vagy fordított sorrendben iterálni index alapján._\n"
            ]
        },
        {
            "cell_type": "code",
            "execution_count": null,
            "id": "292bf630",
            "metadata": {},
            "outputs": [
                {
                    "name": "stdout",
                    "output_type": "stream",
                    "text": [
                        "Eredeti lista: ['A', 'B', 'C', 'D']\n",
                        "Eltávolítandó elemek: ['A', 'B']\n",
                        "--- Iteráció közbeni eltávolítás (HIBÁS) ---\n",
                        "Eredmény (hibás): ['B', 'C', 'D']\n"
                    ]
                }
            ],
            "source": [
                "# Feladat: szűrjük ki a list_to_filter listából az elements_to_remove listában szereplő elemeket.\n",
                "list_to_filter = [\"A\", \"B\", \"C\", \"D\"]\n",
                "elements_to_remove = [\"A\", \"B\"]\n",
                "\n",
                "print(f\"Eredeti lista: {list_to_filter}\")\n",
                "print(f\"Eltávolítandó elemek: {elements_to_remove}\")\n",
                "\n",
                "# HIBÁS MEGKÖZELÍTÉS: Iteráció közben módosítjuk\n",
                "print(\"--- Iteráció közbeni eltávolítás (HIBÁS) ---\")\n",
                "for element in list_to_filter:\n",
                "    if element in elements_to_remove:\n",
                "        list_to_filter.remove(element)\n",
                "print(\n",
                "    f\"Eredmény (hibás): {list_to_filter}\"\n",
                ")  # Váratlan eredmény! A 'B' elem megmarad. Mi történt? Nézzük meg tutorral!"
            ]
        },
        {
            "cell_type": "code",
            "execution_count": 15,
            "id": "725ed42d",
            "metadata": {},
            "outputs": [
                {
                    "data": {
                        "text/html": [
                            "\n",
                            "        <iframe\n",
                            "            width=\"100%\"\n",
                            "            height=\"500\"\n",
                            "            src=\"https://pythontutor.com/iframe-embed.html#code=%0Alist_to_filter%20%3D%20%5B%22A%22%2C%20%22B%22%2C%20%22C%22%2C%20%22D%22%5D%0Aelements_to_remove%20%3D%20%5B%22A%22%2C%20%22B%22%5D%0A%0A%23%20HIB%C3%81S%20MEGK%C3%96ZEL%C3%8DT%C3%89S%3A%20Iter%C3%A1ci%C3%B3%20k%C3%B6zben%20m%C3%B3dos%C3%ADtjuk%0Aprint%28%22---%20Iter%C3%A1ci%C3%B3%20k%C3%B6zbeni%20elt%C3%A1vol%C3%ADt%C3%A1s%20%28HIB%C3%81S%29%20---%22%29%0Afor%20index%2C%20element%20in%20enumerate%28list_to_filter%29%3A%20%23%20Vizsg%C3%A1ljuk%20meg%20az%20indexeket%20is%2C%20a%20probl%C3%A9ma%20gy%C3%B6kere%20ott%20%C3%A9rhet%C5%91%20tetten%21%0A%20%20%20%20if%20element%20in%20elements_to_remove%3A%0A%20%20%20%20%20%20%20%20list_to_filter.remove%28element%29%0A&origin=opt-frontend.js&cumulative=false&heapPrimitives=false&textReferences=false&py=3&rawInputLstJSON=%5B%5D&curInstr=0&codeDivWidth=350&codeDivHeight=400\"\n",
                            "            frameborder=\"0\"\n",
                            "            allowfullscreen\n",
                            "            \n",
                            "        ></iframe>\n",
                            "        "
                        ],
                        "text/plain": [
                            "<IPython.lib.display.IFrame at 0x104d48d30>"
                        ]
                    },
                    "metadata": {},
                    "output_type": "display_data"
                }
            ],
            "source": [
                "%%tutor\n",
                "\n",
                "list_to_filter = [\"A\", \"B\", \"C\", \"D\"]\n",
                "elements_to_remove = [\"A\", \"B\"]\n",
                "\n",
                "# HIBÁS MEGKÖZELÍTÉS: Iteráció közben módosítjuk\n",
                "print(\"--- Iteráció közbeni eltávolítás (HIBÁS) ---\")\n",
                "for index, element in enumerate(list_to_filter): # Vizsgáljuk meg az indexeket is, a probléma gyökere ott érhető tetten!\n",
                "    if element in elements_to_remove:\n",
                "        list_to_filter.remove(element)"
            ]
        },
        {
            "cell_type": "markdown",
            "id": "c166705f",
            "metadata": {},
            "source": [
                "Amikor eltávolítunk egy elemet egy listából, akkor az összes utána lévő elem eggyel előrébb kerül (az indexük csökken). Ha ilyenkor a `for` ciklus a következő indexre lép, akkor az eredetileg utána lévő elemet átugorja. Mielőtt eltávolítottuk volna az \"A\" elemet, az for ciklus a 0. indexnél járt. Ezt követően az index eggyel nőtt, így a ciklus a `list_to_filter` 1. indexű eleménél folytatódik. Ennek az elemnek a \"B\" elemnek kéne lennie, de mivel az \"A\" eltávolításra került, így a \"B\" lett az módosított lista 0. indexű eleme, a \"C\" pedig az 1. indexű elem. Így a \"B\"-t átugorja a ciklus.\n"
            ]
        },
        {
            "cell_type": "code",
            "execution_count": null,
            "id": "41a189cb",
            "metadata": {},
            "outputs": [
                {
                    "name": "stdout",
                    "output_type": "stream",
                    "text": [
                        "--- Iteráció közbeni eltávolítás (HIBÁS) ---\n",
                        "A\n",
                        "C\n",
                        "D\n"
                    ]
                }
            ],
            "source": [
                "list_to_filter = [\"A\", \"B\", \"C\", \"D\"]\n",
                "elements_to_remove = [\"A\", \"B\"]\n",
                "\n",
                "# HIBÁS MEGKÖZELÍTÉS: Iteráció közben módosítjuk\n",
                "print(\"--- Iteráció közbeni eltávolítás (HIBÁS) ---\")\n",
                "for (\n",
                "    current_element\n",
                ") in list_to_filter:  # Vizsgáljuk meg az indexeket is, a 'turpisság' ott érhető tetten!\n",
                "    if current_element in elements_to_remove:\n",
                "        list_to_filter.remove(current_element)\n",
                "    print(current_element)  # A \"B\" kimarad!"
            ]
        },
        {
            "cell_type": "code",
            "execution_count": null,
            "id": "0a74d105",
            "metadata": {},
            "outputs": [
                {
                    "name": "stdout",
                    "output_type": "stream",
                    "text": [
                        "--- Új listába szűrés (HELYES) ---\n",
                        "Eredmény (helyes): ['C', 'D']\n"
                    ]
                }
            ],
            "source": [
                "# HELYES MEGKÖZELÍTÉS: töltsünk fel egy üres listát a megszűrt elemekkel\n",
                "list_to_filter = [\"A\", \"B\", \"C\", \"D\"]\n",
                "elements_to_remove = [\"A\", \"B\"]\n",
                "list_correct = []  # Üres lista inicializálása\n",
                "\n",
                "print(\"--- Új listába szűrés (HELYES) ---\")\n",
                "for element in list_to_filter:\n",
                "    if element not in elements_to_remove:\n",
                "        list_correct.append(element)\n",
                "\n",
                "print(f\"Eredmény (helyes): {list_correct}\")  # Várható eredmény: ['C', 'D']"
            ]
        },
        {
            "cell_type": "markdown",
            "id": "d39075c8",
            "metadata": {},
            "source": [
                "## List Comprehension: az igazán Python-hű (Pythonic) megoldás listákon való iterálásra\n"
            ]
        },
        {
            "cell_type": "markdown",
            "id": "b7c76ed5",
            "metadata": {},
            "source": [
                "- Rövid, tömör szintaxis **új listák** létrehozására létező iterálható objektumok (pl. lista, range) alapján.\n",
                "- Gyakran olvashatóbb és gyorsabb, mint a hagyományos `for` ciklus + `append` kombináció.\n",
                "- Alap szintaxis: `[<kifejezés> for <elem> in <iterálható>]`\n",
                "- Bővített szintaxis (szűréssel): `[<kifejezés> for <elem> in <iterálható> if <feltétel>]`\n"
            ]
        },
        {
            "cell_type": "code",
            "execution_count": 18,
            "id": "4a02b05c",
            "metadata": {},
            "outputs": [
                {
                    "name": "stdout",
                    "output_type": "stream",
                    "text": [
                        "Eredeti lista: [2, 4, 6, 8, 11]\n",
                        "Négyzetek (for ciklussal): [4, 16, 36, 64, 121]\n",
                        "Négyzetek (list comp.): [4, 16, 36, 64, 121]\n"
                    ]
                }
            ],
            "source": [
                "# Példa: Lista elemeinek négyzete\n",
                "numbers = [2, 4, 6, 8, 11]\n",
                "print(f\"Eredeti lista: {numbers}\")\n",
                "\n",
                "# Hagyományos for ciklussal\n",
                "squares_for = []\n",
                "for number in numbers:\n",
                "    squares_for.append(number**2)\n",
                "print(f\"Négyzetek (for ciklussal): {squares_for}\")\n",
                "\n",
                "# List comprehensionnel\n",
                "squares_comp = [number**2 for number in numbers]\n",
                "print(f\"Négyzetek (list comp.): {squares_comp}\")"
            ]
        },
        {
            "cell_type": "code",
            "execution_count": 19,
            "id": "53851259",
            "metadata": {},
            "outputs": [
                {
                    "name": "stdout",
                    "output_type": "stream",
                    "text": [
                        "Eredeti lista: [2, -10, 6, 8, 11, -3, 0]\n",
                        "Nem-negatív elemek négyzetgyöke (for ciklussal): [1.4142135623730951, 2.449489742783178, 2.8284271247461903, 3.3166247903554, 0.0]\n",
                        "Nem-negatív elemek négyzetgyöke: [1.4142135623730951, 2.449489742783178, 2.8284271247461903, 3.3166247903554, 0.0]\n"
                    ]
                }
            ],
            "source": [
                "# Példa: Csak a nem-negatív elemek négyzetgyöke\n",
                "numbers_sqrt = [2, -10, 6, 8, 11, -3, 0]\n",
                "print(f\"Eredeti lista: {numbers_sqrt}\")\n",
                "\n",
                "# Hagyományos for ciklussal\n",
                "sqrt_for = []\n",
                "for number in numbers_sqrt:\n",
                "    if number >= 0:\n",
                "        sqrt_for.append(math.sqrt(number))\n",
                "print(f\"Nem-negatív elemek négyzetgyöke (for ciklussal): {sqrt_for}\")\n",
                "\n",
                "sqrt_comp = [math.sqrt(element) for element in numbers_sqrt if element >= 0]\n",
                "print(f\"Nem-negatív elemek négyzetgyöke: {sqrt_comp}\")"
            ]
        },
        {
            "cell_type": "code",
            "execution_count": 20,
            "id": "ac244370",
            "metadata": {},
            "outputs": [
                {
                    "name": "stdout",
                    "output_type": "stream",
                    "text": [
                        "Pontok (nested list comp): [(1, 1), (1, 2), (1, 3), (2, 1), (2, 2), (2, 3), (3, 1), (3, 2), (3, 3)]\n"
                    ]
                }
            ],
            "source": [
                "# Példa: Beágyazott list comprehension (minden x,y pár létrehozása)\n",
                "# Csak említés szintjén, olvashatóság rovására mehet\n",
                "x_coords = [1, 2, 3]\n",
                "y_coords = [1, 2, 3]\n",
                "\n",
                "points = [(x, y) for x in x_coords for y in y_coords]\n",
                "print(f\"Pontok (nested list comp): {points}\")"
            ]
        },
        {
            "cell_type": "markdown",
            "id": "d1893fa0",
            "metadata": {},
            "source": [
                "### Miért használjuk? Olvashatóbb, és a memóriahatékonysága miatt gyorsabb is lehet.\n"
            ]
        },
        {
            "cell_type": "markdown",
            "id": "e8ab87ad",
            "metadata": {},
            "source": [
                "- `for` cilus\n"
            ]
        },
        {
            "cell_type": "code",
            "execution_count": 21,
            "id": "c1131ff4",
            "metadata": {},
            "outputs": [
                {
                    "name": "stdout",
                    "output_type": "stream",
                    "text": [
                        "143 ms ± 1.38 ms per loop (mean ± std. dev. of 7 runs, 10 loops each)\n"
                    ]
                }
            ],
            "source": [
                "%%timeit\n",
                "# Kis futási idő tesztelés: ez a cella pár másodpercig is futhat\n",
                "l_for = []\n",
                "MILLION = 1000000\n",
                "for i in range(MILLION):\n",
                "    l_for.append(i**2)"
            ]
        },
        {
            "cell_type": "markdown",
            "id": "e07a41a8",
            "metadata": {},
            "source": [
                "### List comprehension\n"
            ]
        },
        {
            "cell_type": "code",
            "execution_count": 22,
            "id": "4c00f1b5",
            "metadata": {},
            "outputs": [
                {
                    "name": "stdout",
                    "output_type": "stream",
                    "text": [
                        "121 ms ± 1.36 ms per loop (mean ± std. dev. of 7 runs, 10 loops each)\n"
                    ]
                }
            ],
            "source": [
                "%%timeit\n",
                "MILLION = 1000000\n",
                "l_comp = [i**2 for i in range(MILLION)]\n",
                "# Kb. 20%-kal gyorsabb, mint a for ciklus"
            ]
        },
        {
            "cell_type": "markdown",
            "id": "2db70886",
            "metadata": {},
            "source": [
                "## Összetett adatszerkezetek: a dictionary (`dict`)\n"
            ]
        },
        {
            "cell_type": "markdown",
            "id": "599ca066",
            "metadata": {},
            "source": [
                "- Kulcs-érték párok rendezetlen (Python 3.6 előtt) / rendezett (Python 3.7+) gyűjteménye.\n",
                "- Az értékeket a hozzájuk tartozó **egyedi kulcs** alapján érjük el (nem index alapján, mint a listáknál).\n",
                "- Maga a dictionary módosítható (mutable).\n",
                "- A **kulcsoknak** viszont **immutábilisnak** (nem módosíthatónak) és **egyedinek** kell lenniük (pl. szám, string, tuple lehet kulcs, de lista vagy másik dictionary nem).\n",
                "- Létrehozás: `{kulcs1: ertek1, kulcs2: ertek2}` vagy `dict()` függvénnyel.\n"
            ]
        },
        {
            "cell_type": "markdown",
            "id": "aadbaf69",
            "metadata": {},
            "source": [
                "### Létrehozás és elemek elérése\n"
            ]
        },
        {
            "cell_type": "code",
            "execution_count": 23,
            "id": "dict_creation_access_code",
            "metadata": {},
            "outputs": [
                {
                    "name": "stdout",
                    "output_type": "stream",
                    "text": [
                        "{'név': 'Béla', 'kor': 22, 'szak': 'Járműmérnöki BSc.'}\n",
                        "Béla\n",
                        "22\n"
                    ]
                }
            ],
            "source": [
                "student = {\"név\": \"Béla\", \"kor\": 22, \"szak\": \"Járműmérnöki BSc.\"}\n",
                "print(student)\n",
                "\n",
                "# Érték elérése kulcs alapján\n",
                "student_name = student[\"név\"]\n",
                "print(student_name)\n",
                "\n",
                "student_age = student[\"kor\"]\n",
                "print(student_age)"
            ]
        },
        {
            "cell_type": "markdown",
            "id": "dba9e728",
            "metadata": {},
            "source": [
                "### Módosítás és hozzáadás\n",
                "\n",
                "- Ha egy létező kulcsnak adunk új értéket, az felülírja a régit.\n",
                "- Ha egy nem létező kulcsnak adunk értéket, az új kulcs-érték párként hozzáadódik a dictionary-hez.\n"
            ]
        },
        {
            "cell_type": "code",
            "execution_count": 24,
            "id": "dict_modify_add_code",
            "metadata": {},
            "outputs": [
                {
                    "name": "stdout",
                    "output_type": "stream",
                    "text": [
                        "Eredeti: {'név': 'Béla', 'kor': 22, 'szak': 'Járműmérnöki BSc.'}\n",
                        "Módosítás után: {'név': 'Béla', 'kor': 23, 'szak': 'Járműmérnöki BSc.'}\n",
                        "Hozzáadás után: {'név': 'Béla', 'kor': 23, 'szak': 'Járműmérnöki BSc.', 'város': 'Budapest'}\n"
                    ]
                }
            ],
            "source": [
                "student = {\"név\": \"Béla\", \"kor\": 22, \"szak\": \"Járműmérnöki BSc.\"}\n",
                "print(f\"Eredeti: {student}\")\n",
                "\n",
                "# Módosítás\n",
                "student[\"kor\"] = 23\n",
                "print(f\"Módosítás után: {student}\")\n",
                "\n",
                "# Hozzáadás\n",
                "student[\"város\"] = \"Budapest\"\n",
                "print(f\"Hozzáadás után: {student}\")"
            ]
        },
        {
            "cell_type": "markdown",
            "id": "dict_keyerror_md",
            "metadata": {},
            "source": [
                "### Elemek biztonságos elérése a `.get()` metódussal\n",
                "\n",
                "- Ha `[]` indexeléssel próbálunk elérni egy nem létező kulcsot, `KeyError` hibát kapunk.\n",
                "- A `.get(kulcs, default_ertek)` metódus biztonságosabb: ha a kulcs létezik, visszaadja az értékét, ha nem, akkor a megadott `default_ertek`-et (ami alapértelmezetten `None`).\n"
            ]
        },
        {
            "cell_type": "code",
            "execution_count": 25,
            "id": "ccdbcad1",
            "metadata": {},
            "outputs": [
                {
                    "ename": "KeyError",
                    "evalue": "'lakhely'",
                    "output_type": "error",
                    "traceback": [
                        "\u001b[0;31m---------------------------------------------------------------------------\u001b[0m",
                        "\u001b[0;31mKeyError\u001b[0m                                  Traceback (most recent call last)",
                        "Cell \u001b[0;32mIn[25], line 2\u001b[0m\n\u001b[1;32m      1\u001b[0m student_c \u001b[38;5;241m=\u001b[39m {\u001b[38;5;124m\"\u001b[39m\u001b[38;5;124mnév\u001b[39m\u001b[38;5;124m\"\u001b[39m: \u001b[38;5;124m\"\u001b[39m\u001b[38;5;124mAnna\u001b[39m\u001b[38;5;124m\"\u001b[39m, \u001b[38;5;124m\"\u001b[39m\u001b[38;5;124mkor\u001b[39m\u001b[38;5;124m\"\u001b[39m: \u001b[38;5;241m20\u001b[39m}\n\u001b[0;32m----> 2\u001b[0m \u001b[38;5;28mprint\u001b[39m(\u001b[43mstudent_c\u001b[49m\u001b[43m[\u001b[49m\u001b[38;5;124;43m\"\u001b[39;49m\u001b[38;5;124;43mlakhely\u001b[39;49m\u001b[38;5;124;43m\"\u001b[39;49m\u001b[43m]\u001b[49m)  \u001b[38;5;66;03m# KeyError\u001b[39;00m\n",
                        "\u001b[0;31mKeyError\u001b[0m: 'lakhely'"
                    ]
                }
            ],
            "source": [
                "student_c = {\"név\": \"Anna\", \"kor\": 20}\n",
                "print(student_c[\"lakhely\"])  # KeyError"
            ]
        },
        {
            "cell_type": "code",
            "execution_count": 26,
            "id": "8d0a5e2c",
            "metadata": {},
            "outputs": [
                {
                    "name": "stdout",
                    "output_type": "stream",
                    "text": [
                        "Lakhely (get, default=None): None\n",
                        "Lakhely (get, default='Ismeretlen'): Ismeretlen\n",
                        "Kor (get): 20\n"
                    ]
                }
            ],
            "source": [
                "student_c = {\"név\": \"Anna\", \"kor\": 20}\n",
                "\n",
                "# .get() használata\n",
                "location = student_c.get(\"lakhely\")\n",
                "print(f\"Lakhely (get, default=None): {location}\")\n",
                "\n",
                "location_default = student_c.get(\n",
                "    \"lakhely\", \"Ismeretlen\"\n",
                ")  # Alapértelmezett érték megadása\n",
                "print(f\"Lakhely (get, default='Ismeretlen'): {location_default}\")\n",
                "\n",
                "# Létező kulcs esetén visszaadja az értéket\n",
                "age = student_c.get(\"kor\")\n",
                "print(f\"Kor (get): {age}\")"
            ]
        },
        {
            "cell_type": "markdown",
            "id": "19dadade",
            "metadata": {},
            "source": [
                "### Iterálás dictionary-n: `.keys()`, `.values()`, `.items()`\n",
                "\n",
                "- `.keys()`: Visszaad egy iterálható objektumot, amely a dictionary kulcsait tartalmazza.\n",
                "- `.values()`: Visszaad egy iterálható objektumot, amely a dictionary értékeit tartalmazza.\n",
                "- `.items()`: Visszaad egy iterálható objektumot, amely a dictionary kulcs-érték párait (tuple-ök formájában) tartalmazza.\n"
            ]
        },
        {
            "cell_type": "code",
            "execution_count": 27,
            "id": "dict_views_code",
            "metadata": {},
            "outputs": [
                {
                    "name": "stdout",
                    "output_type": "stream",
                    "text": [
                        "dict_keys(['név', 'kor', 'szak', 'város'])\n",
                        "dict_values(['Béla', 23, 'Járműmérnöki BSc.', 'Budapest'])\n",
                        "dict_items([('név', 'Béla'), ('kor', 23), ('szak', 'Járműmérnöki BSc.'), ('város', 'Budapest')])\n",
                        "Kulcsok listaként: ['név', 'kor', 'szak', 'város']\n",
                        "Értékek listaként: ['Béla', 23, 'Járműmérnöki BSc.', 'Budapest']\n",
                        "Elempárok listaként: [('név', 'Béla'), ('kor', 23), ('szak', 'Járműmérnöki BSc.'), ('város', 'Budapest')]\n"
                    ]
                }
            ],
            "source": [
                "student = {\"név\": \"Béla\", \"kor\": 23, \"szak\": \"Járműmérnöki BSc.\", \"város\": \"Budapest\"}\n",
                "\n",
                "# Önmagukban sokra nem jók, de ciklusokban jól használhatók\n",
                "keys = student.keys()\n",
                "values = student.values()\n",
                "items = student.items()\n",
                "\n",
                "print(keys)\n",
                "print(values)\n",
                "print(items)\n",
                "\n",
                "# Ha szükséges, listává alakíthatók\n",
                "keys_list = list(keys)\n",
                "values_list = list(values)\n",
                "items_list = list(items)\n",
                "print(f\"Kulcsok listaként: {keys_list}\")\n",
                "print(f\"Értékek listaként: {values_list}\")\n",
                "print(f\"Elempárok listaként: {items_list}\")"
            ]
        },
        {
            "cell_type": "markdown",
            "id": "dict_iteration_md",
            "metadata": {},
            "source": [
                "A `for` ciklussal többféleképpen is bejárhatjuk a dictionary elemeit.\n"
            ]
        },
        {
            "cell_type": "code",
            "execution_count": 28,
            "id": "dict_iteration_code",
            "metadata": {},
            "outputs": [
                {
                    "name": "stdout",
                    "output_type": "stream",
                    "text": [
                        "Iterálás kulcsokon (alapértelmezett):\n",
                        "Kulcs: név\n",
                        "Kulcs: kor\n",
                        "Kulcs: szak\n",
                        "Kulcs: város\n",
                        "---\n",
                        "Iterálás értékeken (.values()):\n",
                        "Érték: Béla\n",
                        "Érték: 23\n",
                        "Érték: Járműmérnöki BSc.\n",
                        "Érték: Budapest\n",
                        "---\n",
                        "Iterálás kulcs-érték párokon (.items()):\n",
                        "Kulcs: név, Érték: Béla\n",
                        "Kulcs: kor, Érték: 23\n",
                        "Kulcs: szak, Érték: Járműmérnöki BSc.\n",
                        "Kulcs: város, Érték: Budapest\n"
                    ]
                }
            ],
            "source": [
                "student = {\"név\": \"Béla\", \"kor\": 23, \"szak\": \"Járműmérnöki BSc.\", \"város\": \"Budapest\"}\n",
                "\n",
                "# 1. Iterálás a kulcsokon (ez az alapértelmezett)\n",
                "print(\"Iterálás kulcsokon (alapértelmezett):\")\n",
                "for key in student:\n",
                "    print(f\"Kulcs: {key}\")  # Értéket így érhetjük el: student[key]\n",
                "print(\"---\")\n",
                "\n",
                "# 2. Iterálás az értékeken\n",
                "print(\"Iterálás értékeken (.values()):\")\n",
                "for value in student.values():\n",
                "    print(f\"Érték: {value}\")\n",
                "print(\"---\")\n",
                "\n",
                "# 3. Iterálás kulcs-érték párokon (leggyakoribb)\n",
                "print(\"Iterálás kulcs-érték párokon (.items()):\")\n",
                "for key, value in student.items():\n",
                "    print(f\"Kulcs: {key}, Érték: {value}\")"
            ]
        },
        {
            "cell_type": "markdown",
            "id": "420ea0df",
            "metadata": {},
            "source": [
                "### Beágyazott dictionary\n",
                "\n",
                "Egy dictionary értéke lehet egy másik dictionary is.\n"
            ]
        },
        {
            "cell_type": "code",
            "execution_count": 29,
            "id": "1b97368e",
            "metadata": {},
            "outputs": [
                {
                    "name": "stdout",
                    "output_type": "stream",
                    "text": [
                        "Béla\n"
                    ]
                }
            ],
            "source": [
                "student_a = {\"név\": \"Béla\", \"kor\": 22, \"szak\": \"Járműmérnöki BSc.\"}\n",
                "student_b = {\n",
                "    \"név\": \"László\",\n",
                "    \"kor\": 21,\n",
                "    \"szak\": \"Repülőmérnöki BSc.\",\n",
                "    \"barát\": student_a,\n",
                "}\n",
                "\n",
                "# Hivatkozás a beágyazott objektumra\n",
                "friend_name = student_b[\"barát\"][\"név\"]\n",
                "print(friend_name)"
            ]
        },
        {
            "cell_type": "markdown",
            "id": "dict_merge_md",
            "metadata": {},
            "source": [
                "### Dictionary-k egyesítése\n",
                "\n",
                "Két (vagy több) dictionary tartalmát egyesíthetjük.\n"
            ]
        },
        {
            "cell_type": "markdown",
            "id": "84cfb7f9",
            "metadata": {},
            "source": [
                "**Tanári jegyzet:\\*** _Az `update()` helyben módosít, míg a `**` operátor új dictionary-t hoz létre. Ütköző kulcsok esetén mindkét módszernél a \"jobb oldali\" / később megadott dictionary értéke \"nyer\"._\n"
            ]
        },
        {
            "cell_type": "code",
            "execution_count": 30,
            "id": "dict_merge_code",
            "metadata": {},
            "outputs": [
                {
                    "name": "stdout",
                    "output_type": "stream",
                    "text": [
                        "dict1 eredetileg: {'a': 1, 'b': 2}\n",
                        "dict2: {'b': 3, 'c': 4}\n",
                        "dict1 update után: {'a': 1, 'b': 3, 'c': 4}\n",
                        "merged_dict (unpacking): {'a': 1, 'b': 3, 'c': 4, 'd': 5}\n",
                        "dict3 unpacking után: {'d': 5} (nem módosult)\n"
                    ]
                }
            ],
            "source": [
                "dict1 = {\"a\": 1, \"b\": 2}\n",
                "dict2 = {\"b\": 3, \"c\": 4}  # 'b' kulcs ütközik\n",
                "dict3 = {\"d\": 5}\n",
                "print(f\"dict1 eredetileg: {dict1}\")\n",
                "print(f\"dict2: {dict2}\")\n",
                "\n",
                "# 1. .update() metódus: Módosítja az eredeti dictionary-t (inplace)\n",
                "# Ütköző kulcs esetén a dict2 értéke (3) fogja felülírni a dict1 értékét (2).\n",
                "dict1.update(dict2)\n",
                "print(f\"dict1 update után: {dict1}\")\n",
                "\n",
                "# 2. Unpacking operátor (**): Új dictionary-t hoz létre (Python 3.5+)\n",
                "# Az ütköző kulcsoknál itt is a később megadott (dict2) értéke érvényesül.\n",
                "merged_dict = {**dict1, **dict2, **dict3}\n",
                "print(f\"merged_dict (unpacking): {merged_dict}\")\n",
                "print(f\"dict3 unpacking után: {dict3} (nem módosult)\")"
            ]
        },
        {
            "cell_type": "markdown",
            "id": "dict_key_immutability_md",
            "metadata": {},
            "source": [
                "### Milyen típus lehet `dict` kulcs?\n",
                "\n",
                "Csak **immutábilis** (nem módosítható) típusok lehetnek dictionary kulcsok. Ilyenek pl. `int`, `float`, `bool`, `str`, `tuple`.\n",
                "\n",
                "Mutábilis típusok (pl. `list`, `dict`, `set`) nem lehetnek kulcsok, mert az értékük megváltozhatna, ami a dictionary belső működését (hash tábla) felborítaná.\n"
            ]
        },
        {
            "cell_type": "code",
            "execution_count": 31,
            "id": "dict_key_immutability_error_code",
            "metadata": {},
            "outputs": [
                {
                    "ename": "TypeError",
                    "evalue": "unhashable type: 'list'",
                    "output_type": "error",
                    "traceback": [
                        "\u001b[0;31m---------------------------------------------------------------------------\u001b[0m",
                        "\u001b[0;31mTypeError\u001b[0m                                 Traceback (most recent call last)",
                        "Cell \u001b[0;32mIn[31], line 2\u001b[0m\n\u001b[1;32m      1\u001b[0m my_key_list \u001b[38;5;241m=\u001b[39m [\u001b[38;5;241m1\u001b[39m, \u001b[38;5;241m2\u001b[39m]\n\u001b[0;32m----> 2\u001b[0m faulty_dict \u001b[38;5;241m=\u001b[39m {my_key_list: \u001b[38;5;124m\"\u001b[39m\u001b[38;5;124mvalue\u001b[39m\u001b[38;5;124m\"\u001b[39m}  \u001b[38;5;66;03m# TypeError: unhashable type: 'list'\u001b[39;00m\n",
                        "\u001b[0;31mTypeError\u001b[0m: unhashable type: 'list'"
                    ]
                }
            ],
            "source": [
                "my_key_list = [1, 2]\n",
                "faulty_dict = {my_key_list: \"value\"}  # TypeError: unhashable type: 'list'"
            ]
        },
        {
            "cell_type": "markdown",
            "id": "9a3da8ed",
            "metadata": {},
            "source": [
                "## Összetett adatszerkezetek: a `set`\n"
            ]
        },
        {
            "cell_type": "markdown",
            "id": "set_intro_md",
            "metadata": {},
            "source": [
                "- **Rendezetlen**, **egyedi** elemek gyűjteménye.\n",
                "- Nincsenek ismétlődő elemek.\n",
                "- Létrehozás: `{elem1, elem2}` vagy `set()` függvénnyel (Figyelem: `{}` üres dictionary-t hoz létre, nem üres set-et!).\n",
                "- Az elemeknek **immutábilisnak** kell lenniük (mint a dictionary kulcsoknál).\n",
                "- Maga a `set` **módosítható** (mutable), adhatunk hozzá (`add`) és törölhetünk belőle (`remove`, `discard`) elemeket.\n",
                "- Nincs indexelése vagy szeletelése, mert rendezetlen.\n",
                "\n",
                "**_Tanári jegyzet:_** _A set legfontosabb felhasználási területei: duplikátumok gyors eltávolítása és a tartalmazás (`in`) rendkívül gyors ellenőrzése, ami független a set méretétől (átlagosan O(1) komplexitású)._\n"
            ]
        },
        {
            "cell_type": "markdown",
            "id": "e36365a9",
            "metadata": {},
            "source": [
                "### Létrehozás és elemek hozzáadása\n"
            ]
        },
        {
            "cell_type": "code",
            "execution_count": 32,
            "id": "set_creation_add_code",
            "metadata": {},
            "outputs": [
                {
                    "name": "stdout",
                    "output_type": "stream",
                    "text": [
                        "Eredeti set1: {1, 2, 3, 4}\n",
                        "Eredeti set2: {'a', 'c', 'b'}\n",
                        "Elem hozzáadása (5): {1, 2, 3, 4, 5}\n",
                        "Elem hozzáadása (1, már létezik): {1, 2, 3, 4, 5}\n"
                    ]
                }
            ],
            "source": [
                "my_set1 = {1, 2, 4, 3}  # Létrehozáskor a sorrend nem garantált\n",
                "my_set2 = {\"a\", \"b\", \"c\"}\n",
                "empty_set = set()  # Üres set létrehozása\n",
                "empty_set_wrong = {}  # Ez üres dictionary-t hoz létre, nem üres set-et!\n",
                "\n",
                "print(f\"Eredeti set1: {my_set1}\")\n",
                "print(f\"Eredeti set2: {my_set2}\")\n",
                "\n",
                "# Elem hozzáadása\n",
                "my_set1.add(5)\n",
                "print(f\"Elem hozzáadása (5): {my_set1}\")\n",
                "\n",
                "# Már létező elem hozzáadása nem okoz hibát, és nem változtat a set-en\n",
                "my_set1.add(1)\n",
                "print(f\"Elem hozzáadása (1, már létezik): {my_set1}\")"
            ]
        },
        {
            "cell_type": "markdown",
            "id": "set_remove_discard_md",
            "metadata": {},
            "source": [
                "### Elemek törlése: `.remove()` vs `.discard()`\n"
            ]
        },
        {
            "cell_type": "code",
            "execution_count": 33,
            "id": "set_remove_discard_code",
            "metadata": {},
            "outputs": [
                {
                    "name": "stdout",
                    "output_type": "stream",
                    "text": [
                        "Set a törlések előtt: {1, 2, 3, 4, 5}\n",
                        "Set remove(3) után: {1, 2, 4, 5}\n",
                        "Set discard(4) után: {1, 2, 5}\n",
                        "Discard(10) után (nem volt benne): {1, 2, 5}\n",
                        "Hiba remove(10) esetén: 10\n"
                    ]
                }
            ],
            "source": [
                "my_set_to_modify = {1, 2, 3, 4, 5}\n",
                "print(f\"Set a törlések előtt: {my_set_to_modify}\")\n",
                "\n",
                "# remove(): Eltávolít egy elemet. KeyError hibát dob, ha az elem nincs a set-ben.\n",
                "my_set_to_modify.remove(3)\n",
                "print(f\"Set remove(3) után: {my_set_to_modify}\")\n",
                "\n",
                "# discard(): Eltávolít egy elemet. Nem dob hibát, ha az elem nincs a set-ben.\n",
                "my_set_to_modify.discard(4)\n",
                "print(f\"Set discard(4) után: {my_set_to_modify}\")\n",
                "\n",
                "my_set_to_modify.discard(10)  # Nincs benne a 10, de nem dob hibát\n",
                "print(f\"Discard(10) után (nem volt benne): {my_set_to_modify}\")\n",
                "\n",
                "try:\n",
                "    my_set_to_modify.remove(10)  # KeyError hibát dob\n",
                "except KeyError as e:\n",
                "    print(f\"Hiba remove(10) esetén: {e}\")"
            ]
        },
        {
            "cell_type": "markdown",
            "id": "set_operations_md",
            "metadata": {},
            "source": [
                "### Alap `set` műveletek (halmazműveletek): unió, metszet, különbség, részhalmaz\n"
            ]
        },
        {
            "cell_type": "code",
            "execution_count": 34,
            "id": "set_operations_code",
            "metadata": {},
            "outputs": [
                {
                    "name": "stdout",
                    "output_type": "stream",
                    "text": [
                        "set_a: {1, 2, 3, 4}\n",
                        "set_b: {3, 4, 5, 6}\n",
                        "Unió (union |): {1, 2, 3, 4, 5, 6}\n",
                        "Metszet (intersection &): {3, 4}\n",
                        "Különbség (difference -): {1, 2}\n",
                        "Szimmetrikus különbség (symmetric_difference ^): {1, 2, 5, 6}\n",
                        "Tartalmazás (in): True\n",
                        "Részhalmaz (issubset <=): True\n",
                        "Valódi részhalmaz (issubset <): True\n"
                    ]
                }
            ],
            "source": [
                "set_a = {1, 2, 3, 4}\n",
                "set_b = {3, 4, 5, 6}\n",
                "set_c = {1, 2}\n",
                "print(f\"set_a: {set_a}\")\n",
                "print(f\"set_b: {set_b}\")\n",
                "\n",
                "# Unió\n",
                "union_set = set_a.union(set_b)  # Vagy: set_a | set_b\n",
                "print(f\"Unió (union |): {union_set}\")\n",
                "\n",
                "# Metszet\n",
                "intersection_set = set_a.intersection(set_b)  # Vagy: set_a & set_b\n",
                "print(f\"Metszet (intersection &): {intersection_set}\")\n",
                "\n",
                "# Különbség (a-ban benne van, b-ben nincs)\n",
                "difference_set = set_a.difference(set_b)  # Vagy: set_a - set_b\n",
                "print(f\"Különbség (difference -): {difference_set}\")\n",
                "\n",
                "# Szimmetrikus különbség (azok az elemek, amik csak az egyikben vannak benne)\n",
                "sym_diff_set = set_a.symmetric_difference(set_b)  # Vagy: set_a ^ set_b\n",
                "print(f\"Szimmetrikus különbség (symmetric_difference ^): {sym_diff_set}\")\n",
                "\n",
                "# Tartalmazás vizsgálat\n",
                "print(f\"Tartalmazás (in): {3 in set_a}\")\n",
                "\n",
                "# Részhalmaz vizsgálat\n",
                "print(f\"Részhalmaz (issubset <=): {set_c.issubset(set_a)}\")  # set_c <= set_a\n",
                "print(f\"Valódi részhalmaz (issubset <): {set_c < set_a}\")"
            ]
        },
        {
            "cell_type": "markdown",
            "id": "set_speed_md",
            "metadata": {},
            "source": [
                "### Set előnye: Gyors tartalmazás vizsgálat (`in`)\n",
                "\n",
                "Az `in` operátor set-ek esetén jelentősen gyorsabb, mint listáknál, különösen nagy adathalmazok esetén, mert a `set` belsőleg hash táblát használ.\n"
            ]
        },
        {
            "cell_type": "code",
            "execution_count": 35,
            "id": "set_speed_setup_code",
            "metadata": {},
            "outputs": [
                {
                    "name": "stdout",
                    "output_type": "stream",
                    "text": [
                        "Lista mérete: 1000000\n",
                        "Set mérete: 1000000\n"
                    ]
                }
            ],
            "source": [
                "large_num = int(1e6)\n",
                "\n",
                "# Lista és set létrehozása\n",
                "my_large_list = list(range(large_num))\n",
                "my_large_set = set(range(large_num))\n",
                "\n",
                "print(f\"Lista mérete: {len(my_large_list)}\")\n",
                "print(f\"Set mérete: {len(my_large_set)}\")\n",
                "\n",
                "element_to_check = large_num // 2  # Egy elem a közepéről\n",
                "element_not_present = -1  # Egy elem, ami nincs benne"
            ]
        },
        {
            "cell_type": "code",
            "execution_count": 36,
            "id": "set_speed_timeit_list_code",
            "metadata": {},
            "outputs": [
                {
                    "name": "stdout",
                    "output_type": "stream",
                    "text": [
                        "Lista 'in' (elem benne):\n",
                        "2.24 ms ± 44.9 µs per loop (mean ± std. dev. of 7 runs, 100 loops each)\n",
                        "Lista 'in' (elem nincs benne):\n",
                        "4.51 ms ± 41.6 µs per loop (mean ± std. dev. of 7 runs, 100 loops each)\n"
                    ]
                }
            ],
            "source": [
                "print(\"Lista 'in' (elem benne):\")\n",
                "%timeit element_to_check in my_large_list\n",
                "\n",
                "print(\"Lista 'in' (elem nincs benne):\")\n",
                "%timeit element_not_present in my_large_list"
            ]
        },
        {
            "cell_type": "code",
            "execution_count": 37,
            "id": "set_speed_timeit_set_code",
            "metadata": {},
            "outputs": [
                {
                    "name": "stdout",
                    "output_type": "stream",
                    "text": [
                        "Set 'in' (elem benne):\n",
                        "22.8 ns ± 0.566 ns per loop (mean ± std. dev. of 7 runs, 10,000,000 loops each)\n",
                        "Set 'in' (elem nincs benne):\n",
                        "16.8 ns ± 0.0964 ns per loop (mean ± std. dev. of 7 runs, 100,000,000 loops each)\n"
                    ]
                }
            ],
            "source": [
                "print(\"Set 'in' (elem benne):\")\n",
                "%timeit element_to_check in my_large_set\n",
                "\n",
                "print(\"Set 'in' (elem nincs benne):\")\n",
                "%timeit element_not_present in my_large_set\n",
                "\n",
                "# jóval gyorsabb: nanosec. milisec. helyett"
            ]
        },
        {
            "cell_type": "markdown",
            "id": "algorithms_intro_md",
            "metadata": {},
            "source": [
                "## Alapvető algoritmusok `for` ciklussal\n"
            ]
        },
        {
            "cell_type": "markdown",
            "id": "remove_duplicates_md",
            "metadata": {},
            "source": [
                "### Duplikátumok eltávolítása listából\n"
            ]
        },
        {
            "cell_type": "code",
            "execution_count": 38,
            "id": "remove_duplicates_for_code",
            "metadata": {},
            "outputs": [
                {
                    "name": "stdout",
                    "output_type": "stream",
                    "text": [
                        "Eredeti: [1, 4, 4, 5, 3, 3, 2, 1, 3, 6]\n",
                        "Duplikátumok nélkül (for ciklussal): [1, 4, 5, 3, 2, 6]\n"
                    ]
                }
            ],
            "source": [
                "list_with_duplicates = [1, 4, 4, 5, 3, 3, 2, 1, 3, 6]\n",
                "list_no_duplicates_for = []\n",
                "print(f\"Eredeti: {list_with_duplicates}\")\n",
                "\n",
                "for element in list_with_duplicates:\n",
                "    if element not in list_no_duplicates_for:\n",
                "        list_no_duplicates_for.append(element)\n",
                "\n",
                "print(f\"Duplikátumok nélkül (for ciklussal): {list_no_duplicates_for}\")"
            ]
        },
        {
            "cell_type": "markdown",
            "id": "remove_duplicates_set_md",
            "metadata": {},
            "source": [
                "#### Trükk: `set` használata\n",
                "\n",
                "Mivel a `set` csak egyedi elemeket tárol, a lista `set`-té alakítása, majd vissza listává alakítása egyszerűen eltávolítja a duplikátumokat (de az eredeti sorrend elveszik!).\n"
            ]
        },
        {
            "cell_type": "code",
            "execution_count": 39,
            "id": "remove_duplicates_set_code",
            "metadata": {},
            "outputs": [
                {
                    "name": "stdout",
                    "output_type": "stream",
                    "text": [
                        "Eredeti: [1, 4, 4, 5, 3, 3, 2, 1, 3, 6]\n",
                        "Duplikátumok nélkül (set trükk): [1, 2, 3, 4, 5, 6]\n"
                    ]
                }
            ],
            "source": [
                "print(f\"Eredeti: {list_with_duplicates}\")\n",
                "list_no_duplicates_set = list(set(list_with_duplicates))\n",
                "print(\n",
                "    f\"Duplikátumok nélkül (set trükk): {sorted(list_no_duplicates_set)}\"\n",
                ")  # Sorrendbe tesszük a jobb láthatóságért"
            ]
        },
        {
            "cell_type": "markdown",
            "id": "max_search_md",
            "metadata": {},
            "source": [
                "### Maximum keresés\n"
            ]
        },
        {
            "cell_type": "code",
            "execution_count": 40,
            "id": "max_search_code",
            "metadata": {},
            "outputs": [
                {
                    "name": "stdout",
                    "output_type": "stream",
                    "text": [
                        "Lista: [1, 4, 7, 10, 2, 5, 0, -1, 5]\n",
                        "Max (index iteráció): 10\n",
                        "Max (elem iteráció): 10\n",
                        "Max (enumerate): 10 (index: 3)\n",
                        "Max (beépített max()): 10\n"
                    ]
                }
            ],
            "source": [
                "my_list_max = [1, 4, 7, 10, 2, 5, 0, -1, 5]\n",
                "print(f\"Lista: {my_list_max}\")\n",
                "\n",
                "# 1. Módszer: Iterálás indexekkel\n",
                "max_element_idx = my_list_max[0]\n",
                "for index in range(1, len(my_list_max)):  # Kezdhetjük a 1. indextől\n",
                "    if my_list_max[index] > max_element_idx:\n",
                "        max_element_idx = my_list_max[index]\n",
                "print(f\"Max (index iteráció): {max_element_idx}\")\n",
                "\n",
                "# 2. Módszer: Iterálás elemekkel (egyszerűbb)\n",
                "max_element_val = my_list_max[0]\n",
                "for element in my_list_max:\n",
                "    if element > max_element_val:\n",
                "        max_element_val = element\n",
                "print(f\"Max (elem iteráció): {max_element_val}\")\n",
                "\n",
                "# 3. Módszer: `enumerate` (ha az index is kell)\n",
                "current_max = my_list_max[0]\n",
                "max_idx = 0\n",
                "for idx, num in enumerate(my_list_max):\n",
                "    if num > current_max:\n",
                "        current_max = num\n",
                "        max_idx = idx\n",
                "print(f\"Max (enumerate): {current_max} (index: {max_idx})\")\n",
                "\n",
                "# 4. Módszer: Beépített `max()` függvény\n",
                "max_builtin = max(my_list_max)\n",
                "print(f\"Max (beépített max()): {max_builtin}\")"
            ]
        },
        {
            "cell_type": "markdown",
            "id": "sorting_md",
            "metadata": {},
            "source": [
                "### Sorbarendezés (egyszerűbb algoritmusok)\n"
            ]
        },
        {
            "cell_type": "markdown",
            "id": "bubble_sort_md",
            "metadata": {},
            "source": [
                "#### Buborékrendezés (Bubble Sort)\n",
                "\n",
                "Ismételten végigmegy a listán, összehasonlítja a szomszédos elemeket, és felcseréli őket, ha rossz sorrendben vannak. Ezt addig ismétli, amíg nincs több csere (vagy garantáltan minden a helyére került).\n"
            ]
        },
        {
            "cell_type": "code",
            "execution_count": 41,
            "id": "bubble_sort_code",
            "metadata": {},
            "outputs": [
                {
                    "name": "stdout",
                    "output_type": "stream",
                    "text": [
                        "Eredeti lista: [5, 6, 1, 4, 3, 2]\n",
                        "1. menet után: [5, 1, 4, 3, 2, 6]\n",
                        "2. menet után: [1, 4, 3, 2, 5, 6]\n",
                        "3. menet után: [1, 3, 2, 4, 5, 6]\n",
                        "4. menet után: [1, 2, 3, 4, 5, 6]\n",
                        "5. menet után: [1, 2, 3, 4, 5, 6]\n",
                        "Rendezett lista (Bubble Sort): [1, 2, 3, 4, 5, 6]\n"
                    ]
                }
            ],
            "source": [
                "# Eredeti lista definiálása\n",
                "list_to_sort_bubble = [5, 6, 1, 4, 3, 2]\n",
                "n = len(list_to_sort_bubble)\n",
                "print(f\"Eredeti lista: {list_to_sort_bubble}\")\n",
                "\n",
                "# Végigmegyünk a listán n-1-szer\n",
                "for i in range(n - 1):\n",
                "    swapped = False  # Optimalizáció: ha egy menetben nincs csere, a lista rendezett\n",
                "    # Végigmegyünk a még rendezetlen részen\n",
                "    for j in range(0, n - i - 1):\n",
                "        # Ha az aktuális elem nagyobb a következőnél, cserélünk\n",
                "        if list_to_sort_bubble[j] > list_to_sort_bubble[j + 1]:\n",
                "            list_to_sort_bubble[j], list_to_sort_bubble[j + 1] = (\n",
                "                list_to_sort_bubble[j + 1],\n",
                "                list_to_sort_bubble[j],\n",
                "            )\n",
                "            swapped = True\n",
                "    print(f\"{i+1}. menet után: {list_to_sort_bubble}\")\n",
                "    if not swapped:\n",
                "        break  # Ha nem volt csere, kilépünk\n",
                "\n",
                "print(f\"Rendezett lista (Bubble Sort): {list_to_sort_bubble}\")"
            ]
        },
        {
            "cell_type": "markdown",
            "id": "a1d7dc0c",
            "metadata": {},
            "source": [
                "Futtassuk a következő cellát egy interaktív vizualizációhoz:\n"
            ]
        },
        {
            "cell_type": "code",
            "execution_count": 6,
            "id": "fb8d4a9a",
            "metadata": {},
            "outputs": [
                {
                    "data": {
                        "text/html": [
                            "<iframe src=\"data:text/html;base64,PCFET0NUWVBFIGh0bWw+CjxodG1sIGxhbmc9ImVuIj4KICA8aGVhZD4KICAgIDxtZXRhIGNoYXJzZXQ9IlVURi04IiAvPgogICAgPG1ldGEKICAgICAgbmFtZT0idmlld3BvcnQiCiAgICAgIGNvbnRlbnQ9IndpZHRoPWRldmljZS13aWR0aCwgaW5pdGlhbC1zY2FsZT0xLjAiIC8+CiAgICA8dGl0bGU+QnVib3LDqWtyZW5kZXrDqXMgVml6dWFsaXrDoWNpw7M8L3RpdGxlPgoKICAgIDwhLS0gSW5jbHVkZSBUYWlsd2luZCBDU1MgZnJvbSBDRE4gLS0+CiAgICA8c2NyaXB0IHNyYz0iaHR0cHM6Ly9jZG4udGFpbHdpbmRjc3MuY29tIj48L3NjcmlwdD4KCiAgICA8IS0tIEluY2x1ZGUgUmVhY3QgYW5kIFJlYWN0RE9NIGZyb20gQ0ROIC0tPgogICAgPHNjcmlwdAogICAgICBjcm9zc29yaWdpbgogICAgICBzcmM9Imh0dHBzOi8vdW5wa2cuY29tL3JlYWN0QDE4L3VtZC9yZWFjdC5kZXZlbG9wbWVudC5qcyI+PC9zY3JpcHQ+CiAgICA8c2NyaXB0CiAgICAgIGNyb3Nzb3JpZ2luCiAgICAgIHNyYz0iaHR0cHM6Ly91bnBrZy5jb20vcmVhY3QtZG9tQDE4L3VtZC9yZWFjdC1kb20uZGV2ZWxvcG1lbnQuanMiPjwvc2NyaXB0PgoKICAgIDwhLS0gSW5jbHVkZSBCYWJlbCBmb3IgSlNYIHN1cHBvcnQgLS0+CiAgICA8c2NyaXB0IHNyYz0iaHR0cHM6Ly91bnBrZy5jb20vQGJhYmVsL3N0YW5kYWxvbmUvYmFiZWwubWluLmpzIj48L3NjcmlwdD4KCiAgICA8c3R5bGU+CiAgICAgIGJvZHkgewogICAgICAgIGZvbnQtZmFtaWx5OiAtYXBwbGUtc3lzdGVtLCBCbGlua01hY1N5c3RlbUZvbnQsICdTZWdvZSBVSScsIFJvYm90bywKICAgICAgICAgIEhlbHZldGljYSwgQXJpYWwsIHNhbnMtc2VyaWY7CiAgICAgICAgcGFkZGluZzogMjBweDsKICAgICAgfQogICAgICAuY29udGFpbmVyIHsKICAgICAgICBtYXgtd2lkdGg6IDEwMDBweDsKICAgICAgICBtYXJnaW46IDAgYXV0bzsKICAgICAgfQogICAgPC9zdHlsZT4KICA8L2hlYWQ+CiAgPGJvZHk+CiAgICA8ZGl2CiAgICAgIGlkPSJyb290IgogICAgICBjbGFzcz0iY29udGFpbmVyIj48L2Rpdj4KCiAgICA8c2NyaXB0IHR5cGU9InRleHQvYmFiZWwiPgogICAgICBjb25zdCB7dXNlU3RhdGUsIHVzZUVmZmVjdH0gPSBSZWFjdDsKCiAgICAgIGZ1bmN0aW9uIEJ1YmJsZVNvcnRWaXN1YWxpemF0aW9uKCkgewogICAgICAgIGNvbnN0IFthcnJheSwgc2V0QXJyYXldID0gdXNlU3RhdGUoW10pOwogICAgICAgIGNvbnN0IFtjdXJyZW50SSwgc2V0Q3VycmVudEldID0gdXNlU3RhdGUoMCk7CiAgICAgICAgY29uc3QgW2N1cnJlbnRKLCBzZXRDdXJyZW50Sl0gPSB1c2VTdGF0ZSgwKTsKICAgICAgICBjb25zdCBbc29ydGVkLCBzZXRTb3J0ZWRdID0gdXNlU3RhdGUoZmFsc2UpOwogICAgICAgIGNvbnN0IFtpc1NvcnRpbmcsIHNldElzU29ydGluZ10gPSB1c2VTdGF0ZShmYWxzZSk7CiAgICAgICAgY29uc3QgW3NwZWVkLCBzZXRTcGVlZF0gPSB1c2VTdGF0ZSg1MDApOwogICAgICAgIGNvbnN0IFtoaXN0b3J5LCBzZXRIaXN0b3J5XSA9IHVzZVN0YXRlKFtdKTsKICAgICAgICBjb25zdCBbaGlzdG9yeUluZGV4LCBzZXRIaXN0b3J5SW5kZXhdID0gdXNlU3RhdGUoLTEpOwogICAgICAgIGNvbnN0IFthdXRvUGxheSwgc2V0QXV0b1BsYXldID0gdXNlU3RhdGUoZmFsc2UpOwogICAgICAgIGNvbnN0IFtjb21wYXJpc29ucywgc2V0Q29tcGFyaXNvbnNdID0gdXNlU3RhdGUoMCk7CiAgICAgICAgY29uc3QgW3N3YXBzLCBzZXRTd2Fwc10gPSB1c2VTdGF0ZSgwKTsKICAgICAgICBjb25zdCBbcGFzcywgc2V0UGFzc10gPSB1c2VTdGF0ZSgwKTsKICAgICAgICBjb25zdCBbY3VycmVudFN0ZXAsIHNldEN1cnJlbnRTdGVwXSA9IHVzZVN0YXRlKCcnKTsKCiAgICAgICAgY29uc3QgZ2VuZXJhdGVSYW5kb21BcnJheSA9ICgpID0+IHsKICAgICAgICAgIGNvbnN0IG5ld0FycmF5ID0gQXJyYXkuZnJvbSgKICAgICAgICAgICAge2xlbmd0aDogMTB9LAogICAgICAgICAgICAoKSA9PiBNYXRoLmZsb29yKE1hdGgucmFuZG9tKCkgKiAxMDApICsgMQogICAgICAgICAgKTsKICAgICAgICAgIHNldEFycmF5KG5ld0FycmF5KTsKICAgICAgICAgIHNldFNvcnRlZChmYWxzZSk7CiAgICAgICAgICBzZXRDdXJyZW50SSgwKTsKICAgICAgICAgIHNldEN1cnJlbnRKKDApOwogICAgICAgICAgc2V0UGFzcygxKTsKICAgICAgICAgIHNldEN1cnJlbnRTdGVwKCdJbmTDrXTDoXNyYSBrw6lzeicpOwogICAgICAgICAgc2V0SGlzdG9yeShbCiAgICAgICAgICAgIHsKICAgICAgICAgICAgICBhcnJheTogWy4uLm5ld0FycmF5XSwKICAgICAgICAgICAgICBpOiAwLAogICAgICAgICAgICAgIGo6IDAsCiAgICAgICAgICAgICAgcGFzczogMSwKICAgICAgICAgICAgICBzb3J0ZWQ6IGZhbHNlLAogICAgICAgICAgICAgIGNvbXBhcmlzb25zOiAwLAogICAgICAgICAgICAgIHN3YXBzOiAwLAogICAgICAgICAgICAgIGN1cnJlbnRTdGVwOiAnSW5kw610w6FzcmEga8Opc3onLAogICAgICAgICAgICB9LAogICAgICAgICAgXSk7CiAgICAgICAgICBzZXRIaXN0b3J5SW5kZXgoMCk7CiAgICAgICAgICBzZXRDb21wYXJpc29ucygwKTsKICAgICAgICAgIHNldFN3YXBzKDApOwogICAgICAgIH07CgogICAgICAgIGNvbnN0IHJlc2V0RGVtbyA9ICgpID0+IHsKICAgICAgICAgIHNldElzU29ydGluZyhmYWxzZSk7CiAgICAgICAgICBzZXRBdXRvUGxheShmYWxzZSk7CiAgICAgICAgICBpZiAoaGlzdG9yeS5sZW5ndGggPiAwKSB7CiAgICAgICAgICAgIGNvbnN0IGluaXRpYWxTdGF0ZSA9IGhpc3RvcnlbMF07CiAgICAgICAgICAgIHNldEFycmF5KFsuLi5pbml0aWFsU3RhdGUuYXJyYXldKTsKICAgICAgICAgICAgc2V0Q3VycmVudEkoaW5pdGlhbFN0YXRlLmkpOwogICAgICAgICAgICBzZXRDdXJyZW50Sihpbml0aWFsU3RhdGUuaik7CiAgICAgICAgICAgIHNldFNvcnRlZChpbml0aWFsU3RhdGUuc29ydGVkKTsKICAgICAgICAgICAgc2V0UGFzcyhpbml0aWFsU3RhdGUucGFzcyk7CiAgICAgICAgICAgIHNldEhpc3RvcnlJbmRleCgwKTsKICAgICAgICAgICAgc2V0Q29tcGFyaXNvbnMoMCk7CiAgICAgICAgICAgIHNldFN3YXBzKDApOwogICAgICAgICAgICBzZXRDdXJyZW50U3RlcChpbml0aWFsU3RhdGUuY3VycmVudFN0ZXApOwogICAgICAgICAgfQogICAgICAgIH07CgogICAgICAgIGNvbnN0IGJ1YmJsZVNvcnRTdGVwID0gKCkgPT4gewogICAgICAgICAgaWYgKHNvcnRlZCkgcmV0dXJuOwoKICAgICAgICAgIGxldCBuZXdBcnJheSA9IFsuLi5hcnJheV07CiAgICAgICAgICBsZXQgbmV3SSA9IGN1cnJlbnRJOwogICAgICAgICAgbGV0IG5ld0ogPSBjdXJyZW50SjsKICAgICAgICAgIGxldCBuZXdTb3J0ZWQgPSBzb3J0ZWQ7CiAgICAgICAgICBsZXQgbmV3Q29tcGFyaXNvbnMgPSBjb21wYXJpc29uczsKICAgICAgICAgIGxldCBuZXdTd2FwcyA9IHN3YXBzOwogICAgICAgICAgbGV0IG5ld1Bhc3MgPSBwYXNzOwogICAgICAgICAgbGV0IG5ld1N0ZXAgPSAnJzsKCiAgICAgICAgICAvLyBJZiB3ZSdyZSBhdCB0aGUgZW5kIG9mIGEgcGFzcwogICAgICAgICAgaWYgKG5ld0ogPj0gbmV3QXJyYXkubGVuZ3RoIC0gbmV3SSAtIDEpIHsKICAgICAgICAgICAgLy8gTW92ZSB0byB0aGUgbmV4dCBwYXNzCiAgICAgICAgICAgIG5ld0krKzsKICAgICAgICAgICAgbmV3SiA9IDA7CiAgICAgICAgICAgIG5ld1Bhc3MrKzsKICAgICAgICAgICAgbmV3U3RlcCA9IGAke25ld1Bhc3N9LiDDoXRmdXTDoXMga2V6ZGV0ZWA7CgogICAgICAgICAgICAvLyBJZiB3ZSd2ZSBjb21wbGV0ZWQgYWxsIHBhc3Nlcywgd2UncmUgZG9uZQogICAgICAgICAgICBpZiAobmV3SSA+PSBuZXdBcnJheS5sZW5ndGggLSAxKSB7CiAgICAgICAgICAgICAgbmV3U29ydGVkID0gdHJ1ZTsKICAgICAgICAgICAgICBuZXdTdGVwID0gJ1JlbmRlesOpcyBiZWZlamV6dmUhJzsKICAgICAgICAgICAgICBzZXRJc1NvcnRpbmcoZmFsc2UpOwogICAgICAgICAgICAgIHNldEF1dG9QbGF5KGZhbHNlKTsKICAgICAgICAgICAgfQogICAgICAgICAgfSBlbHNlIHsKICAgICAgICAgICAgLy8gQ29tcGFyZSBhbmQgcG90ZW50aWFsbHkgc3dhcCBhZGphY2VudCBlbGVtZW50cwogICAgICAgICAgICBuZXdDb21wYXJpc29ucysrOwogICAgICAgICAgICBuZXdTdGVwID0gYCR7bmV3QXJyYXlbbmV3Sl19IMOpcyAkewogICAgICAgICAgICAgIG5ld0FycmF5W25ld0ogKyAxXQogICAgICAgICAgICB9IGVsZW1layDDtnNzemVoYXNvbmzDrXTDoXNhYDsKCiAgICAgICAgICAgIGlmIChuZXdBcnJheVtuZXdKXSA+IG5ld0FycmF5W25ld0ogKyAxXSkgewogICAgICAgICAgICAgIG5ld1N0ZXAgPSBgJHtuZXdBcnJheVtuZXdKXX0gw6lzICR7CiAgICAgICAgICAgICAgICBuZXdBcnJheVtuZXdKICsgMV0KICAgICAgICAgICAgICB9IGVsZW1layBjc2Vyw6lqZWA7CiAgICAgICAgICAgICAgY29uc3QgdGVtcCA9IG5ld0FycmF5W25ld0pdOwogICAgICAgICAgICAgIG5ld0FycmF5W25ld0pdID0gbmV3QXJyYXlbbmV3SiArIDFdOwogICAgICAgICAgICAgIG5ld0FycmF5W25ld0ogKyAxXSA9IHRlbXA7CiAgICAgICAgICAgICAgbmV3U3dhcHMrKzsKICAgICAgICAgICAgfQogICAgICAgICAgICBuZXdKKys7CiAgICAgICAgICB9CgogICAgICAgICAgc2V0QXJyYXkobmV3QXJyYXkpOwogICAgICAgICAgc2V0Q3VycmVudEkobmV3SSk7CiAgICAgICAgICBzZXRDdXJyZW50SihuZXdKKTsKICAgICAgICAgIHNldFNvcnRlZChuZXdTb3J0ZWQpOwogICAgICAgICAgc2V0Q29tcGFyaXNvbnMobmV3Q29tcGFyaXNvbnMpOwogICAgICAgICAgc2V0U3dhcHMobmV3U3dhcHMpOwogICAgICAgICAgc2V0UGFzcyhuZXdQYXNzKTsKICAgICAgICAgIHNldEN1cnJlbnRTdGVwKG5ld1N0ZXApOwoKICAgICAgICAgIC8vIEFkZCB0byBoaXN0b3J5CiAgICAgICAgICBjb25zdCBuZXdIaXN0b3J5U3RhdGUgPSB7CiAgICAgICAgICAgIGFycmF5OiBbLi4ubmV3QXJyYXldLAogICAgICAgICAgICBpOiBuZXdJLAogICAgICAgICAgICBqOiBuZXdKLAogICAgICAgICAgICBwYXNzOiBuZXdQYXNzLAogICAgICAgICAgICBzb3J0ZWQ6IG5ld1NvcnRlZCwKICAgICAgICAgICAgY29tcGFyaXNvbnM6IG5ld0NvbXBhcmlzb25zLAogICAgICAgICAgICBzd2FwczogbmV3U3dhcHMsCiAgICAgICAgICAgIGN1cnJlbnRTdGVwOiBuZXdTdGVwLAogICAgICAgICAgfTsKCiAgICAgICAgICBjb25zdCBuZXdIaXN0b3J5ID0gaGlzdG9yeQogICAgICAgICAgICAuc2xpY2UoMCwgaGlzdG9yeUluZGV4ICsgMSkKICAgICAgICAgICAgLmNvbmNhdChuZXdIaXN0b3J5U3RhdGUpOwogICAgICAgICAgc2V0SGlzdG9yeShuZXdIaXN0b3J5KTsKICAgICAgICAgIHNldEhpc3RvcnlJbmRleChoaXN0b3J5SW5kZXggKyAxKTsKICAgICAgICB9OwoKICAgICAgICBjb25zdCBzdGFydFNvcnRpbmcgPSAoKSA9PiB7CiAgICAgICAgICBzZXRJc1NvcnRpbmcodHJ1ZSk7CiAgICAgICAgICBzZXRBdXRvUGxheSh0cnVlKTsKICAgICAgICB9OwoKICAgICAgICBjb25zdCBwYXVzZVNvcnRpbmcgPSAoKSA9PiB7CiAgICAgICAgICBzZXRBdXRvUGxheShmYWxzZSk7CiAgICAgICAgfTsKCiAgICAgICAgY29uc3Qgc3RlcEZvcndhcmQgPSAoKSA9PiB7CiAgICAgICAgICBpZiAoaGlzdG9yeUluZGV4IDwgaGlzdG9yeS5sZW5ndGggLSAxKSB7CiAgICAgICAgICAgIGNvbnN0IG5leHRTdGF0ZSA9IGhpc3RvcnlbaGlzdG9yeUluZGV4ICsgMV07CiAgICAgICAgICAgIHNldEFycmF5KFsuLi5uZXh0U3RhdGUuYXJyYXldKTsKICAgICAgICAgICAgc2V0Q3VycmVudEkobmV4dFN0YXRlLmkpOwogICAgICAgICAgICBzZXRDdXJyZW50SihuZXh0U3RhdGUuaik7CiAgICAgICAgICAgIHNldFNvcnRlZChuZXh0U3RhdGUuc29ydGVkKTsKICAgICAgICAgICAgc2V0UGFzcyhuZXh0U3RhdGUucGFzcyk7CiAgICAgICAgICAgIHNldEhpc3RvcnlJbmRleChoaXN0b3J5SW5kZXggKyAxKTsKICAgICAgICAgICAgc2V0Q29tcGFyaXNvbnMobmV4dFN0YXRlLmNvbXBhcmlzb25zKTsKICAgICAgICAgICAgc2V0U3dhcHMobmV4dFN0YXRlLnN3YXBzKTsKICAgICAgICAgICAgc2V0Q3VycmVudFN0ZXAobmV4dFN0YXRlLmN1cnJlbnRTdGVwKTsKICAgICAgICAgIH0gZWxzZSB7CiAgICAgICAgICAgIGJ1YmJsZVNvcnRTdGVwKCk7CiAgICAgICAgICB9CiAgICAgICAgfTsKCiAgICAgICAgY29uc3Qgc3RlcEJhY2t3YXJkID0gKCkgPT4gewogICAgICAgICAgaWYgKGhpc3RvcnlJbmRleCA+IDApIHsKICAgICAgICAgICAgY29uc3QgcHJldlN0YXRlID0gaGlzdG9yeVtoaXN0b3J5SW5kZXggLSAxXTsKICAgICAgICAgICAgc2V0QXJyYXkoWy4uLnByZXZTdGF0ZS5hcnJheV0pOwogICAgICAgICAgICBzZXRDdXJyZW50SShwcmV2U3RhdGUuaSk7CiAgICAgICAgICAgIHNldEN1cnJlbnRKKHByZXZTdGF0ZS5qKTsKICAgICAgICAgICAgc2V0U29ydGVkKHByZXZTdGF0ZS5zb3J0ZWQpOwogICAgICAgICAgICBzZXRQYXNzKHByZXZTdGF0ZS5wYXNzKTsKICAgICAgICAgICAgc2V0SGlzdG9yeUluZGV4KGhpc3RvcnlJbmRleCAtIDEpOwogICAgICAgICAgICBzZXRDb21wYXJpc29ucyhwcmV2U3RhdGUuY29tcGFyaXNvbnMpOwogICAgICAgICAgICBzZXRTd2FwcyhwcmV2U3RhdGUuc3dhcHMpOwogICAgICAgICAgICBzZXRDdXJyZW50U3RlcChwcmV2U3RhdGUuY3VycmVudFN0ZXApOwogICAgICAgICAgfQogICAgICAgIH07CgogICAgICAgIHVzZUVmZmVjdCgoKSA9PiB7CiAgICAgICAgICBnZW5lcmF0ZVJhbmRvbUFycmF5KCk7CiAgICAgICAgfSwgW10pOwoKICAgICAgICB1c2VFZmZlY3QoKCkgPT4gewogICAgICAgICAgbGV0IHRpbWVyOwogICAgICAgICAgaWYgKGF1dG9QbGF5ICYmICFzb3J0ZWQpIHsKICAgICAgICAgICAgdGltZXIgPSBzZXRUaW1lb3V0KCgpID0+IHsKICAgICAgICAgICAgICBidWJibGVTb3J0U3RlcCgpOwogICAgICAgICAgICB9LCBzcGVlZCk7CiAgICAgICAgICB9CiAgICAgICAgICByZXR1cm4gKCkgPT4gY2xlYXJUaW1lb3V0KHRpbWVyKTsKICAgICAgICB9LCBbYXJyYXksIGN1cnJlbnRJLCBjdXJyZW50SiwgYXV0b1BsYXksIHNwZWVkLCBzb3J0ZWRdKTsKCiAgICAgICAgcmV0dXJuICgKICAgICAgICAgIDxkaXYgY2xhc3NOYW1lPSJmbGV4IGZsZXgtY29sIHAtNCBiZy1ncmF5LTEwMCByb3VuZGVkLWxnIHNoYWRvdy1tZCI+CiAgICAgICAgICAgIDxoMiBjbGFzc05hbWU9InRleHQtMnhsIGZvbnQtYm9sZCB0ZXh0LWNlbnRlciBtYi00Ij4KICAgICAgICAgICAgICBCdWJvcsOpa3JlbmRlesOpcyBWaXp1YWxpesOhY2nDswogICAgICAgICAgICA8L2gyPgoKICAgICAgICAgICAgPGRpdiBjbGFzc05hbWU9Im1iLTQgcC0yIGJnLXdoaXRlIHJvdW5kZWQgc2hhZG93Ij4KICAgICAgICAgICAgICA8aDMgY2xhc3NOYW1lPSJ0ZXh0LWxnIGZvbnQtc2VtaWJvbGQgbWItMiI+CiAgICAgICAgICAgICAgICBIb2d5YW4gbcWxa8O2ZGlrIGEgYnVib3LDqWtyZW5kZXrDqXM6CiAgICAgICAgICAgICAgPC9oMz4KICAgICAgICAgICAgICA8cCBjbGFzc05hbWU9InRleHQtc20gbWItMSI+CiAgICAgICAgICAgICAgICAxLiBTem9tc3rDqWRvcyBlbGVtZWsgw7Zzc3plaGFzb25sw610w6FzYSDDqXMgY3NlcsOpamUsIGhhIHJvc3N6CiAgICAgICAgICAgICAgICBzb3JyZW5kYmVuIHZhbm5hawogICAgICAgICAgICAgIDwvcD4KICAgICAgICAgICAgICA8cCBjbGFzc05hbWU9InRleHQtc20gbWItMSI+CiAgICAgICAgICAgICAgICAyLiBNaW5kZW4gw6F0ZnV0w6FzIHV0w6FuIGEgbGVnbmFneW9iYiByZW5kZXpldGxlbiBlbGVtCiAgICAgICAgICAgICAgICAiZmVsYnVib3LDqWtvbCIgYSBtZWdmZWxlbMWRIHBvesOtY2nDs2JhCiAgICAgICAgICAgICAgPC9wPgogICAgICAgICAgICAgIDxwIGNsYXNzTmFtZT0idGV4dC1zbSBtYi0xIj4KICAgICAgICAgICAgICAgIDMuIElkxZFib255b2x1bHRzw6FnOiBPKG7CsikgYSBsZWdyb3NzemFiYiDDqXMgw6F0bGFnb3MgZXNldGJlbiwgTyhuKQogICAgICAgICAgICAgICAgYSBsZWdqb2JiIGVzZXRiZW4KICAgICAgICAgICAgICA8L3A+CiAgICAgICAgICAgIDwvZGl2PgoKICAgICAgICAgICAgPGRpdiBjbGFzc05hbWU9ImgtNjQgZmxleCBpdGVtcy1lbmQganVzdGlmeS1jZW50ZXIgc3BhY2UteC0xIG1iLTYgYm9yZGVyLWItMiBib3JkZXItZ3JheS00MDAgYmctd2hpdGUgcm91bmRlZCBwLTIiPgogICAgICAgICAgICAgIHthcnJheS5tYXAoKHZhbHVlLCBpbmRleCkgPT4gKAogICAgICAgICAgICAgICAgPGRpdgogICAgICAgICAgICAgICAgICBrZXk9e2luZGV4fQogICAgICAgICAgICAgICAgICBjbGFzc05hbWU9e2B3LTggZmxleCBmbGV4LWNvbCBpdGVtcy1jZW50ZXIganVzdGlmeS1lbmQgJHsKICAgICAgICAgICAgICAgICAgICBzb3J0ZWQKICAgICAgICAgICAgICAgICAgICAgID8gJ2JnLWdyZWVuLTUwMCcKICAgICAgICAgICAgICAgICAgICAgIDogaW5kZXggPT09IGN1cnJlbnRKCiAgICAgICAgICAgICAgICAgICAgICA/ICdiZy1yZWQtNTAwJwogICAgICAgICAgICAgICAgICAgICAgOiBpbmRleCA9PT0gY3VycmVudEogKyAxCiAgICAgICAgICAgICAgICAgICAgICA/ICdiZy1yZWQtNTAwJwogICAgICAgICAgICAgICAgICAgICAgOiBpbmRleCA+PSBhcnJheS5sZW5ndGggLSBjdXJyZW50SQogICAgICAgICAgICAgICAgICAgICAgPyAnYmctZ3JlZW4tMzAwJwogICAgICAgICAgICAgICAgICAgICAgOiAnYmctYmx1ZS01MDAnCiAgICAgICAgICAgICAgICAgIH0gdHJhbnNpdGlvbi1hbGwgZHVyYXRpb24tMzAwYH0KICAgICAgICAgICAgICAgICAgc3R5bGU9e3toZWlnaHQ6IGAke01hdGgubWF4KHZhbHVlICogMiwgMjQpfXB4YH19PgogICAgICAgICAgICAgICAgICA8ZGl2IGNsYXNzTmFtZT0idGV4dC13aGl0ZSBmb250LWJvbGQgbWItMSI+e3ZhbHVlfTwvZGl2PgogICAgICAgICAgICAgICAgPC9kaXY+CiAgICAgICAgICAgICAgKSl9CiAgICAgICAgICAgIDwvZGl2PgoKICAgICAgICAgICAgPGRpdiBjbGFzc05hbWU9InRleHQtY2VudGVyIG1iLTQgYmctd2hpdGUgcC0yIHJvdW5kZWQgc2hhZG93Ij4KICAgICAgICAgICAgICA8cCBjbGFzc05hbWU9InRleHQtc20gZm9udC1zZW1pYm9sZCI+e2N1cnJlbnRTdGVwfTwvcD4KICAgICAgICAgICAgPC9kaXY+CgogICAgICAgICAgICA8ZGl2IGNsYXNzTmFtZT0ibWItNCBmbGV4IGp1c3RpZnktYmV0d2VlbiBpdGVtcy1jZW50ZXIiPgogICAgICAgICAgICAgIDxkaXYgY2xhc3NOYW1lPSJmbGV4IHNwYWNlLXgtMiI+CiAgICAgICAgICAgICAgICA8YnV0dG9uCiAgICAgICAgICAgICAgICAgIG9uQ2xpY2s9e2dlbmVyYXRlUmFuZG9tQXJyYXl9CiAgICAgICAgICAgICAgICAgIGNsYXNzTmFtZT0icHgtMyBweS0xIGJnLWJsdWUtNTAwIHRleHQtd2hpdGUgcm91bmRlZCBob3ZlcjpiZy1ibHVlLTYwMCI+CiAgICAgICAgICAgICAgICAgIMOaaiBUw7ZtYgogICAgICAgICAgICAgICAgPC9idXR0b24+CiAgICAgICAgICAgICAgICA8YnV0dG9uCiAgICAgICAgICAgICAgICAgIG9uQ2xpY2s9e3Jlc2V0RGVtb30KICAgICAgICAgICAgICAgICAgY2xhc3NOYW1lPSJweC0zIHB5LTEgYmctZ3JheS01MDAgdGV4dC13aGl0ZSByb3VuZGVkIGhvdmVyOmJnLWdyYXktNjAwIj4KICAgICAgICAgICAgICAgICAgw5pqcmFpbmTDrXTDoXMKICAgICAgICAgICAgICAgIDwvYnV0dG9uPgogICAgICAgICAgICAgIDwvZGl2PgoKICAgICAgICAgICAgICA8ZGl2IGNsYXNzTmFtZT0iZmxleCBzcGFjZS14LTIiPgogICAgICAgICAgICAgICAgPGJ1dHRvbgogICAgICAgICAgICAgICAgICBvbkNsaWNrPXtzdGVwQmFja3dhcmR9CiAgICAgICAgICAgICAgICAgIGRpc2FibGVkPXtoaXN0b3J5SW5kZXggPD0gMH0KICAgICAgICAgICAgICAgICAgY2xhc3NOYW1lPXtgcHgtMyBweS0xIHJvdW5kZWQgJHsKICAgICAgICAgICAgICAgICAgICBoaXN0b3J5SW5kZXggPD0gMAogICAgICAgICAgICAgICAgICAgICAgPyAnYmctZ3JheS0zMDAgY3Vyc29yLW5vdC1hbGxvd2VkJwogICAgICAgICAgICAgICAgICAgICAgOiAnYmctcHVycGxlLTUwMCB0ZXh0LXdoaXRlIGhvdmVyOmJnLXB1cnBsZS02MDAnCiAgICAgICAgICAgICAgICAgIH1gfT4KICAgICAgICAgICAgICAgICAg4peACiAgICAgICAgICAgICAgICA8L2J1dHRvbj4KCiAgICAgICAgICAgICAgICB7YXV0b1BsYXkgPyAoCiAgICAgICAgICAgICAgICAgIDxidXR0b24KICAgICAgICAgICAgICAgICAgICBvbkNsaWNrPXtwYXVzZVNvcnRpbmd9CiAgICAgICAgICAgICAgICAgICAgY2xhc3NOYW1lPSJweC0zIHB5LTEgYmcteWVsbG93LTUwMCB0ZXh0LXdoaXRlIHJvdW5kZWQgaG92ZXI6YmcteWVsbG93LTYwMCI+CiAgICAgICAgICAgICAgICAgICAgU3rDvG5ldAogICAgICAgICAgICAgICAgICA8L2J1dHRvbj4KICAgICAgICAgICAgICAgICkgOiAoCiAgICAgICAgICAgICAgICAgIDxidXR0b24KICAgICAgICAgICAgICAgICAgICBvbkNsaWNrPXtzdGFydFNvcnRpbmd9CiAgICAgICAgICAgICAgICAgICAgZGlzYWJsZWQ9e3NvcnRlZH0KICAgICAgICAgICAgICAgICAgICBjbGFzc05hbWU9e2BweC0zIHB5LTEgcm91bmRlZCAkewogICAgICAgICAgICAgICAgICAgICAgc29ydGVkCiAgICAgICAgICAgICAgICAgICAgICAgID8gJ2JnLWdyYXktMzAwIGN1cnNvci1ub3QtYWxsb3dlZCcKICAgICAgICAgICAgICAgICAgICAgICAgOiAnYmctZ3JlZW4tNTAwIHRleHQtd2hpdGUgaG92ZXI6YmctZ3JlZW4tNjAwJwogICAgICAgICAgICAgICAgICAgIH1gfT4KICAgICAgICAgICAgICAgICAgICBJbmTDrXTDoXMKICAgICAgICAgICAgICAgICAgPC9idXR0b24+CiAgICAgICAgICAgICAgICApfQoKICAgICAgICAgICAgICAgIDxidXR0b24KICAgICAgICAgICAgICAgICAgb25DbGljaz17YnViYmxlU29ydFN0ZXB9CiAgICAgICAgICAgICAgICAgIGRpc2FibGVkPXtzb3J0ZWR9CiAgICAgICAgICAgICAgICAgIGNsYXNzTmFtZT17YHB4LTMgcHktMSByb3VuZGVkICR7CiAgICAgICAgICAgICAgICAgICAgc29ydGVkCiAgICAgICAgICAgICAgICAgICAgICA/ICdiZy1ncmF5LTMwMCBjdXJzb3Itbm90LWFsbG93ZWQnCiAgICAgICAgICAgICAgICAgICAgICA6ICdiZy10ZWFsLTUwMCB0ZXh0LXdoaXRlIGhvdmVyOmJnLXRlYWwtNjAwJwogICAgICAgICAgICAgICAgICB9YH0+CiAgICAgICAgICAgICAgICAgIEzDqXDDqXMKICAgICAgICAgICAgICAgIDwvYnV0dG9uPgoKICAgICAgICAgICAgICAgIDxidXR0b24KICAgICAgICAgICAgICAgICAgb25DbGljaz17c3RlcEZvcndhcmR9CiAgICAgICAgICAgICAgICAgIGRpc2FibGVkPXtzb3J0ZWQgJiYgaGlzdG9yeUluZGV4ID49IGhpc3RvcnkubGVuZ3RoIC0gMX0KICAgICAgICAgICAgICAgICAgY2xhc3NOYW1lPXtgcHgtMyBweS0xIHJvdW5kZWQgJHsKICAgICAgICAgICAgICAgICAgICBzb3J0ZWQgJiYgaGlzdG9yeUluZGV4ID49IGhpc3RvcnkubGVuZ3RoIC0gMQogICAgICAgICAgICAgICAgICAgICAgPyAnYmctZ3JheS0zMDAgY3Vyc29yLW5vdC1hbGxvd2VkJwogICAgICAgICAgICAgICAgICAgICAgOiAnYmctcHVycGxlLTUwMCB0ZXh0LXdoaXRlIGhvdmVyOmJnLXB1cnBsZS02MDAnCiAgICAgICAgICAgICAgICAgIH1gfT4KICAgICAgICAgICAgICAgICAg4pa2CiAgICAgICAgICAgICAgICA8L2J1dHRvbj4KICAgICAgICAgICAgICA8L2Rpdj4KCiAgICAgICAgICAgICAgPGRpdiBjbGFzc05hbWU9ImZsZXggaXRlbXMtY2VudGVyIj4KICAgICAgICAgICAgICAgIDxzcGFuIGNsYXNzTmFtZT0ibXItMiB0ZXh0LXNtIj5TZWJlc3PDqWc6PC9zcGFuPgogICAgICAgICAgICAgICAgPGlucHV0CiAgICAgICAgICAgICAgICAgIHR5cGU9InJhbmdlIgogICAgICAgICAgICAgICAgICBtaW49IjUwIgogICAgICAgICAgICAgICAgICBtYXg9IjEwMDAiCiAgICAgICAgICAgICAgICAgIHN0ZXA9IjUwIgogICAgICAgICAgICAgICAgICB2YWx1ZT17MTA1MCAtIHNwZWVkfQogICAgICAgICAgICAgICAgICBvbkNoYW5nZT17KGUpID0+IHNldFNwZWVkKDEwNTAgLSBwYXJzZUludChlLnRhcmdldC52YWx1ZSkpfQogICAgICAgICAgICAgICAgICBjbGFzc05hbWU9InctMjQiCiAgICAgICAgICAgICAgICAvPgogICAgICAgICAgICAgIDwvZGl2PgogICAgICAgICAgICA8L2Rpdj4KCiAgICAgICAgICAgIDxkaXYgY2xhc3NOYW1lPSJncmlkIGdyaWQtY29scy0zIGdhcC00IHRleHQtY2VudGVyIGJnLXdoaXRlIHAtMiByb3VuZGVkIHNoYWRvdyI+CiAgICAgICAgICAgICAgPGRpdj4KICAgICAgICAgICAgICAgIDxwIGNsYXNzTmFtZT0idGV4dC1zbSBmb250LXNlbWlib2xkIj4KICAgICAgICAgICAgICAgICAgw4F0ZnV0w6FzOiA8c3BhbiBjbGFzc05hbWU9InRleHQtYmx1ZS02MDAiPntwYXNzfTwvc3Bhbj4KICAgICAgICAgICAgICAgIDwvcD4KICAgICAgICAgICAgICA8L2Rpdj4KICAgICAgICAgICAgICA8ZGl2PgogICAgICAgICAgICAgICAgPHAgY2xhc3NOYW1lPSJ0ZXh0LXNtIGZvbnQtc2VtaWJvbGQiPgogICAgICAgICAgICAgICAgICDDlnNzemVoYXNvbmzDrXTDoXNvazp7JyAnfQogICAgICAgICAgICAgICAgICA8c3BhbiBjbGFzc05hbWU9InRleHQtYmx1ZS02MDAiPntjb21wYXJpc29uc308L3NwYW4+CiAgICAgICAgICAgICAgICA8L3A+CiAgICAgICAgICAgICAgPC9kaXY+CiAgICAgICAgICAgICAgPGRpdj4KICAgICAgICAgICAgICAgIDxwIGNsYXNzTmFtZT0idGV4dC1zbSBmb250LXNlbWlib2xkIj4KICAgICAgICAgICAgICAgICAgQ3NlcsOpazogPHNwYW4gY2xhc3NOYW1lPSJ0ZXh0LWdyZWVuLTYwMCI+e3N3YXBzfTwvc3Bhbj4KICAgICAgICAgICAgICAgIDwvcD4KICAgICAgICAgICAgICA8L2Rpdj4KICAgICAgICAgICAgICA8ZGl2IGNsYXNzTmFtZT0iY29sLXNwYW4tMyBtdC0yIj4KICAgICAgICAgICAgICAgIDxkaXYgY2xhc3NOYW1lPSJmbGV4IGp1c3RpZnktY2VudGVyIHNwYWNlLXgtNCI+CiAgICAgICAgICAgICAgICAgIDxkaXYgY2xhc3NOYW1lPSJmbGV4IGl0ZW1zLWNlbnRlciI+CiAgICAgICAgICAgICAgICAgICAgPGRpdiBjbGFzc05hbWU9InctNCBoLTQgYmctcmVkLTUwMCBtci0xIj48L2Rpdj4KICAgICAgICAgICAgICAgICAgICA8c3BhbiBjbGFzc05hbWU9InRleHQteHMiPsOWc3N6ZWhhc29ubMOtdMOhczwvc3Bhbj4KICAgICAgICAgICAgICAgICAgPC9kaXY+CiAgICAgICAgICAgICAgICAgIDxkaXYgY2xhc3NOYW1lPSJmbGV4IGl0ZW1zLWNlbnRlciI+CiAgICAgICAgICAgICAgICAgICAgPGRpdiBjbGFzc05hbWU9InctNCBoLTQgYmctZ3JlZW4tMzAwIG1yLTEiPjwvZGl2PgogICAgICAgICAgICAgICAgICAgIDxzcGFuIGNsYXNzTmFtZT0idGV4dC14cyI+SGVseWJlbiByZW5kZXpldHQ8L3NwYW4+CiAgICAgICAgICAgICAgICAgIDwvZGl2PgogICAgICAgICAgICAgICAgICA8ZGl2IGNsYXNzTmFtZT0iZmxleCBpdGVtcy1jZW50ZXIiPgogICAgICAgICAgICAgICAgICAgIDxkaXYgY2xhc3NOYW1lPSJ3LTQgaC00IGJnLWdyZWVuLTUwMCBtci0xIj48L2Rpdj4KICAgICAgICAgICAgICAgICAgICA8c3BhbiBjbGFzc05hbWU9InRleHQteHMiPlRlbGplc2VuIHJlbmRlemV0dDwvc3Bhbj4KICAgICAgICAgICAgICAgICAgPC9kaXY+CiAgICAgICAgICAgICAgICA8L2Rpdj4KICAgICAgICAgICAgICA8L2Rpdj4KICAgICAgICAgICAgPC9kaXY+CiAgICAgICAgICA8L2Rpdj4KICAgICAgICApOwogICAgICB9CiAgICAgIGNvbnN0IHJvb3QgPSBSZWFjdERPTS5jcmVhdGVSb290KGRvY3VtZW50LmdldEVsZW1lbnRCeUlkKCdyb290JykpOwogICAgICByb290LnJlbmRlcig8QnViYmxlU29ydFZpc3VhbGl6YXRpb24gLz4pOwogICAgPC9zY3JpcHQ+CiAgPC9ib2R5Pgo8L2h0bWw+Cg==\" width=\"100%\" height=\"750px\" frameborder=\"0\" sandbox=\"allow-scripts allow-same-origin\"></iframe>"
                        ],
                        "text/plain": [
                            "<IPython.core.display.HTML object>"
                        ]
                    },
                    "execution_count": 6,
                    "metadata": {},
                    "output_type": "execute_result"
                }
            ],
            "source": [
                "from IPython.display import HTML\n",
                "import base64\n",
                "\n",
                "with open(\"./bubble-sort.html\", \"rb\") as f:\n",
                "    encoded = base64.b64encode(f.read()).decode()\n",
                "\n",
                "HTML(\n",
                "    f'<iframe src=\"data:text/html;base64,{encoded}\" width=\"100%\" height=\"750px\" frameborder=\"0\" sandbox=\"allow-scripts allow-same-origin\"></iframe>'\n",
                ")"
            ]
        },
        {
            "cell_type": "markdown",
            "id": "selection_sort_md",
            "metadata": {},
            "source": [
                "#### Rendezés közvetlen kiválasztással (Selection Sort)\n",
                "\n",
                "Minden lépésben megkeresi a lista még rendezetlen részének legkisebb elemét, és kicseréli azt a rendezetlen rész első elemével.\n"
            ]
        },
        {
            "cell_type": "code",
            "execution_count": 43,
            "id": "selection_sort_code",
            "metadata": {},
            "outputs": [
                {
                    "name": "stdout",
                    "output_type": "stream",
                    "text": [
                        "Eredeti lista: [3, 4, 1, 5, 6, 2]\n",
                        "1. lépés után (min=1): [1, 4, 3, 5, 6, 2]\n",
                        "2. lépés után (min=2): [1, 2, 3, 5, 6, 4]\n",
                        "3. lépés után (min=3): [1, 2, 3, 5, 6, 4]\n",
                        "4. lépés után (min=4): [1, 2, 3, 4, 6, 5]\n",
                        "5. lépés után (min=5): [1, 2, 3, 4, 5, 6]\n",
                        "Rendezett lista (Selection Sort): [1, 2, 3, 4, 5, 6]\n"
                    ]
                }
            ],
            "source": [
                "# Eredeti lista definiálása\n",
                "list_to_sort_selection = [3, 4, 1, 5, 6, 2]\n",
                "n = len(list_to_sort_selection)\n",
                "print(f\"Eredeti lista: {list_to_sort_selection}\")\n",
                "\n",
                "# Végigmegyünk a listán (az utolsó elemet már nem kell nézni)\n",
                "for i in range(n - 1):\n",
                "    # Megkeressük a legkisebb elem indexét a maradék listában (i-től kezdve)\n",
                "    min_index = i\n",
                "    for j in range(i + 1, n):\n",
                "        if list_to_sort_selection[j] < list_to_sort_selection[min_index]:\n",
                "            min_index = j\n",
                "\n",
                "    # Ha a talált legkisebb elem nem az i-edik helyen van, cserélünk\n",
                "    if min_index != i:\n",
                "        list_to_sort_selection[i], list_to_sort_selection[min_index] = (\n",
                "            list_to_sort_selection[min_index],\n",
                "            list_to_sort_selection[i],\n",
                "        )\n",
                "    print(\n",
                "        f\"{i+1}. lépés után (min={list_to_sort_selection[i]}): {list_to_sort_selection}\"\n",
                "    )\n",
                "\n",
                "print(f\"Rendezett lista (Selection Sort): {list_to_sort_selection}\")"
            ]
        },
        {
            "cell_type": "markdown",
            "id": "e229c740",
            "metadata": {},
            "source": [
                "Futtassuk a következő cellát egy interaktív vizualizációhoz:\n"
            ]
        },
        {
            "cell_type": "code",
            "execution_count": 7,
            "id": "55344c33",
            "metadata": {},
            "outputs": [
                {
                    "data": {
                        "text/html": [
                            "<iframe src=\"data:text/html;base64,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\" width=\"100%\" height=\"750px\" frameborder=\"0\" sandbox=\"allow-scripts allow-same-origin\"></iframe>"
                        ],
                        "text/plain": [
                            "<IPython.core.display.HTML object>"
                        ]
                    },
                    "execution_count": 7,
                    "metadata": {},
                    "output_type": "execute_result"
                }
            ],
            "source": [
                "from IPython.display import HTML\n",
                "import base64\n",
                "\n",
                "with open(\"./selection-sort.html\", \"rb\") as f:\n",
                "    encoded = base64.b64encode(f.read()).decode()\n",
                "\n",
                "HTML(\n",
                "    f'<iframe src=\"data:text/html;base64,{encoded}\" width=\"100%\" height=\"750px\" frameborder=\"0\" sandbox=\"allow-scripts allow-same-origin\"></iframe>'\n",
                ")"
            ]
        },
        {
            "cell_type": "markdown",
            "id": "6fb65b80",
            "metadata": {},
            "source": [
                "Érdekességképp megemlítendő még az össszefésülő rendezés (merge sort):\n"
            ]
        },
        {
            "cell_type": "code",
            "execution_count": null,
            "id": "7ccf7935",
            "metadata": {},
            "outputs": [
                {
                    "name": "stderr",
                    "output_type": "stream",
                    "text": [
                        "/opt/homebrew/Caskroom/miniforge/base/lib/python3.9/site-packages/IPython/core/display.py:431: UserWarning: Consider using IPython.display.IFrame instead\n",
                        "  warnings.warn(\"Consider using IPython.display.IFrame instead\")\n"
                    ]
                },
                {
                    "data": {
                        "text/html": [
                            "<iframe src=\"data:text/html;base64,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\" style=\"height:850px;width:100%\"  height=\"850px\" frameborder=\"0\" sandbox=\"allow-scripts allow-same-origin\"></iframe>"
                        ],
                        "text/plain": [
                            "<IPython.core.display.HTML object>"
                        ]
                    },
                    "execution_count": 8,
                    "metadata": {},
                    "output_type": "execute_result"
                }
            ],
            "source": [
                "from IPython.display import HTML\n",
                "import base64\n",
                "\n",
                "with open(\"./merge-sort.html\", \"rb\") as f:\n",
                "    encoded = base64.b64encode(f.read()).decode()\n",
                "\n",
                "HTML(\n",
                "    f'<iframe src=\"data:text/html;base64,{encoded}\" style=\"height:850px;width:100%\" frameborder=\"0\" sandbox=\"allow-scripts allow-same-origin\"></iframe>'\n",
                ")"
            ]
        },
        {
            "cell_type": "markdown",
            "id": "binary_search_md",
            "metadata": {},
            "source": [
                "### Bináris keresés (rendezett listában)\n",
                "\n",
                "Hatékony keresési algoritmus, amely **csak rendezett** listákon/tömbökön működik. Ismételten megfelezi a keresési intervallumot.\n",
                "\n",
                "**_Tanári jegyzet:_** _Ez egy klasszikus O(log n) algoritmus. Fontos hangsúlyozni a rendezettség előfeltételét._\n"
            ]
        },
        {
            "cell_type": "code",
            "execution_count": null,
            "id": "binary_search_code",
            "metadata": {},
            "outputs": [
                {
                    "name": "stdout",
                    "output_type": "stream",
                    "text": [
                        "Rendezett lista: [1, 7, 8, 9, 16, 17, 23, 23, 23, 25, 25, 26, 27, 27, 28, 28, 31, 39, 42, 49]\n",
                        "Keresett elem: 27\n",
                        "Próba 1: Közép index 9, érték 25. A keresett elem nagyobb.\n",
                        "Próba 2: Közép index 14, érték 28. A keresett elem kisebb.\n",
                        "Próba 3: Közép index 11, érték 26. A keresett elem nagyobb.\n",
                        "Próba 4: Közép index 12, érték 27. Elem megtalálva!\n",
                        "A(z) 27 elem indexe: 12. Próbálkozások száma: 4.\n"
                    ]
                }
            ],
            "source": [
                "# Készítsünk egy véletlenszerű, majd rendezett listát\n",
                "num_elements = 20\n",
                "random_list_bs = [\n",
                "    random.randint(0, 50) for _ in range(num_elements)\n",
                "]  # ha a random nem található, futtassuk a Notebook első celláját\n",
                "sorted_list_bs = sorted(random_list_bs)\n",
                "print(f\"Rendezett lista: {sorted_list_bs}\")\n",
                "\n",
                "# Ezt a számot keressük\n",
                "target_value = random.choice(sorted_list_bs)  # Válasszunk egy elemet a listából\n",
                "print(f\"Keresett elem: {target_value}\")\n",
                "\n",
                "# Binary search algoritmus (függvény nélkül)\n",
                "low = 0\n",
                "high = len(sorted_list_bs) - 1\n",
                "trials = 0\n",
                "target_index = -1  # Alapértelmezetten nincs találat\n",
                "\n",
                "while low <= high:\n",
                "    trials += 1\n",
                "    mid_index = (low + high) // 2\n",
                "    mid_value = sorted_list_bs[mid_index]\n",
                "\n",
                "    print(f\"Próba {trials}: Közép index {mid_index}, érték {mid_value}.\", end=\" \")\n",
                "\n",
                "    if mid_value == target_value:\n",
                "        target_index = mid_index\n",
                "        print(\"Elem megtalálva!\")\n",
                "        break  # Megvan az elem, kilépünk\n",
                "    elif mid_value < target_value:\n",
                "        # Ha a középső elem kisebb, a jobb oldali részben keresünk tovább\n",
                "        low = mid_index + 1\n",
                "        print(\"A keresett elem nagyobb.\")\n",
                "    else:  # mid_value > target_value\n",
                "        # Ha a középső elem nagyobb, a bal oldali részben keresünk tovább\n",
                "        high = mid_index - 1\n",
                "        print(\"A keresett elem kisebb.\")\n",
                "\n",
                "# A ciklus után vagy megtaláltuk (target_index != -1), vagy nem (target_index == -1)\n",
                "if target_index != -1:\n",
                "    print(\n",
                "        f\"A(z) {target_value} elem indexe: {target_index}. Próbálkozások száma: {trials}.\"\n",
                "    )\n",
                "else:\n",
                "    print(\n",
                "        f\"A(z) {target_value} elem nem található a listában. Próbálkozások száma: {trials}.\"\n",
                "    )"
            ]
        },
        {
            "cell_type": "markdown",
            "id": "7c8e62ec",
            "metadata": {},
            "source": [
                "Futtassuk a következő cellát egy interaktív vizualizációhoz:\n"
            ]
        },
        {
            "cell_type": "code",
            "execution_count": 5,
            "id": "62f0b275",
            "metadata": {},
            "outputs": [
                {
                    "data": {
                        "text/html": [
                            "<iframe src=\"data:text/html;base64,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\" width=\"100%\" height=\"700px\" frameborder=\"0\" sandbox=\"allow-scripts allow-same-origin\"></iframe>"
                        ],
                        "text/plain": [
                            "<IPython.core.display.HTML object>"
                        ]
                    },
                    "execution_count": 5,
                    "metadata": {},
                    "output_type": "execute_result"
                }
            ],
            "source": [
                "from IPython.display import HTML\n",
                "import base64\n",
                "\n",
                "with open(\"./bisection-search.html\", \"rb\") as f:\n",
                "    encoded = base64.b64encode(f.read()).decode()\n",
                "\n",
                "HTML(\n",
                "    f'<iframe src=\"data:text/html;base64,{encoded}\" width=\"100%\" height=\"700px\" frameborder=\"0\" sandbox=\"allow-scripts allow-same-origin\"></iframe>'\n",
                ")"
            ]
        },
        {
            "cell_type": "markdown",
            "id": "prime_check_md",
            "metadata": {},
            "source": [
                "### Prímszám ellenőrzés\n"
            ]
        },
        {
            "cell_type": "code",
            "execution_count": 48,
            "id": "prime_check_code",
            "metadata": {},
            "outputs": [
                {
                    "name": "stdout",
                    "output_type": "stream",
                    "text": [
                        "91239846789312677 prím? Nem\n",
                        "Legkisebb nem triviális osztó: 23\n"
                    ]
                }
            ],
            "source": [
                "number_to_check = 91239846789312677\n",
                "\n",
                "# 1 és alatta nem prím\n",
                "if number_to_check <= 1:\n",
                "    prime_status = False\n",
                "    smallest_divisor = None\n",
                "else:\n",
                "    prime_status = True\n",
                "    smallest_divisor = None\n",
                "    # Ellenőrizzük az összes lehetséges osztót 2-től a szám gyökéig\n",
                "    limit = int(number_to_check**0.5)\n",
                "    for i in range(2, limit + 1):\n",
                "        if number_to_check % i == 0:\n",
                "            prime_status = False\n",
                "            smallest_divisor = i\n",
                "            break\n",
                "\n",
                "print(f\"{number_to_check} prím? {'Igen' if prime_status else 'Nem'}\")\n",
                "if not prime_status:\n",
                "    print(f\"Legkisebb nem triviális osztó: {smallest_divisor}\")"
            ]
        }
    ],
    "metadata": {
        "kernelspec": {
            "display_name": "base",
            "language": "python",
            "name": "python3"
        },
        "language_info": {
            "codemirror_mode": {
                "name": "ipython",
                "version": 3
            },
            "file_extension": ".py",
            "mimetype": "text/x-python",
            "name": "python",
            "nbconvert_exporter": "python",
            "pygments_lexer": "ipython3",
            "version": "3.9.16"
        }
    },
    "nbformat": 4,
    "nbformat_minor": 5
}
